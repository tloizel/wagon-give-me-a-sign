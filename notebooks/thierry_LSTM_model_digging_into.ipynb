{
 "cells": [
  {
   "cell_type": "code",
   "execution_count": 1,
   "id": "ff1fa694",
   "metadata": {},
   "outputs": [],
   "source": [
    "import numpy as np\n",
    "import pandas as pd"
   ]
  },
  {
   "cell_type": "code",
   "execution_count": 14,
   "id": "165460a1",
   "metadata": {},
   "outputs": [],
   "source": [
    "#import tensorflow as tf\n",
    "#import numpy as np\n",
    "\n",
    "#import matplotlib.pyplot as plt\n",
    "\n",
    "#from tensorflow.keras.backend import expand_dims\n",
    "\n",
    "#from tensorflow.keras.models import Sequential\n",
    "#from tensorflow.keras.layers import Dense, SimpleRNN, Flatten, LSTM\n",
    "\n",
    "#from tensorflow.keras.models import Sequential\n",
    "#from tensorflow.keras.optimizers import Adam\n",
    "#from tensorflow.keras import layers\n",
    "\n",
    "#from tensorflow.keras.optimizers import RMSprop"
   ]
  },
  {
   "cell_type": "code",
   "execution_count": 5,
   "id": "1a1adfe6",
   "metadata": {},
   "outputs": [
    {
     "name": "stdout",
     "output_type": "stream",
     "text": [
      "wagon-give-me-a-sign test_dataset.test26\n"
     ]
    },
    {
     "data": {
      "text/html": [
       "<div>\n",
       "<style scoped>\n",
       "    .dataframe tbody tr th:only-of-type {\n",
       "        vertical-align: middle;\n",
       "    }\n",
       "\n",
       "    .dataframe tbody tr th {\n",
       "        vertical-align: top;\n",
       "    }\n",
       "\n",
       "    .dataframe thead th {\n",
       "        text-align: right;\n",
       "    }\n",
       "</style>\n",
       "<table border=\"1\" class=\"dataframe\">\n",
       "  <thead>\n",
       "    <tr style=\"text-align: right;\">\n",
       "      <th></th>\n",
       "      <th>x_0</th>\n",
       "      <th>y_0</th>\n",
       "      <th>z_0</th>\n",
       "      <th>x_1</th>\n",
       "      <th>y_1</th>\n",
       "      <th>z_1</th>\n",
       "      <th>x_2</th>\n",
       "      <th>y_2</th>\n",
       "      <th>z_2</th>\n",
       "      <th>x_3</th>\n",
       "      <th>...</th>\n",
       "      <th>x_18</th>\n",
       "      <th>y_18</th>\n",
       "      <th>z_18</th>\n",
       "      <th>x_19</th>\n",
       "      <th>y_19</th>\n",
       "      <th>z_19</th>\n",
       "      <th>x_20</th>\n",
       "      <th>y_20</th>\n",
       "      <th>z_20</th>\n",
       "      <th>target</th>\n",
       "    </tr>\n",
       "  </thead>\n",
       "  <tbody>\n",
       "    <tr>\n",
       "      <th>0</th>\n",
       "      <td>0.0</td>\n",
       "      <td>0.0</td>\n",
       "      <td>0.0</td>\n",
       "      <td>0.068996</td>\n",
       "      <td>-0.001794</td>\n",
       "      <td>-0.026495</td>\n",
       "      <td>0.129794</td>\n",
       "      <td>-0.049328</td>\n",
       "      <td>-0.037758</td>\n",
       "      <td>0.157946</td>\n",
       "      <td>...</td>\n",
       "      <td>0.015763</td>\n",
       "      <td>-0.236859</td>\n",
       "      <td>-0.053696</td>\n",
       "      <td>0.014897</td>\n",
       "      <td>-0.160986</td>\n",
       "      <td>-0.042879</td>\n",
       "      <td>0.003309</td>\n",
       "      <td>-0.143430</td>\n",
       "      <td>-0.028293</td>\n",
       "      <td>a</td>\n",
       "    </tr>\n",
       "    <tr>\n",
       "      <th>1</th>\n",
       "      <td>0.0</td>\n",
       "      <td>0.0</td>\n",
       "      <td>0.0</td>\n",
       "      <td>0.084189</td>\n",
       "      <td>-0.004527</td>\n",
       "      <td>-0.035077</td>\n",
       "      <td>0.159894</td>\n",
       "      <td>-0.063521</td>\n",
       "      <td>-0.049802</td>\n",
       "      <td>0.195749</td>\n",
       "      <td>...</td>\n",
       "      <td>0.022846</td>\n",
       "      <td>-0.301951</td>\n",
       "      <td>-0.067628</td>\n",
       "      <td>0.019003</td>\n",
       "      <td>-0.205834</td>\n",
       "      <td>-0.053242</td>\n",
       "      <td>0.004331</td>\n",
       "      <td>-0.182658</td>\n",
       "      <td>-0.034498</td>\n",
       "      <td>a</td>\n",
       "    </tr>\n",
       "    <tr>\n",
       "      <th>2</th>\n",
       "      <td>0.0</td>\n",
       "      <td>0.0</td>\n",
       "      <td>0.0</td>\n",
       "      <td>0.081866</td>\n",
       "      <td>0.003673</td>\n",
       "      <td>-0.039060</td>\n",
       "      <td>0.166663</td>\n",
       "      <td>-0.060628</td>\n",
       "      <td>-0.056427</td>\n",
       "      <td>0.204637</td>\n",
       "      <td>...</td>\n",
       "      <td>0.011525</td>\n",
       "      <td>-0.315707</td>\n",
       "      <td>-0.082841</td>\n",
       "      <td>0.011519</td>\n",
       "      <td>-0.209255</td>\n",
       "      <td>-0.069801</td>\n",
       "      <td>-0.000003</td>\n",
       "      <td>-0.184926</td>\n",
       "      <td>-0.051607</td>\n",
       "      <td>a</td>\n",
       "    </tr>\n",
       "    <tr>\n",
       "      <th>3</th>\n",
       "      <td>0.0</td>\n",
       "      <td>0.0</td>\n",
       "      <td>0.0</td>\n",
       "      <td>0.072380</td>\n",
       "      <td>0.001230</td>\n",
       "      <td>-0.018210</td>\n",
       "      <td>0.133630</td>\n",
       "      <td>-0.037806</td>\n",
       "      <td>-0.024918</td>\n",
       "      <td>0.162663</td>\n",
       "      <td>...</td>\n",
       "      <td>0.032818</td>\n",
       "      <td>-0.254179</td>\n",
       "      <td>-0.044583</td>\n",
       "      <td>0.030884</td>\n",
       "      <td>-0.179450</td>\n",
       "      <td>-0.034737</td>\n",
       "      <td>0.014321</td>\n",
       "      <td>-0.144736</td>\n",
       "      <td>-0.021350</td>\n",
       "      <td>a</td>\n",
       "    </tr>\n",
       "    <tr>\n",
       "      <th>4</th>\n",
       "      <td>0.0</td>\n",
       "      <td>0.0</td>\n",
       "      <td>0.0</td>\n",
       "      <td>0.087307</td>\n",
       "      <td>-0.013774</td>\n",
       "      <td>-0.015136</td>\n",
       "      <td>0.145934</td>\n",
       "      <td>-0.070759</td>\n",
       "      <td>-0.021705</td>\n",
       "      <td>0.181889</td>\n",
       "      <td>...</td>\n",
       "      <td>0.044853</td>\n",
       "      <td>-0.331586</td>\n",
       "      <td>-0.057311</td>\n",
       "      <td>0.039559</td>\n",
       "      <td>-0.234893</td>\n",
       "      <td>-0.044078</td>\n",
       "      <td>0.012328</td>\n",
       "      <td>-0.194194</td>\n",
       "      <td>-0.025516</td>\n",
       "      <td>a</td>\n",
       "    </tr>\n",
       "    <tr>\n",
       "      <th>...</th>\n",
       "      <td>...</td>\n",
       "      <td>...</td>\n",
       "      <td>...</td>\n",
       "      <td>...</td>\n",
       "      <td>...</td>\n",
       "      <td>...</td>\n",
       "      <td>...</td>\n",
       "      <td>...</td>\n",
       "      <td>...</td>\n",
       "      <td>...</td>\n",
       "      <td>...</td>\n",
       "      <td>...</td>\n",
       "      <td>...</td>\n",
       "      <td>...</td>\n",
       "      <td>...</td>\n",
       "      <td>...</td>\n",
       "      <td>...</td>\n",
       "      <td>...</td>\n",
       "      <td>...</td>\n",
       "      <td>...</td>\n",
       "      <td>...</td>\n",
       "    </tr>\n",
       "    <tr>\n",
       "      <th>625</th>\n",
       "      <td>0.0</td>\n",
       "      <td>0.0</td>\n",
       "      <td>0.0</td>\n",
       "      <td>0.058419</td>\n",
       "      <td>-0.030207</td>\n",
       "      <td>-0.015475</td>\n",
       "      <td>0.099631</td>\n",
       "      <td>-0.108319</td>\n",
       "      <td>-0.016353</td>\n",
       "      <td>0.097771</td>\n",
       "      <td>...</td>\n",
       "      <td>0.015726</td>\n",
       "      <td>-0.307548</td>\n",
       "      <td>-0.022291</td>\n",
       "      <td>0.024386</td>\n",
       "      <td>-0.356151</td>\n",
       "      <td>-0.029392</td>\n",
       "      <td>0.031174</td>\n",
       "      <td>-0.400676</td>\n",
       "      <td>-0.034954</td>\n",
       "      <td>b</td>\n",
       "    </tr>\n",
       "    <tr>\n",
       "      <th>626</th>\n",
       "      <td>0.0</td>\n",
       "      <td>0.0</td>\n",
       "      <td>0.0</td>\n",
       "      <td>0.060126</td>\n",
       "      <td>-0.017372</td>\n",
       "      <td>-0.013335</td>\n",
       "      <td>0.105420</td>\n",
       "      <td>-0.098992</td>\n",
       "      <td>-0.012475</td>\n",
       "      <td>0.108897</td>\n",
       "      <td>...</td>\n",
       "      <td>0.029067</td>\n",
       "      <td>-0.332348</td>\n",
       "      <td>-0.025400</td>\n",
       "      <td>0.040817</td>\n",
       "      <td>-0.387573</td>\n",
       "      <td>-0.033769</td>\n",
       "      <td>0.049316</td>\n",
       "      <td>-0.437535</td>\n",
       "      <td>-0.039949</td>\n",
       "      <td>b</td>\n",
       "    </tr>\n",
       "    <tr>\n",
       "      <th>627</th>\n",
       "      <td>0.0</td>\n",
       "      <td>0.0</td>\n",
       "      <td>0.0</td>\n",
       "      <td>0.070404</td>\n",
       "      <td>-0.006071</td>\n",
       "      <td>-0.017204</td>\n",
       "      <td>0.135407</td>\n",
       "      <td>-0.109200</td>\n",
       "      <td>-0.017203</td>\n",
       "      <td>0.149792</td>\n",
       "      <td>...</td>\n",
       "      <td>0.051218</td>\n",
       "      <td>-0.426427</td>\n",
       "      <td>-0.046215</td>\n",
       "      <td>0.069479</td>\n",
       "      <td>-0.499157</td>\n",
       "      <td>-0.057802</td>\n",
       "      <td>0.083838</td>\n",
       "      <td>-0.569521</td>\n",
       "      <td>-0.065745</td>\n",
       "      <td>b</td>\n",
       "    </tr>\n",
       "    <tr>\n",
       "      <th>628</th>\n",
       "      <td>0.0</td>\n",
       "      <td>0.0</td>\n",
       "      <td>0.0</td>\n",
       "      <td>0.068547</td>\n",
       "      <td>-0.012165</td>\n",
       "      <td>-0.014034</td>\n",
       "      <td>0.125481</td>\n",
       "      <td>-0.104795</td>\n",
       "      <td>-0.012689</td>\n",
       "      <td>0.135076</td>\n",
       "      <td>...</td>\n",
       "      <td>0.048240</td>\n",
       "      <td>-0.398056</td>\n",
       "      <td>-0.035419</td>\n",
       "      <td>0.063773</td>\n",
       "      <td>-0.464220</td>\n",
       "      <td>-0.046029</td>\n",
       "      <td>0.074907</td>\n",
       "      <td>-0.525973</td>\n",
       "      <td>-0.053582</td>\n",
       "      <td>b</td>\n",
       "    </tr>\n",
       "    <tr>\n",
       "      <th>629</th>\n",
       "      <td>0.0</td>\n",
       "      <td>0.0</td>\n",
       "      <td>0.0</td>\n",
       "      <td>0.064126</td>\n",
       "      <td>-0.020897</td>\n",
       "      <td>-0.023634</td>\n",
       "      <td>0.111174</td>\n",
       "      <td>-0.106944</td>\n",
       "      <td>-0.024843</td>\n",
       "      <td>0.109917</td>\n",
       "      <td>...</td>\n",
       "      <td>0.018873</td>\n",
       "      <td>-0.320796</td>\n",
       "      <td>-0.013422</td>\n",
       "      <td>0.030369</td>\n",
       "      <td>-0.371408</td>\n",
       "      <td>-0.024301</td>\n",
       "      <td>0.039568</td>\n",
       "      <td>-0.417912</td>\n",
       "      <td>-0.033064</td>\n",
       "      <td>b</td>\n",
       "    </tr>\n",
       "  </tbody>\n",
       "</table>\n",
       "<p>630 rows × 64 columns</p>\n",
       "</div>"
      ],
      "text/plain": [
       "     x_0  y_0  z_0       x_1       y_1       z_1       x_2       y_2  \\\n",
       "0    0.0  0.0  0.0  0.068996 -0.001794 -0.026495  0.129794 -0.049328   \n",
       "1    0.0  0.0  0.0  0.084189 -0.004527 -0.035077  0.159894 -0.063521   \n",
       "2    0.0  0.0  0.0  0.081866  0.003673 -0.039060  0.166663 -0.060628   \n",
       "3    0.0  0.0  0.0  0.072380  0.001230 -0.018210  0.133630 -0.037806   \n",
       "4    0.0  0.0  0.0  0.087307 -0.013774 -0.015136  0.145934 -0.070759   \n",
       "..   ...  ...  ...       ...       ...       ...       ...       ...   \n",
       "625  0.0  0.0  0.0  0.058419 -0.030207 -0.015475  0.099631 -0.108319   \n",
       "626  0.0  0.0  0.0  0.060126 -0.017372 -0.013335  0.105420 -0.098992   \n",
       "627  0.0  0.0  0.0  0.070404 -0.006071 -0.017204  0.135407 -0.109200   \n",
       "628  0.0  0.0  0.0  0.068547 -0.012165 -0.014034  0.125481 -0.104795   \n",
       "629  0.0  0.0  0.0  0.064126 -0.020897 -0.023634  0.111174 -0.106944   \n",
       "\n",
       "          z_2       x_3  ...      x_18      y_18      z_18      x_19  \\\n",
       "0   -0.037758  0.157946  ...  0.015763 -0.236859 -0.053696  0.014897   \n",
       "1   -0.049802  0.195749  ...  0.022846 -0.301951 -0.067628  0.019003   \n",
       "2   -0.056427  0.204637  ...  0.011525 -0.315707 -0.082841  0.011519   \n",
       "3   -0.024918  0.162663  ...  0.032818 -0.254179 -0.044583  0.030884   \n",
       "4   -0.021705  0.181889  ...  0.044853 -0.331586 -0.057311  0.039559   \n",
       "..        ...       ...  ...       ...       ...       ...       ...   \n",
       "625 -0.016353  0.097771  ...  0.015726 -0.307548 -0.022291  0.024386   \n",
       "626 -0.012475  0.108897  ...  0.029067 -0.332348 -0.025400  0.040817   \n",
       "627 -0.017203  0.149792  ...  0.051218 -0.426427 -0.046215  0.069479   \n",
       "628 -0.012689  0.135076  ...  0.048240 -0.398056 -0.035419  0.063773   \n",
       "629 -0.024843  0.109917  ...  0.018873 -0.320796 -0.013422  0.030369   \n",
       "\n",
       "         y_19      z_19      x_20      y_20      z_20  target  \n",
       "0   -0.160986 -0.042879  0.003309 -0.143430 -0.028293       a  \n",
       "1   -0.205834 -0.053242  0.004331 -0.182658 -0.034498       a  \n",
       "2   -0.209255 -0.069801 -0.000003 -0.184926 -0.051607       a  \n",
       "3   -0.179450 -0.034737  0.014321 -0.144736 -0.021350       a  \n",
       "4   -0.234893 -0.044078  0.012328 -0.194194 -0.025516       a  \n",
       "..        ...       ...       ...       ...       ...     ...  \n",
       "625 -0.356151 -0.029392  0.031174 -0.400676 -0.034954       b  \n",
       "626 -0.387573 -0.033769  0.049316 -0.437535 -0.039949       b  \n",
       "627 -0.499157 -0.057802  0.083838 -0.569521 -0.065745       b  \n",
       "628 -0.464220 -0.046029  0.074907 -0.525973 -0.053582       b  \n",
       "629 -0.371408 -0.024301  0.039568 -0.417912 -0.033064       b  \n",
       "\n",
       "[630 rows x 64 columns]"
      ]
     },
     "execution_count": 5,
     "metadata": {},
     "output_type": "execute_result"
    }
   ],
   "source": [
    "\n",
    "from google.cloud import bigquery\n",
    "from google.oauth2 import service_account\n",
    "import sys; sys.path.append('..')\n",
    "from params import PROJECT_ID, TABLE_ID\n",
    "\n",
    "print(PROJECT_ID, TABLE_ID)\n",
    "\n",
    "TABLE_ID = 'test_dataset.test10'\n",
    "\n",
    "credentials = service_account.Credentials.from_service_account_file(\"../bq_keys.json\")\n",
    "#credentials = service_account.Credentials.from_service_account_file('~//Users//admin/code//tloizel//wagon-give-me-a-sign//bq_keys.json')\n",
    "\n",
    "client = bigquery.Client(project=PROJECT_ID, credentials=credentials)\n",
    "table = client.get_table(TABLE_ID)\n",
    "\n",
    "\n",
    "# Construct the SQL query to retrieve the table data\n",
    "query = f'SELECT * FROM `{table}`'\n",
    "\n",
    "# Submit the query and fetch the results\n",
    "df = client.query(query).to_dataframe()\n",
    "df"
   ]
  },
  {
   "cell_type": "code",
   "execution_count": 6,
   "id": "5ad2bee9",
   "metadata": {},
   "outputs": [
    {
     "data": {
      "text/html": [
       "<div>\n",
       "<style scoped>\n",
       "    .dataframe tbody tr th:only-of-type {\n",
       "        vertical-align: middle;\n",
       "    }\n",
       "\n",
       "    .dataframe tbody tr th {\n",
       "        vertical-align: top;\n",
       "    }\n",
       "\n",
       "    .dataframe thead th {\n",
       "        text-align: right;\n",
       "    }\n",
       "</style>\n",
       "<table border=\"1\" class=\"dataframe\">\n",
       "  <thead>\n",
       "    <tr style=\"text-align: right;\">\n",
       "      <th></th>\n",
       "      <th>x_0</th>\n",
       "      <th>y_0</th>\n",
       "      <th>z_0</th>\n",
       "      <th>x_1</th>\n",
       "      <th>y_1</th>\n",
       "      <th>z_1</th>\n",
       "      <th>x_2</th>\n",
       "      <th>y_2</th>\n",
       "      <th>z_2</th>\n",
       "      <th>x_3</th>\n",
       "      <th>...</th>\n",
       "      <th>x_18</th>\n",
       "      <th>y_18</th>\n",
       "      <th>z_18</th>\n",
       "      <th>x_19</th>\n",
       "      <th>y_19</th>\n",
       "      <th>z_19</th>\n",
       "      <th>x_20</th>\n",
       "      <th>y_20</th>\n",
       "      <th>z_20</th>\n",
       "      <th>target</th>\n",
       "    </tr>\n",
       "  </thead>\n",
       "  <tbody>\n",
       "    <tr>\n",
       "      <th>0</th>\n",
       "      <td>0.0</td>\n",
       "      <td>0.0</td>\n",
       "      <td>0.0</td>\n",
       "      <td>0.068996</td>\n",
       "      <td>-0.001794</td>\n",
       "      <td>-0.026495</td>\n",
       "      <td>0.129794</td>\n",
       "      <td>-0.049328</td>\n",
       "      <td>-0.037758</td>\n",
       "      <td>0.157946</td>\n",
       "      <td>...</td>\n",
       "      <td>0.015763</td>\n",
       "      <td>-0.236859</td>\n",
       "      <td>-0.053696</td>\n",
       "      <td>0.014897</td>\n",
       "      <td>-0.160986</td>\n",
       "      <td>-0.042879</td>\n",
       "      <td>0.003309</td>\n",
       "      <td>-0.143430</td>\n",
       "      <td>-0.028293</td>\n",
       "      <td>a</td>\n",
       "    </tr>\n",
       "    <tr>\n",
       "      <th>1</th>\n",
       "      <td>0.0</td>\n",
       "      <td>0.0</td>\n",
       "      <td>0.0</td>\n",
       "      <td>0.084189</td>\n",
       "      <td>-0.004527</td>\n",
       "      <td>-0.035077</td>\n",
       "      <td>0.159894</td>\n",
       "      <td>-0.063521</td>\n",
       "      <td>-0.049802</td>\n",
       "      <td>0.195749</td>\n",
       "      <td>...</td>\n",
       "      <td>0.022846</td>\n",
       "      <td>-0.301951</td>\n",
       "      <td>-0.067628</td>\n",
       "      <td>0.019003</td>\n",
       "      <td>-0.205834</td>\n",
       "      <td>-0.053242</td>\n",
       "      <td>0.004331</td>\n",
       "      <td>-0.182658</td>\n",
       "      <td>-0.034498</td>\n",
       "      <td>a</td>\n",
       "    </tr>\n",
       "    <tr>\n",
       "      <th>2</th>\n",
       "      <td>0.0</td>\n",
       "      <td>0.0</td>\n",
       "      <td>0.0</td>\n",
       "      <td>0.081866</td>\n",
       "      <td>0.003673</td>\n",
       "      <td>-0.039060</td>\n",
       "      <td>0.166663</td>\n",
       "      <td>-0.060628</td>\n",
       "      <td>-0.056427</td>\n",
       "      <td>0.204637</td>\n",
       "      <td>...</td>\n",
       "      <td>0.011525</td>\n",
       "      <td>-0.315707</td>\n",
       "      <td>-0.082841</td>\n",
       "      <td>0.011519</td>\n",
       "      <td>-0.209255</td>\n",
       "      <td>-0.069801</td>\n",
       "      <td>-0.000003</td>\n",
       "      <td>-0.184926</td>\n",
       "      <td>-0.051607</td>\n",
       "      <td>a</td>\n",
       "    </tr>\n",
       "    <tr>\n",
       "      <th>3</th>\n",
       "      <td>0.0</td>\n",
       "      <td>0.0</td>\n",
       "      <td>0.0</td>\n",
       "      <td>0.072380</td>\n",
       "      <td>0.001230</td>\n",
       "      <td>-0.018210</td>\n",
       "      <td>0.133630</td>\n",
       "      <td>-0.037806</td>\n",
       "      <td>-0.024918</td>\n",
       "      <td>0.162663</td>\n",
       "      <td>...</td>\n",
       "      <td>0.032818</td>\n",
       "      <td>-0.254179</td>\n",
       "      <td>-0.044583</td>\n",
       "      <td>0.030884</td>\n",
       "      <td>-0.179450</td>\n",
       "      <td>-0.034737</td>\n",
       "      <td>0.014321</td>\n",
       "      <td>-0.144736</td>\n",
       "      <td>-0.021350</td>\n",
       "      <td>a</td>\n",
       "    </tr>\n",
       "    <tr>\n",
       "      <th>4</th>\n",
       "      <td>0.0</td>\n",
       "      <td>0.0</td>\n",
       "      <td>0.0</td>\n",
       "      <td>0.087307</td>\n",
       "      <td>-0.013774</td>\n",
       "      <td>-0.015136</td>\n",
       "      <td>0.145934</td>\n",
       "      <td>-0.070759</td>\n",
       "      <td>-0.021705</td>\n",
       "      <td>0.181889</td>\n",
       "      <td>...</td>\n",
       "      <td>0.044853</td>\n",
       "      <td>-0.331586</td>\n",
       "      <td>-0.057311</td>\n",
       "      <td>0.039559</td>\n",
       "      <td>-0.234893</td>\n",
       "      <td>-0.044078</td>\n",
       "      <td>0.012328</td>\n",
       "      <td>-0.194194</td>\n",
       "      <td>-0.025516</td>\n",
       "      <td>a</td>\n",
       "    </tr>\n",
       "  </tbody>\n",
       "</table>\n",
       "<p>5 rows × 64 columns</p>\n",
       "</div>"
      ],
      "text/plain": [
       "   x_0  y_0  z_0       x_1       y_1       z_1       x_2       y_2       z_2  \\\n",
       "0  0.0  0.0  0.0  0.068996 -0.001794 -0.026495  0.129794 -0.049328 -0.037758   \n",
       "1  0.0  0.0  0.0  0.084189 -0.004527 -0.035077  0.159894 -0.063521 -0.049802   \n",
       "2  0.0  0.0  0.0  0.081866  0.003673 -0.039060  0.166663 -0.060628 -0.056427   \n",
       "3  0.0  0.0  0.0  0.072380  0.001230 -0.018210  0.133630 -0.037806 -0.024918   \n",
       "4  0.0  0.0  0.0  0.087307 -0.013774 -0.015136  0.145934 -0.070759 -0.021705   \n",
       "\n",
       "        x_3  ...      x_18      y_18      z_18      x_19      y_19      z_19  \\\n",
       "0  0.157946  ...  0.015763 -0.236859 -0.053696  0.014897 -0.160986 -0.042879   \n",
       "1  0.195749  ...  0.022846 -0.301951 -0.067628  0.019003 -0.205834 -0.053242   \n",
       "2  0.204637  ...  0.011525 -0.315707 -0.082841  0.011519 -0.209255 -0.069801   \n",
       "3  0.162663  ...  0.032818 -0.254179 -0.044583  0.030884 -0.179450 -0.034737   \n",
       "4  0.181889  ...  0.044853 -0.331586 -0.057311  0.039559 -0.234893 -0.044078   \n",
       "\n",
       "       x_20      y_20      z_20  target  \n",
       "0  0.003309 -0.143430 -0.028293       a  \n",
       "1  0.004331 -0.182658 -0.034498       a  \n",
       "2 -0.000003 -0.184926 -0.051607       a  \n",
       "3  0.014321 -0.144736 -0.021350       a  \n",
       "4  0.012328 -0.194194 -0.025516       a  \n",
       "\n",
       "[5 rows x 64 columns]"
      ]
     },
     "execution_count": 6,
     "metadata": {},
     "output_type": "execute_result"
    }
   ],
   "source": [
    "df.head()"
   ]
  },
  {
   "cell_type": "code",
   "execution_count": 7,
   "id": "4a3fc59c",
   "metadata": {},
   "outputs": [
    {
     "data": {
      "text/html": [
       "<div>\n",
       "<style scoped>\n",
       "    .dataframe tbody tr th:only-of-type {\n",
       "        vertical-align: middle;\n",
       "    }\n",
       "\n",
       "    .dataframe tbody tr th {\n",
       "        vertical-align: top;\n",
       "    }\n",
       "\n",
       "    .dataframe thead th {\n",
       "        text-align: right;\n",
       "    }\n",
       "</style>\n",
       "<table border=\"1\" class=\"dataframe\">\n",
       "  <thead>\n",
       "    <tr style=\"text-align: right;\">\n",
       "      <th></th>\n",
       "      <th>x_0</th>\n",
       "      <th>y_0</th>\n",
       "      <th>z_0</th>\n",
       "      <th>x_1</th>\n",
       "      <th>y_1</th>\n",
       "      <th>z_1</th>\n",
       "      <th>x_2</th>\n",
       "      <th>y_2</th>\n",
       "      <th>z_2</th>\n",
       "      <th>x_3</th>\n",
       "      <th>...</th>\n",
       "      <th>z_17</th>\n",
       "      <th>x_18</th>\n",
       "      <th>y_18</th>\n",
       "      <th>z_18</th>\n",
       "      <th>x_19</th>\n",
       "      <th>y_19</th>\n",
       "      <th>z_19</th>\n",
       "      <th>x_20</th>\n",
       "      <th>y_20</th>\n",
       "      <th>z_20</th>\n",
       "    </tr>\n",
       "  </thead>\n",
       "  <tbody>\n",
       "    <tr>\n",
       "      <th>0</th>\n",
       "      <td>0.0</td>\n",
       "      <td>0.0</td>\n",
       "      <td>0.0</td>\n",
       "      <td>0.068996</td>\n",
       "      <td>-0.001794</td>\n",
       "      <td>-0.026495</td>\n",
       "      <td>0.129794</td>\n",
       "      <td>-0.049328</td>\n",
       "      <td>-0.037758</td>\n",
       "      <td>0.157946</td>\n",
       "      <td>...</td>\n",
       "      <td>-0.026416</td>\n",
       "      <td>0.015763</td>\n",
       "      <td>-0.236859</td>\n",
       "      <td>-0.053696</td>\n",
       "      <td>0.014897</td>\n",
       "      <td>-0.160986</td>\n",
       "      <td>-0.042879</td>\n",
       "      <td>0.003309</td>\n",
       "      <td>-0.143430</td>\n",
       "      <td>-0.028293</td>\n",
       "    </tr>\n",
       "    <tr>\n",
       "      <th>1</th>\n",
       "      <td>0.0</td>\n",
       "      <td>0.0</td>\n",
       "      <td>0.0</td>\n",
       "      <td>0.084189</td>\n",
       "      <td>-0.004527</td>\n",
       "      <td>-0.035077</td>\n",
       "      <td>0.159894</td>\n",
       "      <td>-0.063521</td>\n",
       "      <td>-0.049802</td>\n",
       "      <td>0.195749</td>\n",
       "      <td>...</td>\n",
       "      <td>-0.034393</td>\n",
       "      <td>0.022846</td>\n",
       "      <td>-0.301951</td>\n",
       "      <td>-0.067628</td>\n",
       "      <td>0.019003</td>\n",
       "      <td>-0.205834</td>\n",
       "      <td>-0.053242</td>\n",
       "      <td>0.004331</td>\n",
       "      <td>-0.182658</td>\n",
       "      <td>-0.034498</td>\n",
       "    </tr>\n",
       "    <tr>\n",
       "      <th>2</th>\n",
       "      <td>0.0</td>\n",
       "      <td>0.0</td>\n",
       "      <td>0.0</td>\n",
       "      <td>0.081866</td>\n",
       "      <td>0.003673</td>\n",
       "      <td>-0.039060</td>\n",
       "      <td>0.166663</td>\n",
       "      <td>-0.060628</td>\n",
       "      <td>-0.056427</td>\n",
       "      <td>0.204637</td>\n",
       "      <td>...</td>\n",
       "      <td>-0.044647</td>\n",
       "      <td>0.011525</td>\n",
       "      <td>-0.315707</td>\n",
       "      <td>-0.082841</td>\n",
       "      <td>0.011519</td>\n",
       "      <td>-0.209255</td>\n",
       "      <td>-0.069801</td>\n",
       "      <td>-0.000003</td>\n",
       "      <td>-0.184926</td>\n",
       "      <td>-0.051607</td>\n",
       "    </tr>\n",
       "    <tr>\n",
       "      <th>3</th>\n",
       "      <td>0.0</td>\n",
       "      <td>0.0</td>\n",
       "      <td>0.0</td>\n",
       "      <td>0.072380</td>\n",
       "      <td>0.001230</td>\n",
       "      <td>-0.018210</td>\n",
       "      <td>0.133630</td>\n",
       "      <td>-0.037806</td>\n",
       "      <td>-0.024918</td>\n",
       "      <td>0.162663</td>\n",
       "      <td>...</td>\n",
       "      <td>-0.021700</td>\n",
       "      <td>0.032818</td>\n",
       "      <td>-0.254179</td>\n",
       "      <td>-0.044583</td>\n",
       "      <td>0.030884</td>\n",
       "      <td>-0.179450</td>\n",
       "      <td>-0.034737</td>\n",
       "      <td>0.014321</td>\n",
       "      <td>-0.144736</td>\n",
       "      <td>-0.021350</td>\n",
       "    </tr>\n",
       "    <tr>\n",
       "      <th>4</th>\n",
       "      <td>0.0</td>\n",
       "      <td>0.0</td>\n",
       "      <td>0.0</td>\n",
       "      <td>0.087307</td>\n",
       "      <td>-0.013774</td>\n",
       "      <td>-0.015136</td>\n",
       "      <td>0.145934</td>\n",
       "      <td>-0.070759</td>\n",
       "      <td>-0.021705</td>\n",
       "      <td>0.181889</td>\n",
       "      <td>...</td>\n",
       "      <td>-0.026906</td>\n",
       "      <td>0.044853</td>\n",
       "      <td>-0.331586</td>\n",
       "      <td>-0.057311</td>\n",
       "      <td>0.039559</td>\n",
       "      <td>-0.234893</td>\n",
       "      <td>-0.044078</td>\n",
       "      <td>0.012328</td>\n",
       "      <td>-0.194194</td>\n",
       "      <td>-0.025516</td>\n",
       "    </tr>\n",
       "  </tbody>\n",
       "</table>\n",
       "<p>5 rows × 63 columns</p>\n",
       "</div>"
      ],
      "text/plain": [
       "   x_0  y_0  z_0       x_1       y_1       z_1       x_2       y_2       z_2  \\\n",
       "0  0.0  0.0  0.0  0.068996 -0.001794 -0.026495  0.129794 -0.049328 -0.037758   \n",
       "1  0.0  0.0  0.0  0.084189 -0.004527 -0.035077  0.159894 -0.063521 -0.049802   \n",
       "2  0.0  0.0  0.0  0.081866  0.003673 -0.039060  0.166663 -0.060628 -0.056427   \n",
       "3  0.0  0.0  0.0  0.072380  0.001230 -0.018210  0.133630 -0.037806 -0.024918   \n",
       "4  0.0  0.0  0.0  0.087307 -0.013774 -0.015136  0.145934 -0.070759 -0.021705   \n",
       "\n",
       "        x_3  ...      z_17      x_18      y_18      z_18      x_19      y_19  \\\n",
       "0  0.157946  ... -0.026416  0.015763 -0.236859 -0.053696  0.014897 -0.160986   \n",
       "1  0.195749  ... -0.034393  0.022846 -0.301951 -0.067628  0.019003 -0.205834   \n",
       "2  0.204637  ... -0.044647  0.011525 -0.315707 -0.082841  0.011519 -0.209255   \n",
       "3  0.162663  ... -0.021700  0.032818 -0.254179 -0.044583  0.030884 -0.179450   \n",
       "4  0.181889  ... -0.026906  0.044853 -0.331586 -0.057311  0.039559 -0.234893   \n",
       "\n",
       "       z_19      x_20      y_20      z_20  \n",
       "0 -0.042879  0.003309 -0.143430 -0.028293  \n",
       "1 -0.053242  0.004331 -0.182658 -0.034498  \n",
       "2 -0.069801 -0.000003 -0.184926 -0.051607  \n",
       "3 -0.034737  0.014321 -0.144736 -0.021350  \n",
       "4 -0.044078  0.012328 -0.194194 -0.025516  \n",
       "\n",
       "[5 rows x 63 columns]"
      ]
     },
     "execution_count": 7,
     "metadata": {},
     "output_type": "execute_result"
    }
   ],
   "source": [
    "X = df.drop(columns=['target'])\n",
    "X.head()"
   ]
  },
  {
   "cell_type": "code",
   "execution_count": 8,
   "metadata": {},
   "outputs": [
    {
     "data": {
      "text/plain": [
       "0    a\n",
       "1    a\n",
       "2    a\n",
       "3    a\n",
       "4    a\n",
       "Name: target, dtype: object"
      ]
     },
     "execution_count": 8,
     "metadata": {},
     "output_type": "execute_result"
    }
   ],
   "source": [
    "y = df['target']\n",
    "y.head()"
   ]
  },
  {
   "cell_type": "code",
   "execution_count": 9,
   "id": "57280309",
   "metadata": {},
   "outputs": [
    {
     "data": {
      "text/plain": [
       "array(['a', 'c', 'b'], dtype=object)"
      ]
     },
     "execution_count": 9,
     "metadata": {},
     "output_type": "execute_result"
    }
   ],
   "source": [
    "y.unique()"
   ]
  },
  {
   "cell_type": "code",
   "execution_count": 10,
   "id": "3c4c4482",
   "metadata": {},
   "outputs": [],
   "source": [
    "#from tensorflow.keras.utils import to_categorical"
   ]
  },
  {
   "cell_type": "code",
   "execution_count": 11,
   "id": "bb02388d",
   "metadata": {},
   "outputs": [],
   "source": [
    "from sklearn.preprocessing import LabelEncoder"
   ]
  },
  {
   "cell_type": "code",
   "execution_count": 12,
   "id": "48b08054",
   "metadata": {},
   "outputs": [
    {
     "data": {
      "text/plain": [
       "array([0, 0, 0, 0, 0, 0, 0, 0, 0, 0, 0, 0, 0, 0, 0, 0, 0, 0, 0, 0, 0, 0,\n",
       "       0, 0, 0, 0, 0, 0, 0, 0, 0, 0, 0, 0, 0, 0, 0, 0, 0, 0, 0, 0, 0, 0,\n",
       "       0, 0, 0, 0, 0, 0, 0, 0, 0, 0, 0, 0, 0, 0, 0, 0, 0, 0, 0, 0, 0, 0,\n",
       "       0, 0, 0, 0, 0, 0, 0, 0, 0, 0, 0, 0, 0, 0, 0, 0, 0, 0, 0, 0, 0, 0,\n",
       "       0, 0, 0, 0, 0, 0, 0, 0, 0, 0, 0, 0, 0, 0, 0, 0, 0, 0, 0, 0, 0, 0,\n",
       "       0, 0, 0, 0, 0, 0, 0, 0, 0, 0, 0, 0, 0, 0, 0, 0, 0, 0, 0, 0, 0, 0,\n",
       "       0, 0, 0, 0, 0, 0, 0, 0, 0, 0, 0, 0, 0, 0, 0, 0, 0, 0, 0, 0, 0, 0,\n",
       "       0, 0, 0, 0, 0, 0, 0, 0, 0, 0, 0, 0, 0, 0, 0, 0, 0, 0, 0, 0, 0, 0,\n",
       "       0, 0, 0, 0, 0, 0, 0, 0, 0, 0, 0, 0, 0, 0, 0, 0, 0, 0, 0, 0, 0, 0,\n",
       "       0, 0, 0, 0, 0, 0, 0, 0, 0, 0, 0, 0, 2, 2, 2, 2, 2, 2, 2, 2, 2, 2,\n",
       "       2, 2, 2, 2, 2, 2, 2, 2, 2, 2, 2, 2, 2, 2, 2, 2, 2, 2, 2, 2, 2, 2,\n",
       "       2, 2, 2, 2, 2, 2, 2, 2, 2, 2, 2, 2, 2, 2, 2, 2, 2, 2, 2, 2, 2, 2,\n",
       "       2, 2, 2, 2, 2, 2, 2, 2, 2, 2, 2, 2, 2, 2, 2, 2, 2, 2, 2, 2, 2, 2,\n",
       "       2, 2, 2, 2, 2, 2, 2, 2, 2, 2, 2, 2, 2, 2, 2, 2, 2, 2, 2, 2, 2, 2,\n",
       "       2, 2, 2, 2, 2, 2, 2, 2, 2, 2, 2, 2, 2, 2, 2, 2, 2, 2, 2, 2, 2, 2,\n",
       "       2, 2, 2, 2, 2, 2, 2, 2, 2, 2, 2, 2, 2, 2, 2, 2, 2, 2, 2, 2, 2, 2,\n",
       "       2, 2, 2, 2, 2, 2, 2, 2, 2, 2, 2, 2, 2, 2, 2, 2, 2, 2, 2, 2, 2, 2,\n",
       "       2, 2, 2, 2, 2, 2, 2, 2, 2, 2, 2, 2, 2, 2, 2, 2, 2, 2, 2, 2, 2, 2,\n",
       "       2, 2, 2, 2, 2, 2, 2, 2, 2, 2, 2, 2, 2, 2, 2, 2, 2, 2, 2, 2, 2, 2,\n",
       "       2, 2, 1, 1, 1, 1, 1, 1, 1, 1, 1, 1, 1, 1, 1, 1, 1, 1, 1, 1, 1, 1,\n",
       "       1, 1, 1, 1, 1, 1, 1, 1, 1, 1, 1, 1, 1, 1, 1, 1, 1, 1, 1, 1, 1, 1,\n",
       "       1, 1, 1, 1, 1, 1, 1, 1, 1, 1, 1, 1, 1, 1, 1, 1, 1, 1, 1, 1, 1, 1,\n",
       "       1, 1, 1, 1, 1, 1, 1, 1, 1, 1, 1, 1, 1, 1, 1, 1, 1, 1, 1, 1, 1, 1,\n",
       "       1, 1, 1, 1, 1, 1, 1, 1, 1, 1, 1, 1, 1, 1, 1, 1, 1, 1, 1, 1, 1, 1,\n",
       "       1, 1, 1, 1, 1, 1, 1, 1, 1, 1, 1, 1, 1, 1, 1, 1, 1, 1, 1, 1, 1, 1,\n",
       "       1, 1, 1, 1, 1, 1, 1, 1, 1, 1, 1, 1, 1, 1, 1, 1, 1, 1, 1, 1, 1, 1,\n",
       "       1, 1, 1, 1, 1, 1, 1, 1, 1, 1, 1, 1, 1, 1, 1, 1, 1, 1, 1, 1, 1, 1,\n",
       "       1, 1, 1, 1, 1, 1, 1, 1, 1, 1, 1, 1, 1, 1, 1, 1, 1, 1, 1, 1, 1, 1,\n",
       "       1, 1, 1, 1, 1, 1, 1, 1, 1, 1, 1, 1, 1, 1])"
      ]
     },
     "execution_count": 12,
     "metadata": {},
     "output_type": "execute_result"
    }
   ],
   "source": [
    "encoder = LabelEncoder()\n",
    "y_encoded = encoder.fit_transform(y)\n",
    "y_encoded"
   ]
  },
  {
   "cell_type": "code",
   "execution_count": 13,
   "id": "c097de85",
   "metadata": {},
   "outputs": [
    {
     "data": {
      "text/plain": [
       "630"
      ]
     },
     "execution_count": 13,
     "metadata": {},
     "output_type": "execute_result"
    }
   ],
   "source": [
    "len(y_encoded)"
   ]
  },
  {
   "cell_type": "code",
   "execution_count": 14,
   "id": "7c9d068c",
   "metadata": {},
   "outputs": [
    {
     "data": {
      "text/html": [
       "<div>\n",
       "<style scoped>\n",
       "    .dataframe tbody tr th:only-of-type {\n",
       "        vertical-align: middle;\n",
       "    }\n",
       "\n",
       "    .dataframe tbody tr th {\n",
       "        vertical-align: top;\n",
       "    }\n",
       "\n",
       "    .dataframe thead th {\n",
       "        text-align: right;\n",
       "    }\n",
       "</style>\n",
       "<table border=\"1\" class=\"dataframe\">\n",
       "  <thead>\n",
       "    <tr style=\"text-align: right;\">\n",
       "      <th></th>\n",
       "      <th>0</th>\n",
       "    </tr>\n",
       "  </thead>\n",
       "  <tbody>\n",
       "    <tr>\n",
       "      <th>625</th>\n",
       "      <td>1</td>\n",
       "    </tr>\n",
       "    <tr>\n",
       "      <th>626</th>\n",
       "      <td>1</td>\n",
       "    </tr>\n",
       "    <tr>\n",
       "      <th>627</th>\n",
       "      <td>1</td>\n",
       "    </tr>\n",
       "    <tr>\n",
       "      <th>628</th>\n",
       "      <td>1</td>\n",
       "    </tr>\n",
       "    <tr>\n",
       "      <th>629</th>\n",
       "      <td>1</td>\n",
       "    </tr>\n",
       "  </tbody>\n",
       "</table>\n",
       "</div>"
      ],
      "text/plain": [
       "     0\n",
       "625  1\n",
       "626  1\n",
       "627  1\n",
       "628  1\n",
       "629  1"
      ]
     },
     "execution_count": 14,
     "metadata": {},
     "output_type": "execute_result"
    }
   ],
   "source": [
    "pd.DataFrame(y_encoded).tail()"
   ]
  },
  {
   "cell_type": "code",
   "execution_count": 15,
   "id": "2d0f6ae8",
   "metadata": {},
   "outputs": [
    {
     "data": {
      "text/plain": [
       "(630, 64)"
      ]
     },
     "execution_count": 15,
     "metadata": {},
     "output_type": "execute_result"
    }
   ],
   "source": [
    "df.drop_duplicates().shape"
   ]
  },
  {
   "cell_type": "code",
   "execution_count": 16,
   "metadata": {},
   "outputs": [
    {
     "data": {
      "text/plain": [
       "(630, 64)"
      ]
     },
     "execution_count": 16,
     "metadata": {},
     "output_type": "execute_result"
    }
   ],
   "source": [
    "df.dropna().shape"
   ]
  },
  {
   "cell_type": "code",
   "execution_count": 17,
   "id": "664b1674",
   "metadata": {},
   "outputs": [],
   "source": [
    "categ = y.unique()"
   ]
  },
  {
   "cell_type": "code",
   "execution_count": 18,
   "metadata": {},
   "outputs": [
    {
     "data": {
      "text/html": [
       "<div>\n",
       "<style scoped>\n",
       "    .dataframe tbody tr th:only-of-type {\n",
       "        vertical-align: middle;\n",
       "    }\n",
       "\n",
       "    .dataframe tbody tr th {\n",
       "        vertical-align: top;\n",
       "    }\n",
       "\n",
       "    .dataframe thead th {\n",
       "        text-align: right;\n",
       "    }\n",
       "</style>\n",
       "<table border=\"1\" class=\"dataframe\">\n",
       "  <thead>\n",
       "    <tr style=\"text-align: right;\">\n",
       "      <th></th>\n",
       "      <th>%</th>\n",
       "    </tr>\n",
       "    <tr>\n",
       "      <th>target</th>\n",
       "      <th></th>\n",
       "    </tr>\n",
       "  </thead>\n",
       "  <tbody>\n",
       "    <tr>\n",
       "      <th>a</th>\n",
       "      <td>0.33</td>\n",
       "    </tr>\n",
       "    <tr>\n",
       "      <th>b</th>\n",
       "      <td>0.33</td>\n",
       "    </tr>\n",
       "    <tr>\n",
       "      <th>c</th>\n",
       "      <td>0.33</td>\n",
       "    </tr>\n",
       "  </tbody>\n",
       "</table>\n",
       "</div>"
      ],
      "text/plain": [
       "           %\n",
       "target      \n",
       "a       0.33\n",
       "b       0.33\n",
       "c       0.33"
      ]
     },
     "execution_count": 18,
     "metadata": {},
     "output_type": "execute_result"
    }
   ],
   "source": [
    "# Dispersion des classes dans le DF d'origine\n",
    "round(df[['target']].groupby(df['target']).count().rename(columns={'target': '%'}) / len(df['target']), 2)"
   ]
  },
  {
   "cell_type": "code",
   "execution_count": 19,
   "metadata": {},
   "outputs": [],
   "source": [
    "from sklearn.model_selection import train_test_split"
   ]
  },
  {
   "cell_type": "code",
   "execution_count": 20,
   "id": "37cf1e24",
   "metadata": {},
   "outputs": [],
   "source": [
    "X_train, X_test, y_train, y_test = train_test_split(X, y_encoded, test_size=.30, random_state=1, stratify=y)"
   ]
  },
  {
   "cell_type": "code",
   "execution_count": 21,
   "id": "7489e74a",
   "metadata": {},
   "outputs": [
    {
     "data": {
      "text/html": [
       "<div>\n",
       "<style scoped>\n",
       "    .dataframe tbody tr th:only-of-type {\n",
       "        vertical-align: middle;\n",
       "    }\n",
       "\n",
       "    .dataframe tbody tr th {\n",
       "        vertical-align: top;\n",
       "    }\n",
       "\n",
       "    .dataframe thead th {\n",
       "        text-align: right;\n",
       "    }\n",
       "</style>\n",
       "<table border=\"1\" class=\"dataframe\">\n",
       "  <thead>\n",
       "    <tr style=\"text-align: right;\">\n",
       "      <th></th>\n",
       "      <th>%</th>\n",
       "    </tr>\n",
       "    <tr>\n",
       "      <th>0</th>\n",
       "      <th></th>\n",
       "    </tr>\n",
       "  </thead>\n",
       "  <tbody>\n",
       "    <tr>\n",
       "      <th>0</th>\n",
       "      <td>0.33</td>\n",
       "    </tr>\n",
       "    <tr>\n",
       "      <th>1</th>\n",
       "      <td>0.33</td>\n",
       "    </tr>\n",
       "    <tr>\n",
       "      <th>2</th>\n",
       "      <td>0.33</td>\n",
       "    </tr>\n",
       "  </tbody>\n",
       "</table>\n",
       "</div>"
      ],
      "text/plain": [
       "      %\n",
       "0      \n",
       "0  0.33\n",
       "1  0.33\n",
       "2  0.33"
      ]
     },
     "execution_count": 21,
     "metadata": {},
     "output_type": "execute_result"
    }
   ],
   "source": [
    "# Dispersion des classes dans y_train\n",
    "y_train_temp = pd.DataFrame(y_train)\n",
    "y_train_temp['%'] = 1\n",
    "round(y_train_temp[['%']].groupby(y_train_temp[0]).count() / len(y_train_temp[['%']]), 2)"
   ]
  },
  {
   "cell_type": "code",
   "execution_count": 22,
   "id": "8073dd8c",
   "metadata": {},
   "outputs": [
    {
     "data": {
      "text/plain": [
       "(441,)"
      ]
     },
     "execution_count": 22,
     "metadata": {},
     "output_type": "execute_result"
    }
   ],
   "source": [
    "y_train.shape"
   ]
  },
  {
   "cell_type": "code",
   "execution_count": 23,
   "id": "09c5c817",
   "metadata": {},
   "outputs": [
    {
     "data": {
      "text/html": [
       "<div>\n",
       "<style scoped>\n",
       "    .dataframe tbody tr th:only-of-type {\n",
       "        vertical-align: middle;\n",
       "    }\n",
       "\n",
       "    .dataframe tbody tr th {\n",
       "        vertical-align: top;\n",
       "    }\n",
       "\n",
       "    .dataframe thead th {\n",
       "        text-align: right;\n",
       "    }\n",
       "</style>\n",
       "<table border=\"1\" class=\"dataframe\">\n",
       "  <thead>\n",
       "    <tr style=\"text-align: right;\">\n",
       "      <th></th>\n",
       "      <th>%</th>\n",
       "    </tr>\n",
       "    <tr>\n",
       "      <th>0</th>\n",
       "      <th></th>\n",
       "    </tr>\n",
       "  </thead>\n",
       "  <tbody>\n",
       "    <tr>\n",
       "      <th>0</th>\n",
       "      <td>0.33</td>\n",
       "    </tr>\n",
       "    <tr>\n",
       "      <th>1</th>\n",
       "      <td>0.33</td>\n",
       "    </tr>\n",
       "    <tr>\n",
       "      <th>2</th>\n",
       "      <td>0.33</td>\n",
       "    </tr>\n",
       "  </tbody>\n",
       "</table>\n",
       "</div>"
      ],
      "text/plain": [
       "      %\n",
       "0      \n",
       "0  0.33\n",
       "1  0.33\n",
       "2  0.33"
      ]
     },
     "execution_count": 23,
     "metadata": {},
     "output_type": "execute_result"
    }
   ],
   "source": [
    "# Dispersion des classes dans y_train\n",
    "y_test_temp = pd.DataFrame(y_test)\n",
    "y_test_temp['%'] = 1\n",
    "round(y_test_temp[['%']].groupby(y_test_temp[0]).count() / len(y_test_temp[['%']]), 2)\n"
   ]
  },
  {
   "cell_type": "code",
   "execution_count": 24,
   "id": "5cc3e944",
   "metadata": {},
   "outputs": [
    {
     "data": {
      "text/plain": [
       "(189,)"
      ]
     },
     "execution_count": 24,
     "metadata": {},
     "output_type": "execute_result"
    }
   ],
   "source": [
    "y_test.shape"
   ]
  },
  {
   "cell_type": "code",
   "execution_count": 25,
   "id": "54f5708b",
   "metadata": {},
   "outputs": [],
   "source": [
    "#from tensorflow.keras.layers import Normalization"
   ]
  },
  {
   "cell_type": "code",
   "execution_count": 38,
   "id": "05172cea",
   "metadata": {},
   "outputs": [],
   "source": [
    "#from tensorflow.keras.backend import expand_dims\n",
    "\n",
    "#X_train_temp = expand_dims(X_train)\n",
    "#X_test_temp = expand_dims(X_test)"
   ]
  },
  {
   "cell_type": "code",
   "execution_count": 39,
   "metadata": {},
   "outputs": [],
   "source": [
    "#normalizer_LSTM = Normalization()\n",
    "#normalizer_LSTM.adapt(X_train_temp)"
   ]
  },
  {
   "cell_type": "code",
   "execution_count": 26,
   "id": "b19cbc0a",
   "metadata": {},
   "outputs": [
    {
     "name": "stderr",
     "output_type": "stream",
     "text": [
      "2023-06-19 23:51:10.541950: I tensorflow/core/platform/cpu_feature_guard.cc:182] This TensorFlow binary is optimized to use available CPU instructions in performance-critical operations.\n",
      "To enable the following instructions: AVX2 FMA, in other operations, rebuild TensorFlow with the appropriate compiler flags.\n"
     ]
    }
   ],
   "source": [
    "from tensorflow.keras.models import Sequential\n",
    "from tensorflow.keras.layers import Dense, LSTM\n",
    "\n",
    "#from tensorflow.keras.layers import SimpleRNN, Flatten"
   ]
  },
  {
   "cell_type": "code",
   "execution_count": 27,
   "id": "e6eb9822",
   "metadata": {},
   "outputs": [
    {
     "data": {
      "text/plain": [
       "(441, 63)"
      ]
     },
     "execution_count": 27,
     "metadata": {},
     "output_type": "execute_result"
    }
   ],
   "source": [
    "X_train.shape"
   ]
  },
  {
   "attachments": {},
   "cell_type": "markdown",
   "id": "a741036b",
   "metadata": {},
   "source": [
    "-------------------"
   ]
  },
  {
   "attachments": {},
   "cell_type": "markdown",
   "id": "65cce5dd",
   "metadata": {},
   "source": [
    "# EVALUATIONS DES MODELES"
   ]
  },
  {
   "attachments": {},
   "cell_type": "markdown",
   "id": "25960408",
   "metadata": {},
   "source": [
    "## Model 1 : Accuracy @  0.68  ,    loss @ 0.63"
   ]
  },
  {
   "cell_type": "code",
   "execution_count": 43,
   "metadata": {},
   "outputs": [
    {
     "name": "stdout",
     "output_type": "stream",
     "text": [
      "Epoch 1/100\n",
      "20/20 [==============================] - 139s 747ms/step - loss: 0.9183 - accuracy: 0.6818 - val_loss: 1.4002 - val_accuracy: 0.0000e+00\n",
      "Epoch 2/100\n",
      "20/20 [==============================] - 5s 255ms/step - loss: 0.6466 - accuracy: 0.6818 - val_loss: 4.2754 - val_accuracy: 0.0000e+00\n",
      "Epoch 3/100\n",
      "20/20 [==============================] - 6s 286ms/step - loss: 2.2763 - accuracy: 0.6721 - val_loss: 4.0405 - val_accuracy: 0.0000e+00\n",
      "Epoch 4/100\n",
      "20/20 [==============================] - 6s 297ms/step - loss: 0.6573 - accuracy: 0.6591 - val_loss: 2.6910 - val_accuracy: 0.0000e+00\n",
      "Epoch 5/100\n",
      "20/20 [==============================] - 6s 324ms/step - loss: 0.6439 - accuracy: 0.6818 - val_loss: 2.0295 - val_accuracy: 0.0000e+00\n",
      "Epoch 6/100\n",
      "20/20 [==============================] - 8s 390ms/step - loss: 0.6416 - accuracy: 0.6818 - val_loss: 1.6112 - val_accuracy: 0.0000e+00\n",
      "Epoch 7/100\n",
      "20/20 [==============================] - 9s 449ms/step - loss: 0.6906 - accuracy: 0.6558 - val_loss: 2.2960 - val_accuracy: 0.0000e+00\n",
      "Epoch 8/100\n",
      "20/20 [==============================] - 9s 437ms/step - loss: 0.6374 - accuracy: 0.6818 - val_loss: 1.5988 - val_accuracy: 0.0000e+00\n"
     ]
    }
   ],
   "source": [
    "model1 = Sequential()\n",
    "\n",
    "#model.add(normalizer_LSTM)\n",
    "\n",
    "#A mettre si on enleve le normalizer\n",
    "model1.add(LSTM(64, return_sequences=True, activation='tanh', input_shape=(63,1)))\n",
    "\n",
    "#A commenter si on enleve normalizer\n",
    "#model.add(LSTM(128, return_sequences=True, activation='tanh'))\n",
    "\n",
    "model1.add(LSTM(20, return_sequences=True, activation='relu'))\n",
    "model1.add(LSTM(20, return_sequences=False, activation='relu'))\n",
    "model1.add(Dense(32, activation='relu'))\n",
    "model1.add(Dense(16, activation='relu'))\n",
    "model1.add(Dense(3, activation='softmax'))\n",
    "\n",
    "#model.compile(loss='mse', optimizer=Adam(learning_rate=0.5), metrics=['mae'])\n",
    "model1.compile(loss='sparse_categorical_crossentropy', optimizer='rmsprop', metrics=['accuracy'])\n",
    "\n",
    "\n",
    "from tensorflow.keras.callbacks import EarlyStopping\n",
    "\n",
    "es = EarlyStopping(patience=7, restore_best_weights=True)\n",
    "\n",
    "history = model1.fit(\n",
    "    X_train, y_encoded, \n",
    "    #validation_data=(X_test, y_test),\n",
    "    validation_split = 0.3,\n",
    "    callbacks=[es],\n",
    "    epochs=100, batch_size=16, verbose=1)"
   ]
  },
  {
   "cell_type": "code",
   "execution_count": 45,
   "id": "f37e90d3",
   "metadata": {},
   "outputs": [
    {
     "data": {
      "text/plain": [
       "array([1, 0, 0, 2, 1, 1, 1, 2, 2, 1, 1, 1, 1, 2, 1, 2, 0, 1, 0, 1, 1, 0,\n",
       "       0, 0, 1, 2, 2, 2, 0, 0, 2, 0, 2, 0, 1, 2, 1, 1, 0, 1, 0, 1, 1, 0,\n",
       "       1, 2, 1, 0, 2, 1, 2, 1, 2, 0, 1, 1, 1, 1, 0, 2, 1, 2, 2, 0, 1, 0,\n",
       "       1, 2, 2, 0, 0, 2, 1, 0, 0, 2, 2, 0, 2, 2, 0, 2, 0, 0, 0, 2, 0, 2,\n",
       "       2, 2, 2, 0, 0, 1, 0, 0, 0, 0, 0, 1, 2, 2, 0, 1, 2, 1, 1, 2, 2, 1,\n",
       "       2, 0, 2, 2, 0, 0, 1, 1, 2, 2, 0, 1, 1, 1, 0, 2, 0, 0, 2, 0, 1, 2,\n",
       "       2, 0, 2, 0, 1, 1, 2, 0, 1, 0, 0, 2, 1, 1, 2, 1, 1, 1, 0, 2, 1, 1,\n",
       "       0, 0, 2, 1, 0, 0, 2, 2, 0, 1, 0, 1, 2, 0, 1, 2, 2, 2, 0, 2, 2, 1,\n",
       "       1, 2, 0, 2, 0, 1, 1, 2, 2, 0, 1, 1, 0])"
      ]
     },
     "execution_count": 45,
     "metadata": {},
     "output_type": "execute_result"
    }
   ],
   "source": [
    "y_test"
   ]
  },
  {
   "cell_type": "code",
   "execution_count": 46,
   "id": "71a46e88",
   "metadata": {},
   "outputs": [
    {
     "data": {
      "text/plain": [
       "1"
      ]
     },
     "execution_count": 46,
     "metadata": {},
     "output_type": "execute_result"
    }
   ],
   "source": [
    "y_test[0]"
   ]
  },
  {
   "cell_type": "code",
   "execution_count": 47,
   "id": "4bf0c2f6",
   "metadata": {},
   "outputs": [
    {
     "data": {
      "text/html": [
       "<div>\n",
       "<style scoped>\n",
       "    .dataframe tbody tr th:only-of-type {\n",
       "        vertical-align: middle;\n",
       "    }\n",
       "\n",
       "    .dataframe tbody tr th {\n",
       "        vertical-align: top;\n",
       "    }\n",
       "\n",
       "    .dataframe thead th {\n",
       "        text-align: right;\n",
       "    }\n",
       "</style>\n",
       "<table border=\"1\" class=\"dataframe\">\n",
       "  <thead>\n",
       "    <tr style=\"text-align: right;\">\n",
       "      <th></th>\n",
       "      <th>x_0</th>\n",
       "      <th>y_0</th>\n",
       "      <th>z_0</th>\n",
       "      <th>x_1</th>\n",
       "      <th>y_1</th>\n",
       "      <th>z_1</th>\n",
       "      <th>x_2</th>\n",
       "      <th>y_2</th>\n",
       "      <th>z_2</th>\n",
       "      <th>x_3</th>\n",
       "      <th>...</th>\n",
       "      <th>z_17</th>\n",
       "      <th>x_18</th>\n",
       "      <th>y_18</th>\n",
       "      <th>z_18</th>\n",
       "      <th>x_19</th>\n",
       "      <th>y_19</th>\n",
       "      <th>z_19</th>\n",
       "      <th>x_20</th>\n",
       "      <th>y_20</th>\n",
       "      <th>z_20</th>\n",
       "    </tr>\n",
       "  </thead>\n",
       "  <tbody>\n",
       "    <tr>\n",
       "      <th>533</th>\n",
       "      <td>0.0</td>\n",
       "      <td>0.0</td>\n",
       "      <td>0.0</td>\n",
       "      <td>0.067761</td>\n",
       "      <td>-0.022025</td>\n",
       "      <td>-0.015936</td>\n",
       "      <td>0.123540</td>\n",
       "      <td>-0.123792</td>\n",
       "      <td>-0.015741</td>\n",
       "      <td>0.131921</td>\n",
       "      <td>...</td>\n",
       "      <td>-0.023284</td>\n",
       "      <td>0.037004</td>\n",
       "      <td>-0.414808</td>\n",
       "      <td>-0.038195</td>\n",
       "      <td>0.052185</td>\n",
       "      <td>-0.484183</td>\n",
       "      <td>-0.048778</td>\n",
       "      <td>0.063163</td>\n",
       "      <td>-0.548522</td>\n",
       "      <td>-0.056551</td>\n",
       "    </tr>\n",
       "    <tr>\n",
       "      <th>129</th>\n",
       "      <td>0.0</td>\n",
       "      <td>0.0</td>\n",
       "      <td>0.0</td>\n",
       "      <td>0.072223</td>\n",
       "      <td>-0.000817</td>\n",
       "      <td>-0.021595</td>\n",
       "      <td>0.128331</td>\n",
       "      <td>-0.045920</td>\n",
       "      <td>-0.030256</td>\n",
       "      <td>0.159923</td>\n",
       "      <td>...</td>\n",
       "      <td>-0.020879</td>\n",
       "      <td>0.021620</td>\n",
       "      <td>-0.241041</td>\n",
       "      <td>-0.046489</td>\n",
       "      <td>0.017947</td>\n",
       "      <td>-0.166563</td>\n",
       "      <td>-0.035679</td>\n",
       "      <td>0.006530</td>\n",
       "      <td>-0.144736</td>\n",
       "      <td>-0.021220</td>\n",
       "    </tr>\n",
       "    <tr>\n",
       "      <th>104</th>\n",
       "      <td>0.0</td>\n",
       "      <td>0.0</td>\n",
       "      <td>0.0</td>\n",
       "      <td>0.082161</td>\n",
       "      <td>-0.003203</td>\n",
       "      <td>-0.017665</td>\n",
       "      <td>0.137708</td>\n",
       "      <td>-0.055847</td>\n",
       "      <td>-0.024705</td>\n",
       "      <td>0.166063</td>\n",
       "      <td>...</td>\n",
       "      <td>-0.025218</td>\n",
       "      <td>0.042248</td>\n",
       "      <td>-0.301889</td>\n",
       "      <td>-0.053561</td>\n",
       "      <td>0.036723</td>\n",
       "      <td>-0.214025</td>\n",
       "      <td>-0.040949</td>\n",
       "      <td>0.011251</td>\n",
       "      <td>-0.180672</td>\n",
       "      <td>-0.024040</td>\n",
       "    </tr>\n",
       "  </tbody>\n",
       "</table>\n",
       "<p>3 rows × 63 columns</p>\n",
       "</div>"
      ],
      "text/plain": [
       "     x_0  y_0  z_0       x_1       y_1       z_1       x_2       y_2  \\\n",
       "533  0.0  0.0  0.0  0.067761 -0.022025 -0.015936  0.123540 -0.123792   \n",
       "129  0.0  0.0  0.0  0.072223 -0.000817 -0.021595  0.128331 -0.045920   \n",
       "104  0.0  0.0  0.0  0.082161 -0.003203 -0.017665  0.137708 -0.055847   \n",
       "\n",
       "          z_2       x_3  ...      z_17      x_18      y_18      z_18  \\\n",
       "533 -0.015741  0.131921  ... -0.023284  0.037004 -0.414808 -0.038195   \n",
       "129 -0.030256  0.159923  ... -0.020879  0.021620 -0.241041 -0.046489   \n",
       "104 -0.024705  0.166063  ... -0.025218  0.042248 -0.301889 -0.053561   \n",
       "\n",
       "         x_19      y_19      z_19      x_20      y_20      z_20  \n",
       "533  0.052185 -0.484183 -0.048778  0.063163 -0.548522 -0.056551  \n",
       "129  0.017947 -0.166563 -0.035679  0.006530 -0.144736 -0.021220  \n",
       "104  0.036723 -0.214025 -0.040949  0.011251 -0.180672 -0.024040  \n",
       "\n",
       "[3 rows x 63 columns]"
      ]
     },
     "execution_count": 47,
     "metadata": {},
     "output_type": "execute_result"
    }
   ],
   "source": [
    "X_test.head(3)"
   ]
  },
  {
   "cell_type": "code",
   "execution_count": 48,
   "id": "42def90f",
   "metadata": {},
   "outputs": [
    {
     "data": {
      "text/html": [
       "<div>\n",
       "<style scoped>\n",
       "    .dataframe tbody tr th:only-of-type {\n",
       "        vertical-align: middle;\n",
       "    }\n",
       "\n",
       "    .dataframe tbody tr th {\n",
       "        vertical-align: top;\n",
       "    }\n",
       "\n",
       "    .dataframe thead th {\n",
       "        text-align: right;\n",
       "    }\n",
       "</style>\n",
       "<table border=\"1\" class=\"dataframe\">\n",
       "  <thead>\n",
       "    <tr style=\"text-align: right;\">\n",
       "      <th></th>\n",
       "      <th>x_0</th>\n",
       "      <th>y_0</th>\n",
       "      <th>z_0</th>\n",
       "      <th>x_1</th>\n",
       "      <th>y_1</th>\n",
       "      <th>z_1</th>\n",
       "      <th>x_2</th>\n",
       "      <th>y_2</th>\n",
       "      <th>z_2</th>\n",
       "      <th>x_3</th>\n",
       "      <th>...</th>\n",
       "      <th>z_17</th>\n",
       "      <th>x_18</th>\n",
       "      <th>y_18</th>\n",
       "      <th>z_18</th>\n",
       "      <th>x_19</th>\n",
       "      <th>y_19</th>\n",
       "      <th>z_19</th>\n",
       "      <th>x_20</th>\n",
       "      <th>y_20</th>\n",
       "      <th>z_20</th>\n",
       "    </tr>\n",
       "  </thead>\n",
       "  <tbody>\n",
       "    <tr>\n",
       "      <th>533</th>\n",
       "      <td>0.0</td>\n",
       "      <td>0.0</td>\n",
       "      <td>0.0</td>\n",
       "      <td>0.067761</td>\n",
       "      <td>-0.022025</td>\n",
       "      <td>-0.015936</td>\n",
       "      <td>0.12354</td>\n",
       "      <td>-0.123792</td>\n",
       "      <td>-0.015741</td>\n",
       "      <td>0.131921</td>\n",
       "      <td>...</td>\n",
       "      <td>-0.023284</td>\n",
       "      <td>0.037004</td>\n",
       "      <td>-0.414808</td>\n",
       "      <td>-0.038195</td>\n",
       "      <td>0.052185</td>\n",
       "      <td>-0.484183</td>\n",
       "      <td>-0.048778</td>\n",
       "      <td>0.063163</td>\n",
       "      <td>-0.548522</td>\n",
       "      <td>-0.056551</td>\n",
       "    </tr>\n",
       "  </tbody>\n",
       "</table>\n",
       "<p>1 rows × 63 columns</p>\n",
       "</div>"
      ],
      "text/plain": [
       "     x_0  y_0  z_0       x_1       y_1       z_1      x_2       y_2       z_2  \\\n",
       "533  0.0  0.0  0.0  0.067761 -0.022025 -0.015936  0.12354 -0.123792 -0.015741   \n",
       "\n",
       "          x_3  ...      z_17      x_18      y_18      z_18      x_19  \\\n",
       "533  0.131921  ... -0.023284  0.037004 -0.414808 -0.038195  0.052185   \n",
       "\n",
       "         y_19      z_19      x_20      y_20      z_20  \n",
       "533 -0.484183 -0.048778  0.063163 -0.548522 -0.056551  \n",
       "\n",
       "[1 rows x 63 columns]"
      ]
     },
     "execution_count": 48,
     "metadata": {},
     "output_type": "execute_result"
    }
   ],
   "source": [
    "X_test.loc[533:533, :]"
   ]
  },
  {
   "cell_type": "code",
   "execution_count": 49,
   "id": "05e7243d",
   "metadata": {},
   "outputs": [
    {
     "name": "stdout",
     "output_type": "stream",
     "text": [
      "1/1 [==============================] - 14s 14s/step\n"
     ]
    },
    {
     "data": {
      "text/plain": [
       "array([[0.6241079 , 0.01997671, 0.35591546]], dtype=float32)"
      ]
     },
     "execution_count": 49,
     "metadata": {},
     "output_type": "execute_result"
    }
   ],
   "source": [
    "model1.predict(X_test.loc[533:533, :])"
   ]
  },
  {
   "cell_type": "code",
   "execution_count": 51,
   "id": "73258fd3",
   "metadata": {},
   "outputs": [
    {
     "name": "stdout",
     "output_type": "stream",
     "text": [
      "6/6 [==============================] - 1s 62ms/step\n"
     ]
    },
    {
     "data": {
      "text/plain": [
       "array([[0.62410796, 0.01997672, 0.35591537],\n",
       "       [0.58926886, 0.03570381, 0.37502727],\n",
       "       [0.59264004, 0.03391541, 0.3734446 ],\n",
       "       [0.6071408 , 0.02676619, 0.366093  ],\n",
       "       [0.6270287 , 0.01897011, 0.35400122],\n",
       "       [0.61939126, 0.02160334, 0.35900536],\n",
       "       [0.6231892 , 0.02025552, 0.35655525],\n",
       "       [0.5949139 , 0.03267869, 0.37240744],\n",
       "       [0.5996632 , 0.03025516, 0.37008172],\n",
       "       [0.60568655, 0.0273235 , 0.3669898 ],\n",
       "       [0.6114646 , 0.02477848, 0.36375678],\n",
       "       [0.6208555 , 0.02105674, 0.35808766],\n",
       "       [0.6191886 , 0.0217857 , 0.35902575],\n",
       "       [0.585014  , 0.03815042, 0.37683555],\n",
       "       [0.60626066, 0.02707136, 0.36666802],\n",
       "       [0.5855338 , 0.03783783, 0.37662834],\n",
       "       [0.59382004, 0.03319653, 0.37298352],\n",
       "       [0.619755  , 0.02148193, 0.358763  ],\n",
       "       [0.5873947 , 0.03668041, 0.37592492],\n",
       "       [0.6171104 , 0.0225446 , 0.36034492],\n",
       "       [0.62878275, 0.01839077, 0.3528264 ],\n",
       "       [0.6025037 , 0.02885603, 0.3686402 ],\n",
       "       [0.59459394, 0.03277558, 0.37263048],\n",
       "       [0.58920234, 0.03574197, 0.37505564],\n",
       "       [0.6238855 , 0.02007731, 0.35603717],\n",
       "       [0.59433156, 0.03297244, 0.37269595],\n",
       "       [0.61491734, 0.02349055, 0.36159202],\n",
       "       [0.59118164, 0.03466295, 0.37415537],\n",
       "       [0.59277827, 0.03374195, 0.3734798 ],\n",
       "       [0.58980626, 0.03535077, 0.3748429 ],\n",
       "       [0.59089667, 0.03476631, 0.37433705],\n",
       "       [0.5976849 , 0.03124936, 0.3710658 ],\n",
       "       [0.5969365 , 0.03166398, 0.3713995 ],\n",
       "       [0.59733474, 0.03135501, 0.37131026],\n",
       "       [0.6145881 , 0.02348812, 0.36192378],\n",
       "       [0.60001236, 0.03006256, 0.3699252 ],\n",
       "       [0.62415785, 0.01993951, 0.35590258],\n",
       "       [0.630761  , 0.01778354, 0.35145536],\n",
       "       [0.5868135 , 0.0371225 , 0.376064  ],\n",
       "       [0.6099699 , 0.02542588, 0.3646042 ],\n",
       "       [0.5960436 , 0.03198655, 0.37196982],\n",
       "       [0.6122146 , 0.02445935, 0.363326  ],\n",
       "       [0.6288655 , 0.0183712 , 0.35276332],\n",
       "       [0.58970636, 0.03548732, 0.3748063 ],\n",
       "       [0.6118816 , 0.02461962, 0.36349878],\n",
       "       [0.5892453 , 0.03574247, 0.37501222],\n",
       "       [0.6166364 , 0.02275577, 0.3606078 ],\n",
       "       [0.59661186, 0.03171947, 0.37166873],\n",
       "       [0.59220123, 0.03407979, 0.373719  ],\n",
       "       [0.62518406, 0.01959435, 0.35522154],\n",
       "       [0.587105  , 0.03692306, 0.37597188],\n",
       "       [0.61231256, 0.02446071, 0.3632266 ],\n",
       "       [0.58867264, 0.03601103, 0.3753162 ],\n",
       "       [0.59100735, 0.03474305, 0.37424967],\n",
       "       [0.61199963, 0.02457541, 0.363425  ],\n",
       "       [0.62485594, 0.01977202, 0.355372  ],\n",
       "       [0.62650996, 0.01921937, 0.35427064],\n",
       "       [0.6151076 , 0.02327729, 0.361615  ],\n",
       "       [0.60782397, 0.02643119, 0.3657449 ],\n",
       "       [0.5859394 , 0.03762419, 0.3764365 ],\n",
       "       [0.6112614 , 0.02491568, 0.36382294],\n",
       "       [0.5906635 , 0.03495508, 0.37438136],\n",
       "       [0.6159892 , 0.02309569, 0.3609151 ],\n",
       "       [0.59969485, 0.03025681, 0.37004834],\n",
       "       [0.6208086 , 0.02110446, 0.35808694],\n",
       "       [0.5894262 , 0.03561959, 0.37495407],\n",
       "       [0.6203654 , 0.02138611, 0.35824847],\n",
       "       [0.58804935, 0.03640249, 0.3755481 ],\n",
       "       [0.59862965, 0.03077701, 0.37059325],\n",
       "       [0.59786   , 0.03109618, 0.37104386],\n",
       "       [0.58691514, 0.03696891, 0.376116  ],\n",
       "       [0.59470445, 0.03274663, 0.3725489 ],\n",
       "       [0.62704086, 0.01897829, 0.35398087],\n",
       "       [0.595165  , 0.03244629, 0.3723887 ],\n",
       "       [0.5916091 , 0.03435969, 0.3740312 ],\n",
       "       [0.5844889 , 0.03845385, 0.3770572 ],\n",
       "       [0.588146  , 0.0363909 , 0.3754632 ],\n",
       "       [0.5899176 , 0.03528887, 0.3747936 ],\n",
       "       [0.5955137 , 0.03233682, 0.3721495 ],\n",
       "       [0.5901449 , 0.03518515, 0.37466994],\n",
       "       [0.5909687 , 0.03470063, 0.3743307 ],\n",
       "       [0.599376  , 0.03036118, 0.37026277],\n",
       "       [0.5962099 , 0.03191585, 0.3718742 ],\n",
       "       [0.58536303, 0.03789575, 0.37674117],\n",
       "       [0.6021892 , 0.02902597, 0.36878493],\n",
       "       [0.59637004, 0.03186783, 0.3717622 ],\n",
       "       [0.589484  , 0.03558979, 0.37492627],\n",
       "       [0.5951459 , 0.03253239, 0.3723216 ],\n",
       "       [0.5902483 , 0.03511781, 0.37463385],\n",
       "       [0.59688896, 0.03167938, 0.37143174],\n",
       "       [0.6006292 , 0.02975858, 0.36961213],\n",
       "       [0.60087866, 0.02967537, 0.36944607],\n",
       "       [0.609898  , 0.02550646, 0.36459556],\n",
       "       [0.6134472 , 0.02403044, 0.36252236],\n",
       "       [0.5910372 , 0.03465904, 0.37430373],\n",
       "       [0.59438753, 0.03298382, 0.37262863],\n",
       "       [0.59294283, 0.03364263, 0.37341455],\n",
       "       [0.59173363, 0.03437516, 0.3738911 ],\n",
       "       [0.5914165 , 0.03446019, 0.37412333],\n",
       "       [0.62613916, 0.01926562, 0.35459524],\n",
       "       [0.59992933, 0.03011678, 0.36995384],\n",
       "       [0.5918307 , 0.03426854, 0.3739008 ],\n",
       "       [0.5907458 , 0.03484362, 0.3744106 ],\n",
       "       [0.6245931 , 0.01975649, 0.35565048],\n",
       "       [0.5995621 , 0.03030939, 0.37012848],\n",
       "       [0.6125053 , 0.02437478, 0.36312   ],\n",
       "       [0.62462664, 0.0197901 , 0.35558334],\n",
       "       [0.5869058 , 0.03703252, 0.3760616 ],\n",
       "       [0.5867858 , 0.03714532, 0.37606892],\n",
       "       [0.62077236, 0.0211122 , 0.35811543],\n",
       "       [0.5854929 , 0.03790166, 0.37660545],\n",
       "       [0.58839244, 0.03620158, 0.37540597],\n",
       "       [0.5935929 , 0.0333251 , 0.37308195],\n",
       "       [0.59436774, 0.03291388, 0.37271836],\n",
       "       [0.6008243 , 0.02968381, 0.36949196],\n",
       "       [0.5964034 , 0.03195834, 0.3716383 ],\n",
       "       [0.63325644, 0.01702402, 0.34971946],\n",
       "       [0.62006384, 0.02134981, 0.35858637],\n",
       "       [0.5923628 , 0.03405238, 0.3735848 ],\n",
       "       [0.5843762 , 0.03851597, 0.37710774],\n",
       "       [0.59895563, 0.03055918, 0.3704852 ],\n",
       "       [0.6322651 , 0.01731775, 0.35041717],\n",
       "       [0.60571855, 0.02731522, 0.3669662 ],\n",
       "       [0.6096767 , 0.02555609, 0.36476725],\n",
       "       [0.5972475 , 0.03144574, 0.37130672],\n",
       "       [0.5977854 , 0.0312472 , 0.37096733],\n",
       "       [0.58798903, 0.03634619, 0.3756648 ],\n",
       "       [0.5954983 , 0.03230559, 0.37219605],\n",
       "       [0.5958153 , 0.03217611, 0.3720086 ],\n",
       "       [0.58823115, 0.03626928, 0.37549955],\n",
       "       [0.6181622 , 0.02217193, 0.35966575],\n",
       "       [0.5955043 , 0.03240363, 0.37209207],\n",
       "       [0.59609205, 0.03205785, 0.37185   ],\n",
       "       [0.58770055, 0.03659539, 0.37570405],\n",
       "       [0.598075  , 0.03102561, 0.37089932],\n",
       "       [0.59129035, 0.03453973, 0.3741699 ],\n",
       "       [0.61618876, 0.02288805, 0.3609232 ],\n",
       "       [0.62307644, 0.02037238, 0.35655114],\n",
       "       [0.58896625, 0.03584099, 0.3751928 ],\n",
       "       [0.5880125 , 0.03642306, 0.3755644 ],\n",
       "       [0.6321426 , 0.0173582 , 0.3504993 ],\n",
       "       [0.58752817, 0.03665632, 0.37581548],\n",
       "       [0.5881246 , 0.03635101, 0.3755244 ],\n",
       "       [0.5891668 , 0.03573394, 0.3750992 ],\n",
       "       [0.6097342 , 0.02555875, 0.36470714],\n",
       "       [0.61194503, 0.02462392, 0.3634311 ],\n",
       "       [0.59023035, 0.03515448, 0.37461504],\n",
       "       [0.61644596, 0.02279462, 0.36075944],\n",
       "       [0.633253  , 0.01701588, 0.34973118],\n",
       "       [0.61342174, 0.02402158, 0.36255655],\n",
       "       [0.5978557 , 0.03110245, 0.37104192],\n",
       "       [0.5996059 , 0.0303592 , 0.37003493],\n",
       "       [0.62014645, 0.02140431, 0.3584493 ],\n",
       "       [0.63198304, 0.01738915, 0.35062787],\n",
       "       [0.59042966, 0.03500515, 0.37456518],\n",
       "       [0.5877324 , 0.03654573, 0.37572187],\n",
       "       [0.5935731 , 0.03338023, 0.37304658],\n",
       "       [0.6330833 , 0.01704604, 0.3498707 ],\n",
       "       [0.5870365 , 0.03688787, 0.3760756 ],\n",
       "       [0.60338664, 0.02848609, 0.36812732],\n",
       "       [0.5858937 , 0.03762608, 0.37648016],\n",
       "       [0.590466  , 0.03499914, 0.3745349 ],\n",
       "       [0.59465766, 0.03275468, 0.37258774],\n",
       "       [0.629295  , 0.01824464, 0.35246038],\n",
       "       [0.60096073, 0.02966823, 0.36937103],\n",
       "       [0.6129822 , 0.02418058, 0.36283726],\n",
       "       [0.5916403 , 0.03445739, 0.37390223],\n",
       "       [0.5889125 , 0.03590997, 0.37517747],\n",
       "       [0.625703  , 0.01940966, 0.3548873 ],\n",
       "       [0.5862685 , 0.03741244, 0.37631902],\n",
       "       [0.5874993 , 0.03668541, 0.37581515],\n",
       "       [0.58625746, 0.03744655, 0.37629598],\n",
       "       [0.5903546 , 0.03510009, 0.37454525],\n",
       "       [0.5873161 , 0.03682389, 0.37586004],\n",
       "       [0.5944498 , 0.03290887, 0.3726413 ],\n",
       "       [0.6134951 , 0.02394798, 0.3625569 ],\n",
       "       [0.6133345 , 0.02405904, 0.36260638],\n",
       "       [0.58987427, 0.03540139, 0.37472445],\n",
       "       [0.58795077, 0.0364746 , 0.3755746 ],\n",
       "       [0.5880308 , 0.03645333, 0.37551588],\n",
       "       [0.585681  , 0.03770638, 0.37661266],\n",
       "       [0.6191647 , 0.02168621, 0.35914898],\n",
       "       [0.6071497 , 0.02666395, 0.36618635],\n",
       "       [0.5905512 , 0.03501302, 0.3744358 ],\n",
       "       [0.5856351 , 0.03779067, 0.37657425],\n",
       "       [0.59503347, 0.03254632, 0.37242025],\n",
       "       [0.6123191 , 0.02443549, 0.3632453 ],\n",
       "       [0.6088309 , 0.02592693, 0.36524218],\n",
       "       [0.6000114 , 0.03013139, 0.36985725]], dtype=float32)"
      ]
     },
     "execution_count": 51,
     "metadata": {},
     "output_type": "execute_result"
    }
   ],
   "source": [
    "model1.predict(X_test)"
   ]
  },
  {
   "cell_type": "code",
   "execution_count": 37,
   "id": "772b1801",
   "metadata": {
    "scrolled": true
   },
   "outputs": [],
   "source": [
    "#df = pd.read_csv('//Users//admin//code//tloizel//wagon-give-me-a-sign//data.csv', sep = ';')\n",
    "#df.head(100)"
   ]
  },
  {
   "cell_type": "code",
   "execution_count": 52,
   "id": "0a9f0b73",
   "metadata": {
    "scrolled": true
   },
   "outputs": [
    {
     "name": "stdout",
     "output_type": "stream",
     "text": [
      "4/6 [===================>..........] - ETA: 0s - loss: 1.7606 - accuracy: 0.3438"
     ]
    },
    {
     "name": "stdout",
     "output_type": "stream",
     "text": [
      "6/6 [==============================] - 1s 73ms/step - loss: 1.7798 - accuracy: 0.3333\n"
     ]
    },
    {
     "data": {
      "text/plain": [
       "[1.779759168624878, 0.3333333432674408]"
      ]
     },
     "execution_count": 52,
     "metadata": {},
     "output_type": "execute_result"
    }
   ],
   "source": [
    "model1.evaluate(X_test, y_test, verbose = 1)"
   ]
  },
  {
   "attachments": {},
   "cell_type": "markdown",
   "id": "957577af",
   "metadata": {},
   "source": [
    "EN GROS, LE MODEL LSTM NE PREVOIT RIEN... CAR l'ACCURACCY EST EGALE AU RATIO DE CHAQUE CLASSE = 33% DONC EQUIVALENT A TOUJOURS PREVOIR LA MEME CLASSE..."
   ]
  },
  {
   "attachments": {},
   "cell_type": "markdown",
   "id": "61784a1d",
   "metadata": {},
   "source": [
    "----------------------------"
   ]
  },
  {
   "attachments": {},
   "cell_type": "markdown",
   "id": "d02063dc",
   "metadata": {},
   "source": [
    "# Model 2, Accuracy = 0.70, loss= 0.55"
   ]
  },
  {
   "cell_type": "code",
   "execution_count": null,
   "id": "6819fbf4",
   "metadata": {},
   "outputs": [],
   "source": [
    "# model = Sequential()\n",
    "\n",
    "# model.add(LSTM(64, return_sequences=True, activation='tanh', input_shape=(63,1)))\n",
    "\n",
    "# model.add(LSTM(20, return_sequences=True, activation='relu'))\n",
    "# model.add(LSTM(20, return_sequences=False, activation='relu'))\n",
    "# model.add(Dense(32, activation='relu'))\n",
    "# model.add(Dense(16, activation='relu'))\n",
    "# model.add(Dense(3, activation='softmax'))"
   ]
  },
  {
   "cell_type": "code",
   "execution_count": 58,
   "id": "38c73ac0",
   "metadata": {},
   "outputs": [
    {
     "name": "stdout",
     "output_type": "stream",
     "text": [
      "Epoch 1/100\n",
      "20/20 [==============================] - 54s 822ms/step - loss: 1.0984 - accuracy: 0.3344 - val_loss: 1.0934 - val_accuracy: 0.3459\n",
      "Epoch 2/100\n",
      "20/20 [==============================] - 6s 307ms/step - loss: 1.0486 - accuracy: 0.4513 - val_loss: 1.0029 - val_accuracy: 0.3534\n",
      "Epoch 3/100\n",
      "20/20 [==============================] - 8s 380ms/step - loss: 0.8410 - accuracy: 0.5942 - val_loss: 0.6946 - val_accuracy: 0.6767\n",
      "Epoch 4/100\n",
      "20/20 [==============================] - 8s 379ms/step - loss: 0.7428 - accuracy: 0.6429 - val_loss: 0.6704 - val_accuracy: 0.6767\n",
      "Epoch 5/100\n",
      "20/20 [==============================] - 7s 334ms/step - loss: 0.6613 - accuracy: 0.6331 - val_loss: 0.6918 - val_accuracy: 0.6541\n",
      "Epoch 6/100\n",
      "20/20 [==============================] - 9s 434ms/step - loss: 0.7290 - accuracy: 0.6299 - val_loss: 0.8878 - val_accuracy: 0.5263\n",
      "Epoch 7/100\n",
      "20/20 [==============================] - 6s 309ms/step - loss: 0.6666 - accuracy: 0.6429 - val_loss: 0.6943 - val_accuracy: 0.6241\n",
      "Epoch 8/100\n",
      "20/20 [==============================] - 7s 350ms/step - loss: 0.7134 - accuracy: 0.6136 - val_loss: 1.6044 - val_accuracy: 0.4511\n",
      "Epoch 9/100\n",
      "20/20 [==============================] - 6s 323ms/step - loss: 0.7406 - accuracy: 0.6429 - val_loss: 1.5157 - val_accuracy: 0.4887\n",
      "Epoch 10/100\n",
      "20/20 [==============================] - 6s 304ms/step - loss: 0.6398 - accuracy: 0.6526 - val_loss: 0.6465 - val_accuracy: 0.6617\n",
      "Epoch 11/100\n",
      "20/20 [==============================] - 7s 338ms/step - loss: 0.6151 - accuracy: 0.6201 - val_loss: 0.6439 - val_accuracy: 0.5714\n",
      "Epoch 12/100\n",
      "20/20 [==============================] - 6s 300ms/step - loss: 0.7124 - accuracy: 0.6396 - val_loss: 0.6871 - val_accuracy: 0.6090\n",
      "Epoch 13/100\n",
      "20/20 [==============================] - 7s 341ms/step - loss: 0.5824 - accuracy: 0.6526 - val_loss: 0.5494 - val_accuracy: 0.5865\n",
      "Epoch 14/100\n",
      "20/20 [==============================] - 6s 314ms/step - loss: 0.5932 - accuracy: 0.6526 - val_loss: 1.4623 - val_accuracy: 0.4511\n",
      "Epoch 15/100\n",
      "20/20 [==============================] - 7s 343ms/step - loss: 0.6511 - accuracy: 0.6104 - val_loss: 0.5901 - val_accuracy: 0.6391\n",
      "Epoch 16/100\n",
      "20/20 [==============================] - 6s 299ms/step - loss: 0.6059 - accuracy: 0.6461 - val_loss: 0.6891 - val_accuracy: 0.5414\n",
      "Epoch 17/100\n",
      "20/20 [==============================] - 6s 311ms/step - loss: 0.6264 - accuracy: 0.6299 - val_loss: 0.5216 - val_accuracy: 0.7068\n",
      "Epoch 18/100\n",
      "20/20 [==============================] - 6s 297ms/step - loss: 0.6492 - accuracy: 0.6331 - val_loss: 0.6167 - val_accuracy: 0.6917\n",
      "Epoch 19/100\n",
      "20/20 [==============================] - 7s 346ms/step - loss: 0.5923 - accuracy: 0.6851 - val_loss: 0.5251 - val_accuracy: 0.6992\n",
      "Epoch 20/100\n",
      "20/20 [==============================] - 7s 377ms/step - loss: 0.6414 - accuracy: 0.6623 - val_loss: 0.5397 - val_accuracy: 0.6617\n",
      "Epoch 21/100\n",
      "20/20 [==============================] - 7s 326ms/step - loss: 0.5623 - accuracy: 0.6883 - val_loss: 0.9506 - val_accuracy: 0.4662\n",
      "Epoch 22/100\n",
      "20/20 [==============================] - 6s 297ms/step - loss: 0.5951 - accuracy: 0.6331 - val_loss: 0.4880 - val_accuracy: 0.7444\n",
      "Epoch 23/100\n",
      "20/20 [==============================] - 6s 318ms/step - loss: 0.6542 - accuracy: 0.6526 - val_loss: 0.5767 - val_accuracy: 0.8120\n",
      "Epoch 24/100\n",
      "20/20 [==============================] - 6s 309ms/step - loss: 0.5523 - accuracy: 0.6656 - val_loss: 0.5726 - val_accuracy: 0.6090\n",
      "Epoch 25/100\n",
      "20/20 [==============================] - 7s 350ms/step - loss: 0.6059 - accuracy: 0.6688 - val_loss: 0.5161 - val_accuracy: 0.6466\n",
      "Epoch 26/100\n",
      "20/20 [==============================] - 7s 336ms/step - loss: 0.5820 - accuracy: 0.6331 - val_loss: 0.5086 - val_accuracy: 0.6617\n",
      "Epoch 27/100\n",
      "20/20 [==============================] - 6s 276ms/step - loss: 0.7182 - accuracy: 0.6234 - val_loss: 0.8068 - val_accuracy: 0.4812\n",
      "Epoch 28/100\n",
      "20/20 [==============================] - 6s 289ms/step - loss: 0.6107 - accuracy: 0.6364 - val_loss: 0.8333 - val_accuracy: 0.6617\n",
      "Epoch 29/100\n",
      "20/20 [==============================] - 7s 345ms/step - loss: 0.6059 - accuracy: 0.6981 - val_loss: 0.5082 - val_accuracy: 0.7519\n"
     ]
    }
   ],
   "source": [
    "model_LSTM2 = Sequential()\n",
    "\n",
    "model_LSTM2.add(LSTM(64, return_sequences=True, activation='tanh', input_shape=(63,1)))\n",
    "model_LSTM2.add(LSTM(32, return_sequences=True, activation='tanh'))\n",
    "model_LSTM2.add(LSTM(20, return_sequences=False, activation='relu'))\n",
    "model_LSTM2.add(Dense(10, activation='relu'))\n",
    "model_LSTM2.add(Dense(3, activation='softmax'))\n",
    "\n",
    "#model.compile(loss='mse', optimizer=Adam(learning_rate=0.5), metrics=['mae'])\n",
    "model_LSTM2.compile(loss='sparse_categorical_crossentropy', optimizer='rmsprop', metrics=['accuracy'])\n",
    "\n",
    "\n",
    "from tensorflow.keras.callbacks import EarlyStopping\n",
    "\n",
    "es = EarlyStopping(patience=7, restore_best_weights=True)\n",
    "\n",
    "history = model_LSTM2.fit(\n",
    "    X_train, y_train, \n",
    "    #validation_data=(X_test, y_test),\n",
    "    validation_split = 0.3,\n",
    "    callbacks=[es],\n",
    "    epochs=100, batch_size=16, verbose=1)\n",
    "\n",
    "model_LSTM2.evaluate(X_test, y_test, verbose = 1)"
   ]
  },
  {
   "cell_type": "code",
   "execution_count": 59,
   "id": "a5a86aa2",
   "metadata": {},
   "outputs": [
    {
     "name": "stdout",
     "output_type": "stream",
     "text": [
      "6/6 [==============================] - 0s 64ms/step - loss: 0.5542 - accuracy: 0.7090\n"
     ]
    },
    {
     "data": {
      "text/plain": [
       "[0.5541542768478394, 0.7089946866035461]"
      ]
     },
     "execution_count": 59,
     "metadata": {},
     "output_type": "execute_result"
    }
   ],
   "source": [
    "model_LSTM2.evaluate(X_test, y_test, verbose = 1)"
   ]
  },
  {
   "attachments": {},
   "cell_type": "markdown",
   "id": "ecce795e",
   "metadata": {},
   "source": [
    "--------------------------------"
   ]
  },
  {
   "attachments": {},
   "cell_type": "markdown",
   "id": "e0d1b22e",
   "metadata": {},
   "source": [
    "# Model 3"
   ]
  },
  {
   "cell_type": "code",
   "execution_count": 60,
   "metadata": {},
   "outputs": [
    {
     "name": "stdout",
     "output_type": "stream",
     "text": [
      "Epoch 1/100\n",
      "20/20 [==============================] - 50s 545ms/step - loss: 1.0953 - accuracy: 0.3669 - val_loss: 1.0924 - val_accuracy: 0.3158\n",
      "Epoch 2/100\n",
      "20/20 [==============================] - 5s 261ms/step - loss: 1.0521 - accuracy: 0.5357 - val_loss: 1.1163 - val_accuracy: 0.3158\n",
      "Epoch 3/100\n",
      "20/20 [==============================] - 7s 342ms/step - loss: 0.9045 - accuracy: 0.5747 - val_loss: 0.7974 - val_accuracy: 0.5714\n",
      "Epoch 4/100\n",
      "20/20 [==============================] - 8s 414ms/step - loss: 0.8159 - accuracy: 0.6071 - val_loss: 0.6853 - val_accuracy: 0.6617\n",
      "Epoch 5/100\n",
      "20/20 [==============================] - 8s 382ms/step - loss: 0.7153 - accuracy: 0.6266 - val_loss: 0.9946 - val_accuracy: 0.5113\n",
      "Epoch 6/100\n",
      "20/20 [==============================] - 8s 408ms/step - loss: 0.7259 - accuracy: 0.6201 - val_loss: 0.5985 - val_accuracy: 0.6466\n",
      "Epoch 7/100\n",
      "20/20 [==============================] - 9s 475ms/step - loss: 0.7760 - accuracy: 0.6006 - val_loss: 0.6239 - val_accuracy: 0.6617\n",
      "Epoch 8/100\n",
      "20/20 [==============================] - 8s 385ms/step - loss: 0.6367 - accuracy: 0.6104 - val_loss: 0.5563 - val_accuracy: 0.6617\n",
      "Epoch 9/100\n",
      "20/20 [==============================] - 7s 332ms/step - loss: 0.6679 - accuracy: 0.6461 - val_loss: 1.0269 - val_accuracy: 0.4812\n",
      "Epoch 10/100\n",
      "20/20 [==============================] - 6s 295ms/step - loss: 0.6390 - accuracy: 0.6364 - val_loss: 0.5334 - val_accuracy: 0.7293\n",
      "Epoch 11/100\n",
      "20/20 [==============================] - 5s 242ms/step - loss: 0.6500 - accuracy: 0.6526 - val_loss: 0.5155 - val_accuracy: 0.7594\n",
      "Epoch 12/100\n",
      "20/20 [==============================] - 5s 268ms/step - loss: 0.6691 - accuracy: 0.6364 - val_loss: 1.0433 - val_accuracy: 0.4962\n",
      "Epoch 13/100\n",
      "20/20 [==============================] - 6s 287ms/step - loss: 0.6632 - accuracy: 0.6104 - val_loss: 0.5538 - val_accuracy: 0.6767\n",
      "Epoch 14/100\n",
      "20/20 [==============================] - 6s 320ms/step - loss: 0.6276 - accuracy: 0.6558 - val_loss: 0.5696 - val_accuracy: 0.6692\n",
      "Epoch 15/100\n",
      "20/20 [==============================] - 6s 319ms/step - loss: 0.6359 - accuracy: 0.6558 - val_loss: 0.6731 - val_accuracy: 0.6466\n",
      "Epoch 16/100\n",
      "20/20 [==============================] - 6s 293ms/step - loss: 0.6139 - accuracy: 0.6364 - val_loss: 0.6036 - val_accuracy: 0.7218\n",
      "Epoch 17/100\n",
      "20/20 [==============================] - 6s 275ms/step - loss: 0.6009 - accuracy: 0.6331 - val_loss: 0.5622 - val_accuracy: 0.6692\n",
      "Epoch 18/100\n",
      "20/20 [==============================] - 6s 291ms/step - loss: 0.6199 - accuracy: 0.6299 - val_loss: 0.5211 - val_accuracy: 0.7143\n",
      "6/6 [==============================] - 1s 82ms/step - loss: 0.5633 - accuracy: 0.6825\n"
     ]
    },
    {
     "data": {
      "text/plain": [
       "[0.5632972121238708, 0.682539701461792]"
      ]
     },
     "execution_count": 60,
     "metadata": {},
     "output_type": "execute_result"
    }
   ],
   "source": [
    "model_LSTM3 = Sequential()\n",
    "\n",
    "model_LSTM3.add(LSTM(64, return_sequences=True, activation='tanh', input_shape=(63,1)))\n",
    "model_LSTM3.add(LSTM(32, return_sequences=True, activation='tanh'))\n",
    "model_LSTM3.add(LSTM(20, return_sequences=False, activation='tanh'))\n",
    "model_LSTM3.add(Dense(10, activation='relu'))\n",
    "model_LSTM3.add(Dense(3, activation='softmax'))\n",
    "\n",
    "#model.compile(loss='mse', optimizer=Adam(learning_rate=0.5), metrics=['mae'])\n",
    "model_LSTM3.compile(loss='sparse_categorical_crossentropy', optimizer='rmsprop', metrics=['accuracy'])\n",
    "\n",
    "from tensorflow.keras.callbacks import EarlyStopping\n",
    "\n",
    "es = EarlyStopping(patience=7, restore_best_weights=True)\n",
    "\n",
    "history = model_LSTM3.fit(\n",
    "    X_train, y_train, \n",
    "    #validation_data=(X_test, y_test),\n",
    "    validation_split = 0.3,\n",
    "    callbacks=[es],\n",
    "    epochs=100, batch_size=16, verbose=1)\n",
    "\n",
    "model_LSTM3.evaluate(X_test, y_test, verbose = 1)"
   ]
  },
  {
   "attachments": {},
   "cell_type": "markdown",
   "id": "2ffb7425",
   "metadata": {},
   "source": [
    "------------------------"
   ]
  },
  {
   "attachments": {},
   "cell_type": "markdown",
   "id": "3c87cc4a",
   "metadata": {},
   "source": [
    "# Model 4"
   ]
  },
  {
   "cell_type": "code",
   "execution_count": 61,
   "id": "2b3b4aac",
   "metadata": {},
   "outputs": [
    {
     "name": "stdout",
     "output_type": "stream",
     "text": [
      "Epoch 1/100\n",
      "20/20 [==============================] - 101s 810ms/step - loss: 1.0998 - accuracy: 0.3344 - val_loss: 1.0942 - val_accuracy: 0.4812\n",
      "Epoch 2/100\n",
      "20/20 [==============================] - 8s 412ms/step - loss: 1.0347 - accuracy: 0.5065 - val_loss: 0.7211 - val_accuracy: 0.7143\n",
      "Epoch 3/100\n",
      "20/20 [==============================] - 10s 520ms/step - loss: 0.7789 - accuracy: 0.5682 - val_loss: 0.5908 - val_accuracy: 0.6917\n",
      "Epoch 4/100\n",
      "20/20 [==============================] - 11s 535ms/step - loss: 0.6645 - accuracy: 0.6526 - val_loss: 9.0219 - val_accuracy: 0.3158\n",
      "Epoch 5/100\n",
      "20/20 [==============================] - 12s 604ms/step - loss: 0.9115 - accuracy: 0.6364 - val_loss: 0.5231 - val_accuracy: 0.6767\n",
      "Epoch 6/100\n",
      "20/20 [==============================] - 11s 546ms/step - loss: 0.6761 - accuracy: 0.6071 - val_loss: 0.5525 - val_accuracy: 0.6692\n",
      "Epoch 7/100\n",
      "20/20 [==============================] - 11s 568ms/step - loss: 0.5937 - accuracy: 0.6299 - val_loss: 0.6093 - val_accuracy: 0.6541\n",
      "Epoch 8/100\n",
      "20/20 [==============================] - 11s 555ms/step - loss: 0.6448 - accuracy: 0.6006 - val_loss: 0.6599 - val_accuracy: 0.5789\n",
      "Epoch 9/100\n",
      "20/20 [==============================] - 10s 509ms/step - loss: 0.6969 - accuracy: 0.6039 - val_loss: 0.5505 - val_accuracy: 0.6466\n",
      "Epoch 10/100\n",
      "20/20 [==============================] - 12s 603ms/step - loss: 0.6130 - accuracy: 0.6169 - val_loss: 0.5790 - val_accuracy: 0.6466\n",
      "Epoch 11/100\n",
      "20/20 [==============================] - 11s 524ms/step - loss: 0.6105 - accuracy: 0.6071 - val_loss: 0.7751 - val_accuracy: 0.5263\n",
      "Epoch 12/100\n",
      "20/20 [==============================] - 11s 542ms/step - loss: 0.5954 - accuracy: 0.6266 - val_loss: 77.6335 - val_accuracy: 0.3910\n",
      "6/6 [==============================] - 1s 182ms/step - loss: 0.5574 - accuracy: 0.6508\n"
     ]
    },
    {
     "data": {
      "text/plain": [
       "[0.5573632121086121, 0.6507936716079712]"
      ]
     },
     "execution_count": 61,
     "metadata": {},
     "output_type": "execute_result"
    }
   ],
   "source": [
    "model_LSTM4 = Sequential()\n",
    "\n",
    "model_LSTM4.add(LSTM(128, return_sequences=True, activation='tanh', input_shape=(63,1)))\n",
    "model_LSTM4.add(LSTM(64, return_sequences=True, activation='tanh'))\n",
    "model_LSTM4.add(LSTM(32, return_sequences=True, activation='tanh'))\n",
    "model_LSTM4.add(LSTM(20, return_sequences=False, activation='relu'))\n",
    "model_LSTM4.add(Dense(10, activation='relu'))\n",
    "model_LSTM4.add(Dense(3, activation='softmax'))\n",
    "\n",
    "#model.compile(loss='mse', optimizer=Adam(learning_rate=0.5), metrics=['mae'])\n",
    "model_LSTM4.compile(loss='sparse_categorical_crossentropy', optimizer='rmsprop', metrics=['accuracy'])\n",
    "\n",
    "es = EarlyStopping(patience=7, restore_best_weights=True)\n",
    "\n",
    "history = model_LSTM4.fit(\n",
    "    X_train, y_train, \n",
    "    #validation_data=(X_test, y_test),\n",
    "    validation_split = 0.3,\n",
    "    callbacks=[es],\n",
    "    epochs=100, batch_size=16, verbose=1)\n",
    "\n",
    "model_LSTM4.evaluate(X_test, y_test, verbose = 1)"
   ]
  },
  {
   "attachments": {},
   "cell_type": "markdown",
   "id": "320e4b97",
   "metadata": {},
   "source": [
    "-------------------------------------"
   ]
  },
  {
   "attachments": {},
   "cell_type": "markdown",
   "id": "f42cf8f0",
   "metadata": {},
   "source": [
    "# Model 5"
   ]
  },
  {
   "cell_type": "code",
   "execution_count": 62,
   "id": "d126f7b7",
   "metadata": {},
   "outputs": [
    {
     "name": "stdout",
     "output_type": "stream",
     "text": [
      "Epoch 1/100\n",
      "20/20 [==============================] - 53s 890ms/step - loss: 1.0992 - accuracy: 0.3247 - val_loss: 1.0979 - val_accuracy: 0.3158\n",
      "Epoch 2/100\n",
      "20/20 [==============================] - 9s 455ms/step - loss: 1.0945 - accuracy: 0.3312 - val_loss: 1.0827 - val_accuracy: 0.3158\n",
      "Epoch 3/100\n",
      "20/20 [==============================] - 8s 426ms/step - loss: 1.0968 - accuracy: 0.4416 - val_loss: 1.1032 - val_accuracy: 0.3158\n",
      "Epoch 4/100\n",
      "20/20 [==============================] - 9s 445ms/step - loss: 1.1054 - accuracy: 0.3571 - val_loss: 1.1004 - val_accuracy: 0.3158\n",
      "Epoch 5/100\n",
      "20/20 [==============================] - 10s 494ms/step - loss: 1.1011 - accuracy: 0.3149 - val_loss: 1.1026 - val_accuracy: 0.3158\n",
      "Epoch 6/100\n",
      "20/20 [==============================] - 10s 468ms/step - loss: 1.1019 - accuracy: 0.3279 - val_loss: 1.0987 - val_accuracy: 0.3383\n",
      "Epoch 7/100\n",
      "20/20 [==============================] - 10s 507ms/step - loss: 1.1027 - accuracy: 0.2955 - val_loss: 1.0984 - val_accuracy: 0.3534\n",
      "Epoch 8/100\n",
      "20/20 [==============================] - 9s 477ms/step - loss: 1.0993 - accuracy: 0.3019 - val_loss: 1.0987 - val_accuracy: 0.3158\n",
      "Epoch 9/100\n",
      "20/20 [==============================] - 9s 472ms/step - loss: 1.1008 - accuracy: 0.2760 - val_loss: 1.0990 - val_accuracy: 0.3158\n",
      "6/6 [==============================] - 1s 122ms/step - loss: 1.0814 - accuracy: 0.3333\n"
     ]
    },
    {
     "data": {
      "text/plain": [
       "[1.081438660621643, 0.3333333432674408]"
      ]
     },
     "execution_count": 62,
     "metadata": {},
     "output_type": "execute_result"
    }
   ],
   "source": [
    "model_LSTM5 = Sequential()\n",
    "\n",
    "model_LSTM5.add(LSTM(128, return_sequences=True, activation='tanh', input_shape=(63,1)))\n",
    "model_LSTM5.add(LSTM(64, return_sequences=True, activation='tanh'))\n",
    "model_LSTM5.add(LSTM(32, return_sequences=True, activation='tanh'))\n",
    "model_LSTM5.add(LSTM(26, return_sequences=True, activation='relu'))\n",
    "model_LSTM5.add(LSTM(20, return_sequences=False, activation='relu'))\n",
    "model_LSTM5.add(Dense(10, activation='relu'))\n",
    "model_LSTM5.add(Dense(3, activation='softmax'))\n",
    "\n",
    "#model.compile(loss='mse', optimizer=Adam(learning_rate=0.5), metrics=['mae'])\n",
    "model_LSTM5.compile(loss='sparse_categorical_crossentropy', optimizer='rmsprop', metrics=['accuracy'])\n",
    "\n",
    "es = EarlyStopping(patience=7, restore_best_weights=True)\n",
    "\n",
    "history = model_LSTM5.fit(\n",
    "    X_train, y_train, \n",
    "    #validation_data=(X_test, y_test),\n",
    "    validation_split = 0.3,\n",
    "    callbacks=[es],\n",
    "    epochs=100, batch_size=16, verbose=1)\n",
    "\n",
    "model_LSTM5.evaluate(X_test, y_test, verbose = 1)"
   ]
  },
  {
   "attachments": {},
   "cell_type": "markdown",
   "id": "9f559449",
   "metadata": {},
   "source": [
    "----------------------------"
   ]
  },
  {
   "attachments": {},
   "cell_type": "markdown",
   "id": "ca5d761c",
   "metadata": {},
   "source": [
    "# Model 6"
   ]
  },
  {
   "cell_type": "code",
   "execution_count": 63,
   "id": "9b77749c",
   "metadata": {},
   "outputs": [
    {
     "name": "stdout",
     "output_type": "stream",
     "text": [
      "Epoch 1/100\n",
      "20/20 [==============================] - 90s 1s/step - loss: 1.0990 - accuracy: 0.3214 - val_loss: 1.0987 - val_accuracy: 0.3158\n",
      "Epoch 2/100\n",
      "20/20 [==============================] - 13s 628ms/step - loss: 1.0988 - accuracy: 0.3506 - val_loss: 1.0988 - val_accuracy: 0.3158\n",
      "Epoch 3/100\n",
      "20/20 [==============================] - 14s 698ms/step - loss: 1.0990 - accuracy: 0.3247 - val_loss: 1.0988 - val_accuracy: 0.3158\n",
      "Epoch 4/100\n",
      "20/20 [==============================] - 13s 665ms/step - loss: 1.0987 - accuracy: 0.3182 - val_loss: 1.0987 - val_accuracy: 0.3383\n",
      "Epoch 5/100\n",
      "20/20 [==============================] - 14s 694ms/step - loss: 1.0988 - accuracy: 0.3312 - val_loss: 1.0986 - val_accuracy: 0.3383\n",
      "Epoch 6/100\n",
      "20/20 [==============================] - 15s 766ms/step - loss: 1.0988 - accuracy: 0.3279 - val_loss: 1.0986 - val_accuracy: 0.3383\n",
      "Epoch 7/100\n",
      "20/20 [==============================] - 14s 710ms/step - loss: 1.0989 - accuracy: 0.3117 - val_loss: 1.0986 - val_accuracy: 0.3383\n",
      "Epoch 8/100\n",
      "20/20 [==============================] - 18s 883ms/step - loss: 1.0988 - accuracy: 0.3052 - val_loss: 1.0988 - val_accuracy: 0.3158\n",
      "Epoch 9/100\n",
      "20/20 [==============================] - 14s 719ms/step - loss: 1.0988 - accuracy: 0.3247 - val_loss: 1.0988 - val_accuracy: 0.3158\n",
      "Epoch 10/100\n",
      "20/20 [==============================] - 15s 749ms/step - loss: 1.0987 - accuracy: 0.2955 - val_loss: 1.0989 - val_accuracy: 0.3158\n",
      "Epoch 11/100\n",
      "20/20 [==============================] - 14s 716ms/step - loss: 1.0985 - accuracy: 0.3409 - val_loss: 1.0980 - val_accuracy: 0.3158\n",
      "Epoch 12/100\n",
      "20/20 [==============================] - 15s 729ms/step - loss: 1.0952 - accuracy: 0.3247 - val_loss: 1.0990 - val_accuracy: 0.3383\n",
      "Epoch 13/100\n",
      "20/20 [==============================] - 17s 835ms/step - loss: 1.0747 - accuracy: 0.3506 - val_loss: 11.2005 - val_accuracy: 0.3383\n",
      "Epoch 14/100\n",
      "20/20 [==============================] - 13s 670ms/step - loss: 1.7050 - accuracy: 0.6039 - val_loss: 0.8713 - val_accuracy: 0.5564\n",
      "Epoch 15/100\n",
      "20/20 [==============================] - 15s 765ms/step - loss: 0.7449 - accuracy: 0.6396 - val_loss: 0.5951 - val_accuracy: 0.6992\n",
      "Epoch 16/100\n",
      "20/20 [==============================] - 16s 793ms/step - loss: 0.7099 - accuracy: 0.6526 - val_loss: 0.5608 - val_accuracy: 0.6917\n",
      "Epoch 17/100\n",
      "20/20 [==============================] - 16s 805ms/step - loss: 0.7853 - accuracy: 0.6266 - val_loss: 0.5561 - val_accuracy: 0.7068\n",
      "Epoch 18/100\n",
      "20/20 [==============================] - 15s 765ms/step - loss: 0.6372 - accuracy: 0.6169 - val_loss: 0.5425 - val_accuracy: 0.6466\n",
      "Epoch 19/100\n",
      "20/20 [==============================] - 12s 612ms/step - loss: 0.6813 - accuracy: 0.6331 - val_loss: 0.6447 - val_accuracy: 0.6466\n",
      "Epoch 20/100\n",
      "20/20 [==============================] - 13s 627ms/step - loss: 0.5647 - accuracy: 0.6429 - val_loss: 0.7756 - val_accuracy: 0.6015\n",
      "Epoch 21/100\n",
      "20/20 [==============================] - 13s 658ms/step - loss: 0.6839 - accuracy: 0.6429 - val_loss: 0.5389 - val_accuracy: 0.6466\n",
      "Epoch 22/100\n",
      "20/20 [==============================] - 14s 675ms/step - loss: 0.6877 - accuracy: 0.6104 - val_loss: 0.6968 - val_accuracy: 0.5639\n",
      "Epoch 23/100\n",
      "20/20 [==============================] - 13s 669ms/step - loss: 0.6406 - accuracy: 0.6331 - val_loss: 0.6801 - val_accuracy: 0.6090\n",
      "Epoch 24/100\n",
      "20/20 [==============================] - 12s 603ms/step - loss: 0.6405 - accuracy: 0.6201 - val_loss: 0.6099 - val_accuracy: 0.6391\n",
      "Epoch 25/100\n",
      "20/20 [==============================] - 10s 501ms/step - loss: 0.5733 - accuracy: 0.6591 - val_loss: 0.5986 - val_accuracy: 0.6541\n",
      "Epoch 26/100\n",
      "20/20 [==============================] - 10s 519ms/step - loss: 0.7279 - accuracy: 0.6721 - val_loss: 0.5379 - val_accuracy: 0.6466\n",
      "Epoch 27/100\n",
      "20/20 [==============================] - 12s 610ms/step - loss: 0.5480 - accuracy: 0.6688 - val_loss: 1.2883 - val_accuracy: 0.4286\n",
      "Epoch 28/100\n",
      "20/20 [==============================] - 10s 518ms/step - loss: 0.6352 - accuracy: 0.6429 - val_loss: 0.6638 - val_accuracy: 0.5714\n",
      "Epoch 29/100\n",
      "20/20 [==============================] - 12s 611ms/step - loss: 0.6236 - accuracy: 0.6331 - val_loss: 0.5300 - val_accuracy: 0.6617\n",
      "Epoch 30/100\n",
      "20/20 [==============================] - 12s 605ms/step - loss: 0.6011 - accuracy: 0.6104 - val_loss: 0.5324 - val_accuracy: 0.6466\n",
      "Epoch 31/100\n",
      "20/20 [==============================] - 11s 556ms/step - loss: 0.6197 - accuracy: 0.6234 - val_loss: 0.6466 - val_accuracy: 0.6241\n",
      "Epoch 32/100\n",
      "20/20 [==============================] - 12s 613ms/step - loss: 0.5961 - accuracy: 0.6201 - val_loss: 0.5591 - val_accuracy: 0.6466\n",
      "Epoch 33/100\n",
      "20/20 [==============================] - 11s 524ms/step - loss: 0.6381 - accuracy: 0.6558 - val_loss: 0.5422 - val_accuracy: 0.6917\n",
      "Epoch 34/100\n",
      "20/20 [==============================] - 11s 560ms/step - loss: 0.5753 - accuracy: 0.6623 - val_loss: 0.5442 - val_accuracy: 0.6842\n",
      "Epoch 35/100\n",
      "20/20 [==============================] - 12s 574ms/step - loss: 0.5972 - accuracy: 0.6591 - val_loss: 0.5301 - val_accuracy: 0.6541\n",
      "Epoch 36/100\n",
      "20/20 [==============================] - 11s 546ms/step - loss: 0.5543 - accuracy: 0.6494 - val_loss: 1.5529 - val_accuracy: 0.4436\n",
      "6/6 [==============================] - 1s 231ms/step - loss: 0.5752 - accuracy: 0.6561\n"
     ]
    },
    {
     "data": {
      "text/plain": [
       "[0.5752349495887756, 0.6560846567153931]"
      ]
     },
     "execution_count": 63,
     "metadata": {},
     "output_type": "execute_result"
    }
   ],
   "source": [
    "model_LSTM6 = Sequential()\n",
    "\n",
    "model_LSTM6.add(LSTM(128, return_sequences=True, activation='tanh', input_shape=(63,1)))\n",
    "model_LSTM6.add(LSTM(64, return_sequences=True, activation='relu'))\n",
    "model_LSTM6.add(LSTM(32, return_sequences=True, activation='tanh'))\n",
    "model_LSTM6.add(LSTM(26, return_sequences=True, activation='relu'))\n",
    "model_LSTM6.add(LSTM(20, return_sequences=False, activation='relu'))\n",
    "model_LSTM6.add(Dense(10, activation='relu'))\n",
    "model_LSTM6.add(Dense(3, activation='softmax'))\n",
    "\n",
    "#model.compile(loss='mse', optimizer=Adam(learning_rate=0.5), metrics=['mae'])\n",
    "model_LSTM6.compile(loss='sparse_categorical_crossentropy', optimizer='rmsprop', metrics=['accuracy'])\n",
    "\n",
    "es = EarlyStopping(patience=7, restore_best_weights=True)\n",
    "\n",
    "history = model_LSTM6.fit(\n",
    "    X_train, y_train, \n",
    "    #validation_data=(X_test, y_test),\n",
    "    validation_split = 0.3,\n",
    "    callbacks=[es],\n",
    "    epochs=100, batch_size=16, verbose=1)\n",
    "\n",
    "model_LSTM6.evaluate(X_test, y_test, verbose = 1)"
   ]
  },
  {
   "attachments": {},
   "cell_type": "markdown",
   "id": "bc38d2ae",
   "metadata": {},
   "source": [
    "---------------------"
   ]
  },
  {
   "cell_type": "code",
   "execution_count": 64,
   "id": "1f00f82d",
   "metadata": {},
   "outputs": [
    {
     "name": "stdout",
     "output_type": "stream",
     "text": [
      "Epoch 1/100\n",
      "20/20 [==============================] - 113s 2s/step - loss: 1.0991 - accuracy: 0.3117 - val_loss: 1.0986 - val_accuracy: 0.3158\n",
      "Epoch 2/100\n",
      "20/20 [==============================] - 16s 779ms/step - loss: 1.0990 - accuracy: 0.3182 - val_loss: 1.0985 - val_accuracy: 0.3158\n",
      "Epoch 3/100\n",
      "20/20 [==============================] - 15s 765ms/step - loss: 1.0990 - accuracy: 0.3214 - val_loss: 1.0991 - val_accuracy: 0.3158\n",
      "Epoch 4/100\n",
      "20/20 [==============================] - 14s 703ms/step - loss: 1.0975 - accuracy: 0.3409 - val_loss: 1.0948 - val_accuracy: 0.3158\n",
      "Epoch 5/100\n",
      "20/20 [==============================] - 15s 729ms/step - loss: 1.0890 - accuracy: 0.4318 - val_loss: 1.0690 - val_accuracy: 0.6541\n",
      "Epoch 6/100\n",
      "20/20 [==============================] - 15s 720ms/step - loss: 2.0063 - accuracy: 0.5032 - val_loss: 0.9512 - val_accuracy: 0.5263\n",
      "Epoch 7/100\n",
      "20/20 [==============================] - 13s 670ms/step - loss: 0.8824 - accuracy: 0.5357 - val_loss: 0.9178 - val_accuracy: 0.6391\n",
      "Epoch 8/100\n",
      "20/20 [==============================] - 15s 758ms/step - loss: 0.7578 - accuracy: 0.6364 - val_loss: 1.3066 - val_accuracy: 0.3158\n",
      "Epoch 9/100\n",
      "20/20 [==============================] - 14s 711ms/step - loss: 0.7293 - accuracy: 0.5812 - val_loss: 0.8909 - val_accuracy: 0.5338\n",
      "Epoch 10/100\n",
      "20/20 [==============================] - 13s 667ms/step - loss: 0.6343 - accuracy: 0.6104 - val_loss: 0.5890 - val_accuracy: 0.6391\n",
      "Epoch 11/100\n",
      "20/20 [==============================] - 15s 758ms/step - loss: 0.6568 - accuracy: 0.6169 - val_loss: 0.6234 - val_accuracy: 0.6541\n",
      "Epoch 12/100\n",
      "20/20 [==============================] - 15s 773ms/step - loss: 0.6426 - accuracy: 0.6526 - val_loss: 0.5759 - val_accuracy: 0.6241\n",
      "Epoch 13/100\n",
      "20/20 [==============================] - 14s 713ms/step - loss: 0.6787 - accuracy: 0.5844 - val_loss: 0.6113 - val_accuracy: 0.6842\n",
      "Epoch 14/100\n",
      "20/20 [==============================] - 13s 656ms/step - loss: 0.5793 - accuracy: 0.6883 - val_loss: 0.5284 - val_accuracy: 0.6241\n",
      "Epoch 15/100\n",
      "20/20 [==============================] - 14s 705ms/step - loss: 0.5927 - accuracy: 0.6169 - val_loss: 0.5472 - val_accuracy: 0.6692\n",
      "Epoch 16/100\n",
      "20/20 [==============================] - 15s 752ms/step - loss: 0.5716 - accuracy: 0.6494 - val_loss: 0.8173 - val_accuracy: 0.5414\n",
      "Epoch 17/100\n",
      "20/20 [==============================] - 15s 764ms/step - loss: 0.5946 - accuracy: 0.6494 - val_loss: 1.0364 - val_accuracy: 0.5338\n",
      "Epoch 18/100\n",
      "20/20 [==============================] - 15s 741ms/step - loss: 0.6174 - accuracy: 0.6299 - val_loss: 0.6375 - val_accuracy: 0.6241\n",
      "Epoch 19/100\n",
      "20/20 [==============================] - 14s 721ms/step - loss: 0.5986 - accuracy: 0.6623 - val_loss: 0.8251 - val_accuracy: 0.5489\n",
      "Epoch 20/100\n",
      "20/20 [==============================] - 14s 679ms/step - loss: 0.5831 - accuracy: 0.6169 - val_loss: 1.1678 - val_accuracy: 0.4211\n",
      "Epoch 21/100\n",
      "20/20 [==============================] - 16s 811ms/step - loss: 0.5965 - accuracy: 0.6266 - val_loss: 0.5408 - val_accuracy: 0.6617\n",
      "6/6 [==============================] - 3s 403ms/step - loss: 0.5605 - accuracy: 0.6349\n"
     ]
    },
    {
     "data": {
      "text/plain": [
       "[0.5605468153953552, 0.6349206566810608]"
      ]
     },
     "execution_count": 64,
     "metadata": {},
     "output_type": "execute_result"
    }
   ],
   "source": [
    "model_LSTM7 = Sequential()\n",
    "\n",
    "model_LSTM7.add(LSTM(128, return_sequences=True, activation='tanh', input_shape=(63,1)))\n",
    "model_LSTM7.add(LSTM(64, return_sequences=True, activation='relu'))\n",
    "model_LSTM7.add(LSTM(32, return_sequences=True, activation='relu'))\n",
    "model_LSTM7.add(LSTM(26, return_sequences=True, activation='relu'))\n",
    "model_LSTM7.add(LSTM(20, return_sequences=False, activation='relu'))\n",
    "model_LSTM7.add(Dense(10, activation='relu'))\n",
    "model_LSTM7.add(Dense(3, activation='softmax'))\n",
    "\n",
    "#model.compile(loss='mse', optimizer=Adam(learning_rate=0.5), metrics=['mae'])\n",
    "model_LSTM7.compile(loss='sparse_categorical_crossentropy', optimizer='rmsprop', metrics=['accuracy'])\n",
    "\n",
    "es = EarlyStopping(patience=7, restore_best_weights=True)\n",
    "\n",
    "history = model_LSTM7.fit(\n",
    "    X_train, y_train, \n",
    "    #validation_data=(X_test, y_test),\n",
    "    validation_split = 0.3,\n",
    "    callbacks=[es],\n",
    "    epochs=100, batch_size=16, verbose=1)\n",
    "\n",
    "model_LSTM7.evaluate(X_test, y_test, verbose = 1)"
   ]
  },
  {
   "attachments": {},
   "cell_type": "markdown",
   "id": "0fb2c883",
   "metadata": {},
   "source": [
    "----------------"
   ]
  },
  {
   "attachments": {},
   "cell_type": "markdown",
   "id": "c467598c",
   "metadata": {},
   "source": [
    "# MODELE 8  :  @ 96.29% d'ACCURACY, loss @ 0.08"
   ]
  },
  {
   "cell_type": "code",
   "execution_count": 53,
   "id": "7991ba30",
   "metadata": {},
   "outputs": [
    {
     "name": "stdout",
     "output_type": "stream",
     "text": [
      "Epoch 1/100\n",
      "20/20 [==============================] - 44s 757ms/step - loss: 1.0992 - accuracy: 0.3279 - val_loss: 1.0988 - val_accuracy: 0.3158\n",
      "Epoch 2/100\n",
      "20/20 [==============================] - 9s 444ms/step - loss: 1.0988 - accuracy: 0.3344 - val_loss: 1.0983 - val_accuracy: 0.3459\n",
      "Epoch 3/100\n",
      "20/20 [==============================] - 8s 402ms/step - loss: 1.0988 - accuracy: 0.3474 - val_loss: 1.0983 - val_accuracy: 0.3158\n",
      "Epoch 4/100\n",
      "20/20 [==============================] - 9s 430ms/step - loss: 1.0984 - accuracy: 0.3636 - val_loss: 1.0976 - val_accuracy: 0.3158\n",
      "Epoch 5/100\n",
      "20/20 [==============================] - 10s 478ms/step - loss: 1.0969 - accuracy: 0.4481 - val_loss: 1.0941 - val_accuracy: 0.3459\n",
      "Epoch 6/100\n",
      "20/20 [==============================] - 8s 396ms/step - loss: 1.0783 - accuracy: 0.4448 - val_loss: 1.0335 - val_accuracy: 0.6466\n",
      "Epoch 7/100\n",
      "20/20 [==============================] - 9s 434ms/step - loss: 1.0410 - accuracy: 0.5487 - val_loss: 0.9260 - val_accuracy: 0.5714\n",
      "Epoch 8/100\n",
      "20/20 [==============================] - 10s 495ms/step - loss: 0.8880 - accuracy: 0.5974 - val_loss: 0.8264 - val_accuracy: 0.5489\n",
      "Epoch 9/100\n",
      "20/20 [==============================] - 9s 465ms/step - loss: 0.9115 - accuracy: 0.5942 - val_loss: 0.8417 - val_accuracy: 0.6617\n",
      "Epoch 10/100\n",
      "20/20 [==============================] - 9s 445ms/step - loss: 0.8487 - accuracy: 0.6104 - val_loss: 0.7602 - val_accuracy: 0.6541\n",
      "Epoch 11/100\n",
      "20/20 [==============================] - 10s 515ms/step - loss: 0.8483 - accuracy: 0.6071 - val_loss: 0.8439 - val_accuracy: 0.5714\n",
      "Epoch 12/100\n",
      "20/20 [==============================] - 11s 512ms/step - loss: 0.9074 - accuracy: 0.6039 - val_loss: 0.6998 - val_accuracy: 0.7293\n",
      "Epoch 13/100\n",
      "20/20 [==============================] - 9s 467ms/step - loss: 0.6917 - accuracy: 0.6883 - val_loss: 0.6585 - val_accuracy: 0.7293\n",
      "Epoch 14/100\n",
      "20/20 [==============================] - 9s 469ms/step - loss: 0.7167 - accuracy: 0.6786 - val_loss: 0.6096 - val_accuracy: 0.8120\n",
      "Epoch 15/100\n",
      "20/20 [==============================] - 9s 473ms/step - loss: 0.6427 - accuracy: 0.7305 - val_loss: 0.5848 - val_accuracy: 0.7594\n",
      "Epoch 16/100\n",
      "20/20 [==============================] - 9s 455ms/step - loss: 0.7598 - accuracy: 0.7370 - val_loss: 0.6713 - val_accuracy: 0.6241\n",
      "Epoch 17/100\n",
      "20/20 [==============================] - 10s 491ms/step - loss: 0.6278 - accuracy: 0.7435 - val_loss: 0.5620 - val_accuracy: 0.7669\n",
      "Epoch 18/100\n",
      "20/20 [==============================] - 10s 502ms/step - loss: 0.6808 - accuracy: 0.7370 - val_loss: 0.6849 - val_accuracy: 0.6767\n",
      "Epoch 19/100\n",
      "20/20 [==============================] - 9s 468ms/step - loss: 0.6027 - accuracy: 0.7695 - val_loss: 0.5639 - val_accuracy: 0.8271\n",
      "Epoch 20/100\n",
      "20/20 [==============================] - 10s 509ms/step - loss: 0.6412 - accuracy: 0.7468 - val_loss: 0.5784 - val_accuracy: 0.8496\n",
      "Epoch 21/100\n",
      "20/20 [==============================] - 10s 485ms/step - loss: 0.5558 - accuracy: 0.7857 - val_loss: 0.4076 - val_accuracy: 0.8496\n",
      "Epoch 22/100\n",
      "20/20 [==============================] - 10s 499ms/step - loss: 0.5355 - accuracy: 0.7500 - val_loss: 0.4216 - val_accuracy: 0.8571\n",
      "Epoch 23/100\n",
      "20/20 [==============================] - 10s 503ms/step - loss: 0.5608 - accuracy: 0.7760 - val_loss: 0.9283 - val_accuracy: 0.4737\n",
      "Epoch 24/100\n",
      "20/20 [==============================] - 9s 453ms/step - loss: 0.5638 - accuracy: 0.7825 - val_loss: 0.5523 - val_accuracy: 0.6842\n",
      "Epoch 25/100\n",
      "20/20 [==============================] - 9s 453ms/step - loss: 0.5435 - accuracy: 0.7727 - val_loss: 0.9236 - val_accuracy: 0.6015\n",
      "Epoch 26/100\n",
      "20/20 [==============================] - 10s 494ms/step - loss: 0.5341 - accuracy: 0.7987 - val_loss: 0.3865 - val_accuracy: 0.8797\n",
      "Epoch 27/100\n",
      "20/20 [==============================] - 11s 534ms/step - loss: 0.4411 - accuracy: 0.8117 - val_loss: 0.9217 - val_accuracy: 0.5639\n",
      "Epoch 28/100\n",
      "20/20 [==============================] - 10s 503ms/step - loss: 0.5294 - accuracy: 0.7987 - val_loss: 0.4487 - val_accuracy: 0.7594\n",
      "Epoch 29/100\n",
      "20/20 [==============================] - 11s 531ms/step - loss: 0.4527 - accuracy: 0.8506 - val_loss: 0.4502 - val_accuracy: 0.8421\n",
      "Epoch 30/100\n",
      "20/20 [==============================] - 10s 516ms/step - loss: 0.6172 - accuracy: 0.8377 - val_loss: 0.4220 - val_accuracy: 0.8045\n",
      "Epoch 31/100\n",
      "20/20 [==============================] - 11s 532ms/step - loss: 0.5920 - accuracy: 0.8539 - val_loss: 0.2490 - val_accuracy: 0.9173\n",
      "Epoch 32/100\n",
      "20/20 [==============================] - 9s 430ms/step - loss: 0.2843 - accuracy: 0.9058 - val_loss: 0.1763 - val_accuracy: 0.9398\n",
      "Epoch 33/100\n",
      "20/20 [==============================] - 10s 484ms/step - loss: 0.2616 - accuracy: 0.8994 - val_loss: 0.1676 - val_accuracy: 0.9323\n",
      "Epoch 34/100\n",
      "20/20 [==============================] - 8s 423ms/step - loss: 0.3952 - accuracy: 0.8701 - val_loss: 0.2256 - val_accuracy: 0.9549\n",
      "Epoch 35/100\n",
      "20/20 [==============================] - 10s 476ms/step - loss: 0.2491 - accuracy: 0.9351 - val_loss: 0.2049 - val_accuracy: 0.9323\n",
      "Epoch 36/100\n",
      "20/20 [==============================] - 8s 411ms/step - loss: 0.3047 - accuracy: 0.8864 - val_loss: 1.4973 - val_accuracy: 0.6842\n",
      "Epoch 37/100\n",
      "20/20 [==============================] - 9s 436ms/step - loss: 0.4376 - accuracy: 0.8636 - val_loss: 0.6873 - val_accuracy: 0.7068\n",
      "Epoch 38/100\n",
      "20/20 [==============================] - 11s 544ms/step - loss: 0.3444 - accuracy: 0.8766 - val_loss: 0.1182 - val_accuracy: 0.9624\n",
      "Epoch 39/100\n",
      "20/20 [==============================] - 10s 511ms/step - loss: 0.3492 - accuracy: 0.8799 - val_loss: 0.3451 - val_accuracy: 0.9474\n",
      "Epoch 40/100\n",
      "20/20 [==============================] - 9s 423ms/step - loss: 0.3252 - accuracy: 0.9286 - val_loss: 0.1737 - val_accuracy: 0.9624\n",
      "Epoch 41/100\n",
      "20/20 [==============================] - 8s 410ms/step - loss: 0.2711 - accuracy: 0.9123 - val_loss: 0.0280 - val_accuracy: 0.9925\n",
      "Epoch 42/100\n",
      "20/20 [==============================] - 9s 437ms/step - loss: 455.8755 - accuracy: 0.7403 - val_loss: 0.5567 - val_accuracy: 0.8045\n",
      "Epoch 43/100\n",
      "20/20 [==============================] - 9s 428ms/step - loss: 0.4798 - accuracy: 0.8377 - val_loss: 0.1797 - val_accuracy: 0.9398\n",
      "Epoch 44/100\n",
      "20/20 [==============================] - 10s 480ms/step - loss: 0.1913 - accuracy: 0.9416 - val_loss: 0.0505 - val_accuracy: 0.9850\n",
      "Epoch 45/100\n",
      "20/20 [==============================] - 9s 461ms/step - loss: 0.1195 - accuracy: 0.9675 - val_loss: 0.3664 - val_accuracy: 0.8872\n",
      "Epoch 46/100\n",
      "20/20 [==============================] - 9s 419ms/step - loss: 2.1074 - accuracy: 0.9481 - val_loss: 138.9499 - val_accuracy: 0.3759\n",
      "Epoch 47/100\n",
      "20/20 [==============================] - 9s 435ms/step - loss: 10.5940 - accuracy: 0.8734 - val_loss: 0.2638 - val_accuracy: 0.9023\n",
      "Epoch 48/100\n",
      "20/20 [==============================] - 9s 436ms/step - loss: 0.2014 - accuracy: 0.9416 - val_loss: 0.0757 - val_accuracy: 0.9774\n",
      "6/6 [==============================] - 1s 159ms/step - loss: 0.0793 - accuracy: 0.9630\n"
     ]
    },
    {
     "data": {
      "text/plain": [
       "[0.07932227849960327, 0.9629629850387573]"
      ]
     },
     "execution_count": 53,
     "metadata": {},
     "output_type": "execute_result"
    }
   ],
   "source": [
    "model_LSTM8 = Sequential()\n",
    "\n",
    "model_LSTM8.add(LSTM(128, return_sequences=True, activation='relu', input_shape=(63,1)))\n",
    "model_LSTM8.add(LSTM(64, return_sequences=True, activation='relu'))\n",
    "model_LSTM8.add(LSTM(32, return_sequences=True, activation='relu'))\n",
    "model_LSTM8.add(LSTM(26, return_sequences=True, activation='relu'))\n",
    "model_LSTM8.add(LSTM(20, return_sequences=False, activation='relu'))\n",
    "model_LSTM8.add(Dense(10, activation='relu'))\n",
    "model_LSTM8.add(Dense(3, activation='softmax'))\n",
    "\n",
    "#model.compile(loss='mse', optimizer=Adam(learning_rate=0.5), metrics=['mae'])\n",
    "model_LSTM8.compile(loss='sparse_categorical_crossentropy', optimizer='rmsprop', metrics=['accuracy'])\n",
    "\n",
    "es = EarlyStopping(patience=7, restore_best_weights=True)\n",
    "\n",
    "history = model_LSTM8.fit(\n",
    "    X_train, y_train, \n",
    "    #validation_data=(X_test, y_test),\n",
    "    validation_split = 0.3,\n",
    "    callbacks=[es],\n",
    "    epochs=100, batch_size=16, verbose=1)\n",
    "\n",
    "model_LSTM8.evaluate(X_test, y_test, verbose = 1)"
   ]
  },
  {
   "attachments": {},
   "cell_type": "markdown",
   "id": "97c85889",
   "metadata": {},
   "source": [
    "---------------"
   ]
  },
  {
   "attachments": {},
   "cell_type": "markdown",
   "id": "2465fa0a",
   "metadata": {},
   "source": [
    "# MODELE 9  :   @ 99.45%, loss @ 0.036"
   ]
  },
  {
   "cell_type": "code",
   "execution_count": 29,
   "id": "4de3d19c",
   "metadata": {},
   "outputs": [],
   "source": [
    "from tensorflow.keras.callbacks import EarlyStopping"
   ]
  },
  {
   "cell_type": "code",
   "execution_count": 30,
   "id": "d5c16c24",
   "metadata": {},
   "outputs": [
    {
     "name": "stdout",
     "output_type": "stream",
     "text": [
      "Epoch 1/100\n",
      "20/20 [==============================] - 94s 1s/step - loss: 1.0994 - accuracy: 0.3052 - val_loss: 1.0981 - val_accuracy: 0.3459\n",
      "Epoch 2/100\n",
      "20/20 [==============================] - 12s 623ms/step - loss: 1.0988 - accuracy: 0.3214 - val_loss: 1.0976 - val_accuracy: 0.3459\n",
      "Epoch 3/100\n",
      "20/20 [==============================] - 17s 861ms/step - loss: 1.0980 - accuracy: 0.3377 - val_loss: 1.0951 - val_accuracy: 0.4211\n",
      "Epoch 4/100\n",
      "20/20 [==============================] - 16s 797ms/step - loss: 1.0867 - accuracy: 0.4188 - val_loss: 1.0705 - val_accuracy: 0.6541\n",
      "Epoch 5/100\n",
      "20/20 [==============================] - 14s 725ms/step - loss: 0.9758 - accuracy: 0.5747 - val_loss: 0.8608 - val_accuracy: 0.4962\n",
      "Epoch 6/100\n",
      "20/20 [==============================] - 12s 612ms/step - loss: 0.9104 - accuracy: 0.6201 - val_loss: 0.9580 - val_accuracy: 0.7218\n",
      "Epoch 7/100\n",
      "20/20 [==============================] - 12s 616ms/step - loss: 0.8789 - accuracy: 0.6623 - val_loss: 0.7295 - val_accuracy: 0.7519\n",
      "Epoch 8/100\n",
      "20/20 [==============================] - 12s 611ms/step - loss: 0.8265 - accuracy: 0.7208 - val_loss: 0.7113 - val_accuracy: 0.7669\n",
      "Epoch 9/100\n",
      "20/20 [==============================] - 13s 660ms/step - loss: 0.8620 - accuracy: 0.6688 - val_loss: 0.7843 - val_accuracy: 0.8947\n",
      "Epoch 10/100\n",
      "20/20 [==============================] - 16s 777ms/step - loss: 0.7292 - accuracy: 0.7890 - val_loss: 0.9554 - val_accuracy: 0.4436\n",
      "Epoch 11/100\n",
      "20/20 [==============================] - 11s 571ms/step - loss: 0.8017 - accuracy: 0.6883 - val_loss: 0.6544 - val_accuracy: 0.7519\n",
      "Epoch 12/100\n",
      "20/20 [==============================] - 13s 638ms/step - loss: 0.7638 - accuracy: 0.7273 - val_loss: 0.8132 - val_accuracy: 0.5865\n",
      "Epoch 13/100\n",
      "20/20 [==============================] - 14s 693ms/step - loss: 0.7522 - accuracy: 0.7273 - val_loss: 0.6355 - val_accuracy: 0.7970\n",
      "Epoch 14/100\n",
      "20/20 [==============================] - 12s 612ms/step - loss: 0.6356 - accuracy: 0.7955 - val_loss: 0.6230 - val_accuracy: 0.7669\n",
      "Epoch 15/100\n",
      "20/20 [==============================] - 12s 586ms/step - loss: 0.6616 - accuracy: 0.7110 - val_loss: 1.0274 - val_accuracy: 0.3609\n",
      "Epoch 16/100\n",
      "20/20 [==============================] - 18s 919ms/step - loss: 0.5739 - accuracy: 0.7695 - val_loss: 0.7745 - val_accuracy: 0.6767\n",
      "Epoch 17/100\n",
      "20/20 [==============================] - 17s 800ms/step - loss: 0.4907 - accuracy: 0.8442 - val_loss: 0.3964 - val_accuracy: 0.8571\n",
      "Epoch 18/100\n",
      "20/20 [==============================] - 14s 711ms/step - loss: 0.5414 - accuracy: 0.7857 - val_loss: 0.3295 - val_accuracy: 0.9023\n",
      "Epoch 19/100\n",
      "20/20 [==============================] - 14s 663ms/step - loss: 0.4457 - accuracy: 0.8214 - val_loss: 1.8074 - val_accuracy: 0.5038\n",
      "Epoch 20/100\n",
      "20/20 [==============================] - 13s 636ms/step - loss: 0.4202 - accuracy: 0.8409 - val_loss: 0.5548 - val_accuracy: 0.9624\n",
      "Epoch 21/100\n",
      "20/20 [==============================] - 13s 653ms/step - loss: 0.8776 - accuracy: 0.6071 - val_loss: 0.4658 - val_accuracy: 0.7594\n",
      "Epoch 22/100\n",
      "20/20 [==============================] - 18s 940ms/step - loss: 0.3484 - accuracy: 0.8896 - val_loss: 0.3192 - val_accuracy: 0.9398\n",
      "Epoch 23/100\n",
      "20/20 [==============================] - 13s 660ms/step - loss: 2.3926 - accuracy: 0.7825 - val_loss: 0.3510 - val_accuracy: 0.9549\n",
      "Epoch 24/100\n",
      "20/20 [==============================] - 15s 733ms/step - loss: 0.3151 - accuracy: 0.9481 - val_loss: 0.1599 - val_accuracy: 0.9774\n",
      "Epoch 25/100\n",
      "20/20 [==============================] - 12s 616ms/step - loss: 0.3279 - accuracy: 0.8929 - val_loss: 0.1753 - val_accuracy: 0.9699\n",
      "Epoch 26/100\n",
      "20/20 [==============================] - 11s 573ms/step - loss: 0.4658 - accuracy: 0.8571 - val_loss: 0.3223 - val_accuracy: 0.9098\n",
      "Epoch 27/100\n",
      "20/20 [==============================] - 12s 616ms/step - loss: 3200306688.0000 - accuracy: 0.8149 - val_loss: 1.4360 - val_accuracy: 0.5789\n",
      "Epoch 28/100\n",
      "20/20 [==============================] - 12s 586ms/step - loss: 0.9052 - accuracy: 0.6396 - val_loss: 0.7652 - val_accuracy: 0.6541\n",
      "Epoch 29/100\n",
      "20/20 [==============================] - 12s 603ms/step - loss: 0.4146 - accuracy: 0.8182 - val_loss: 0.0942 - val_accuracy: 1.0000\n",
      "Epoch 30/100\n",
      "20/20 [==============================] - 12s 606ms/step - loss: 0.1631 - accuracy: 0.9643 - val_loss: 0.2089 - val_accuracy: 0.9323\n",
      "Epoch 31/100\n",
      "20/20 [==============================] - 12s 591ms/step - loss: 0.2410 - accuracy: 0.9675 - val_loss: 0.0885 - val_accuracy: 0.9774\n",
      "Epoch 32/100\n",
      "20/20 [==============================] - 16s 824ms/step - loss: 0.7203 - accuracy: 0.9416 - val_loss: 0.1519 - val_accuracy: 0.9925\n",
      "Epoch 33/100\n",
      "20/20 [==============================] - 18s 886ms/step - loss: 0.1464 - accuracy: 0.9773 - val_loss: 0.1003 - val_accuracy: 0.9925\n",
      "Epoch 34/100\n",
      "20/20 [==============================] - 16s 779ms/step - loss: 0.0966 - accuracy: 0.9838 - val_loss: 0.0441 - val_accuracy: 0.9925\n",
      "Epoch 35/100\n",
      "20/20 [==============================] - 12s 591ms/step - loss: 0.1362 - accuracy: 0.9675 - val_loss: 0.0542 - val_accuracy: 0.9850\n",
      "Epoch 36/100\n",
      "20/20 [==============================] - 13s 632ms/step - loss: 0.0865 - accuracy: 0.9773 - val_loss: 0.0135 - val_accuracy: 0.9925\n",
      "Epoch 37/100\n",
      "20/20 [==============================] - 13s 659ms/step - loss: 0.4805 - accuracy: 0.9318 - val_loss: 0.1039 - val_accuracy: 0.9850\n",
      "Epoch 38/100\n",
      "20/20 [==============================] - 12s 615ms/step - loss: 0.0881 - accuracy: 0.9805 - val_loss: 0.0460 - val_accuracy: 0.9925\n",
      "Epoch 39/100\n",
      "20/20 [==============================] - 13s 671ms/step - loss: 0.1194 - accuracy: 0.9708 - val_loss: 0.2852 - val_accuracy: 0.8947\n",
      "Epoch 40/100\n",
      "20/20 [==============================] - 13s 635ms/step - loss: 0.1270 - accuracy: 0.9643 - val_loss: 0.0600 - val_accuracy: 0.9850\n",
      "Epoch 41/100\n",
      "20/20 [==============================] - 13s 669ms/step - loss: 0.0305 - accuracy: 0.9903 - val_loss: 0.0348 - val_accuracy: 0.9850\n",
      "Epoch 42/100\n",
      "20/20 [==============================] - 12s 580ms/step - loss: 0.1768 - accuracy: 0.9513 - val_loss: 0.1515 - val_accuracy: 0.9624\n",
      "Epoch 43/100\n",
      "20/20 [==============================] - 13s 631ms/step - loss: 0.1534 - accuracy: 0.9610 - val_loss: 0.0288 - val_accuracy: 0.9850\n",
      "6/6 [==============================] - 1s 212ms/step - loss: 0.0544 - accuracy: 0.9841\n"
     ]
    },
    {
     "data": {
      "text/plain": [
       "[0.054419998079538345, 0.9841269850730896]"
      ]
     },
     "execution_count": 30,
     "metadata": {},
     "output_type": "execute_result"
    }
   ],
   "source": [
    "model_LSTM9 = Sequential()\n",
    "\n",
    "model_LSTM9.add(LSTM(128, return_sequences=True, activation='relu', input_shape=(63,1)))\n",
    "model_LSTM9.add(LSTM(64, return_sequences=True, activation='relu'))\n",
    "model_LSTM9.add(LSTM(32, return_sequences=True, activation='relu'))\n",
    "model_LSTM9.add(LSTM(26, return_sequences=False, activation='relu'))\n",
    "model_LSTM9.add(Dense(26, activation='relu'))\n",
    "model_LSTM9.add(Dense(16, activation='relu'))\n",
    "model_LSTM9.add(Dense(3, activation='softmax'))\n",
    "\n",
    "#model.compile(loss='mse', optimizer=Adam(learning_rate=0.5), metrics=['mae'])\n",
    "model_LSTM9.compile(loss='sparse_categorical_crossentropy', optimizer='rmsprop', metrics=['accuracy'])\n",
    "\n",
    "es = EarlyStopping(patience=7, restore_best_weights=True)\n",
    "\n",
    "history = model_LSTM9.fit(\n",
    "    X_train, y_train, \n",
    "    #validation_data=(X_test, y_test),\n",
    "    validation_split = 0.3,\n",
    "    callbacks=[es],\n",
    "    epochs=100, batch_size=16, verbose=1)\n",
    "\n",
    "model_LSTM9.evaluate(X_test, y_test, verbose = 1)"
   ]
  },
  {
   "cell_type": "code",
   "execution_count": 31,
   "id": "91b43e7f",
   "metadata": {},
   "outputs": [
    {
     "data": {
      "text/plain": [
       "<bound method Model.save of <keras.src.engine.sequential.Sequential object at 0x12f9de020>>"
      ]
     },
     "execution_count": 31,
     "metadata": {},
     "output_type": "execute_result"
    }
   ],
   "source": [
    "model_LSTM9.save"
   ]
  },
  {
   "cell_type": "code",
   "execution_count": 32,
   "id": "1a13a041",
   "metadata": {},
   "outputs": [],
   "source": [
    "import pickle\n",
    "\n",
    "def upload_model(model, name_of_model):\n",
    "    with open(f'model.{name_of_model}', 'wb') as file:\n",
    "        pickle.dump(model, file)\n",
    "\n",
    "\n",
    "def load_model(name_of_the_model=False):\n",
    "    if name_of_the_model == False:\n",
    "        with open('model.randomfo', 'rb') as file:\n",
    "            loaded_model = pickle.load(file)\n",
    "        return loaded_model\n",
    "    else:\n",
    "        with open(name_of_the_model, 'rb') as file:\n",
    "            loaded_model = pickle.load(file)\n",
    "        return loaded_model"
   ]
  },
  {
   "cell_type": "code",
   "execution_count": null,
   "id": "3726381c",
   "metadata": {},
   "outputs": [],
   "source": []
  },
  {
   "cell_type": "code",
   "execution_count": 35,
   "metadata": {},
   "outputs": [
    {
     "ename": "NameError",
     "evalue": "name 'pickle' is not defined",
     "output_type": "error",
     "traceback": [
      "\u001b[0;31m---------------------------------------------------------------------------\u001b[0m",
      "\u001b[0;31mNameError\u001b[0m                                 Traceback (most recent call last)",
      "Cell \u001b[0;32mIn[35], line 1\u001b[0m\n\u001b[0;32m----> 1\u001b[0m upload_model(model_LSTM9, \u001b[39m'\u001b[39;49m\u001b[39mmodel_LSTM9\u001b[39;49m\u001b[39m'\u001b[39;49m)\n",
      "Cell \u001b[0;32mIn[32], line 3\u001b[0m, in \u001b[0;36mupload_model\u001b[0;34m(model, name_of_model)\u001b[0m\n\u001b[1;32m      1\u001b[0m \u001b[39mdef\u001b[39;00m \u001b[39mupload_model\u001b[39m(model, name_of_model):\n\u001b[1;32m      2\u001b[0m     \u001b[39mwith\u001b[39;00m \u001b[39mopen\u001b[39m(\u001b[39mf\u001b[39m\u001b[39m'\u001b[39m\u001b[39mmodel.\u001b[39m\u001b[39m{\u001b[39;00mname_of_model\u001b[39m}\u001b[39;00m\u001b[39m'\u001b[39m, \u001b[39m'\u001b[39m\u001b[39mwb\u001b[39m\u001b[39m'\u001b[39m) \u001b[39mas\u001b[39;00m file:\n\u001b[0;32m----> 3\u001b[0m         pickle\u001b[39m.\u001b[39mdump(model, file)\n",
      "\u001b[0;31mNameError\u001b[0m: name 'pickle' is not defined"
     ]
    }
   ],
   "source": [
    "upload_model(model_LSTM9, 'model_LSTM9')"
   ]
  },
  {
   "cell_type": "code",
   "execution_count": null,
   "metadata": {},
   "outputs": [],
   "source": []
  },
  {
   "cell_type": "code",
   "execution_count": null,
   "metadata": {},
   "outputs": [],
   "source": []
  },
  {
   "cell_type": "code",
   "execution_count": null,
   "metadata": {},
   "outputs": [],
   "source": []
  },
  {
   "attachments": {},
   "cell_type": "markdown",
   "id": "cfdbbcc3",
   "metadata": {},
   "source": [
    "------------"
   ]
  },
  {
   "cell_type": "code",
   "execution_count": 65,
   "id": "93f96807",
   "metadata": {},
   "outputs": [
    {
     "name": "stdout",
     "output_type": "stream",
     "text": [
      "Epoch 1/100\n",
      "20/20 [==============================] - 92s 1s/step - loss: 1.0990 - accuracy: 0.3247 - val_loss: 1.0987 - val_accuracy: 0.3158\n",
      "Epoch 2/100\n",
      "20/20 [==============================] - 13s 654ms/step - loss: 1.0988 - accuracy: 0.3019 - val_loss: 1.0988 - val_accuracy: 0.3158\n",
      "Epoch 3/100\n",
      "20/20 [==============================] - 14s 699ms/step - loss: 1.0987 - accuracy: 0.3409 - val_loss: 1.0988 - val_accuracy: 0.3158\n",
      "Epoch 4/100\n",
      "20/20 [==============================] - 13s 666ms/step - loss: 1.0987 - accuracy: 0.3409 - val_loss: 1.0988 - val_accuracy: 0.3158\n",
      "Epoch 5/100\n",
      "20/20 [==============================] - 16s 830ms/step - loss: 1.0988 - accuracy: 0.3409 - val_loss: 1.0988 - val_accuracy: 0.3158\n",
      "Epoch 6/100\n",
      "20/20 [==============================] - 15s 697ms/step - loss: 1.0987 - accuracy: 0.3409 - val_loss: 1.0988 - val_accuracy: 0.3158\n",
      "Epoch 7/100\n",
      "20/20 [==============================] - 14s 680ms/step - loss: 1.0987 - accuracy: 0.3409 - val_loss: 1.0988 - val_accuracy: 0.3158\n",
      "Epoch 8/100\n",
      "20/20 [==============================] - 14s 714ms/step - loss: 1.0987 - accuracy: 0.3409 - val_loss: 1.0988 - val_accuracy: 0.3158\n",
      "6/6 [==============================] - 1s 227ms/step - loss: 1.0986 - accuracy: 0.3333\n"
     ]
    },
    {
     "data": {
      "text/plain": [
       "[1.0986127853393555, 0.3333333432674408]"
      ]
     },
     "execution_count": 65,
     "metadata": {},
     "output_type": "execute_result"
    }
   ],
   "source": [
    "model_LSTM10 = Sequential()\n",
    "\n",
    "model_LSTM10.add(LSTM(128, return_sequences=True, activation='relu', input_shape=(63,1)))\n",
    "model_LSTM10.add(LSTM(64, return_sequences=True, activation='relu'))\n",
    "model_LSTM10.add(LSTM(32, return_sequences=True, activation='relu'))\n",
    "model_LSTM10.add(LSTM(26, return_sequences=True, activation='relu'))\n",
    "model_LSTM10.add(LSTM(20, return_sequences=False, activation='relu'))\n",
    "model_LSTM10.add(Dense(10, activation='relu'))\n",
    "model_LSTM10.add(Dense(3, activation='softmax'))\n",
    "\n",
    "#model.compile(loss='mse', optimizer=Adam(learning_rate=0.5), metrics=['mae'])\n",
    "model_LSTM10.compile(loss='sparse_categorical_crossentropy', optimizer='rmsprop', metrics=['accuracy'])\n",
    "\n",
    "es = EarlyStopping(patience=7, restore_best_weights=True)\n",
    "\n",
    "history = model_LSTM10.fit(\n",
    "    X_train, y_train, \n",
    "    #validation_data=(X_test, y_test),\n",
    "    validation_split = 0.3,\n",
    "    callbacks=[es],\n",
    "    epochs=100, batch_size=16, verbose=1)\n",
    "\n",
    "model_LSTM10.evaluate(X_test, y_test, verbose = 1)"
   ]
  },
  {
   "attachments": {},
   "cell_type": "markdown",
   "id": "317d3243",
   "metadata": {},
   "source": [
    "-------------------"
   ]
  },
  {
   "cell_type": "code",
   "execution_count": null,
   "id": "78620d9c",
   "metadata": {},
   "outputs": [],
   "source": []
  },
  {
   "cell_type": "code",
   "execution_count": 67,
   "id": "8d16dc77",
   "metadata": {},
   "outputs": [
    {
     "name": "stdout",
     "output_type": "stream",
     "text": [
      "Epoch 1/100\n",
      "20/20 [==============================] - 167s 2s/step - loss: 1.0987 - accuracy: 0.2987 - val_loss: 1.0910 - val_accuracy: 0.3383\n",
      "Epoch 2/100\n",
      "20/20 [==============================] - 13s 636ms/step - loss: 1.0079 - accuracy: 0.4545 - val_loss: 0.8996 - val_accuracy: 0.4887\n",
      "Epoch 3/100\n",
      "20/20 [==============================] - 14s 736ms/step - loss: 0.7662 - accuracy: 0.6071 - val_loss: 0.6197 - val_accuracy: 0.6466\n",
      "Epoch 4/100\n",
      "20/20 [==============================] - 15s 746ms/step - loss: 0.6355 - accuracy: 0.6299 - val_loss: 0.5550 - val_accuracy: 0.6992\n",
      "Epoch 5/100\n",
      "20/20 [==============================] - 18s 934ms/step - loss: 0.6768 - accuracy: 0.6266 - val_loss: 0.9647 - val_accuracy: 0.5263\n",
      "Epoch 6/100\n",
      "20/20 [==============================] - 19s 978ms/step - loss: 0.6558 - accuracy: 0.5877 - val_loss: 0.5867 - val_accuracy: 0.6391\n",
      "Epoch 7/100\n",
      "20/20 [==============================] - 18s 893ms/step - loss: 0.6461 - accuracy: 0.6201 - val_loss: 0.5307 - val_accuracy: 0.6617\n",
      "Epoch 8/100\n",
      "20/20 [==============================] - 15s 726ms/step - loss: 0.6078 - accuracy: 0.6136 - val_loss: 0.5457 - val_accuracy: 0.6466\n",
      "Epoch 9/100\n",
      "20/20 [==============================] - 14s 710ms/step - loss: 0.6150 - accuracy: 0.6299 - val_loss: 0.7621 - val_accuracy: 0.5414\n",
      "Epoch 10/100\n",
      "20/20 [==============================] - 15s 728ms/step - loss: 0.5828 - accuracy: 0.5942 - val_loss: 0.5802 - val_accuracy: 0.6617\n",
      "Epoch 11/100\n",
      "20/20 [==============================] - 14s 676ms/step - loss: 0.6437 - accuracy: 0.6331 - val_loss: 0.5949 - val_accuracy: 0.6316\n",
      "Epoch 12/100\n",
      "20/20 [==============================] - 13s 662ms/step - loss: 0.5997 - accuracy: 0.6006 - val_loss: 0.6081 - val_accuracy: 0.6316\n",
      "Epoch 13/100\n",
      "20/20 [==============================] - 14s 703ms/step - loss: 0.6004 - accuracy: 0.5844 - val_loss: 0.5439 - val_accuracy: 0.6391\n",
      "Epoch 14/100\n",
      "20/20 [==============================] - 14s 691ms/step - loss: 0.5751 - accuracy: 0.5779 - val_loss: 0.5419 - val_accuracy: 0.6617\n",
      "6/6 [==============================] - 2s 309ms/step - loss: 0.5696 - accuracy: 0.6561\n"
     ]
    },
    {
     "data": {
      "text/plain": [
       "[0.5696195363998413, 0.6560846567153931]"
      ]
     },
     "execution_count": 67,
     "metadata": {},
     "output_type": "execute_result"
    }
   ],
   "source": [
    "model_LSTM11 = Sequential()\n",
    "\n",
    "model_LSTM11.add(LSTM(128, return_sequences=True, activation='tanh', input_shape=(63,1)))\n",
    "model_LSTM11.add(LSTM(64, return_sequences=True, activation='tanh'))\n",
    "model_LSTM11.add(LSTM(32, return_sequences=True, activation='tanh'))\n",
    "model_LSTM11.add(LSTM(26, return_sequences=True, activation='tanh'))\n",
    "model_LSTM11.add(LSTM(20, return_sequences=False, activation='tanh'))\n",
    "model_LSTM11.add(Dense(10, activation='relu'))\n",
    "model_LSTM11.add(Dense(3, activation='softmax'))\n",
    "\n",
    "#model.compile(loss='mse', optimizer=Adam(learning_rate=0.5), metrics=['mae'])\n",
    "model_LSTM11.compile(loss='sparse_categorical_crossentropy', optimizer='rmsprop', metrics=['accuracy'])\n",
    "\n",
    "es = EarlyStopping(patience=7, restore_best_weights=True)\n",
    "\n",
    "history = model_LSTM11.fit(\n",
    "    X_train, y_train, \n",
    "    #validation_data=(X_test, y_test),\n",
    "    validation_split = 0.3,\n",
    "    callbacks=[es],\n",
    "    epochs=100, batch_size=16, verbose=1)\n",
    "\n",
    "model_LSTM11.evaluate(X_test, y_test, verbose = 1)"
   ]
  },
  {
   "cell_type": "code",
   "execution_count": null,
   "id": "fe1baa52",
   "metadata": {},
   "outputs": [],
   "source": []
  },
  {
   "attachments": {},
   "cell_type": "markdown",
   "id": "4d801f9a",
   "metadata": {},
   "source": [
    "# Model 12"
   ]
  },
  {
   "cell_type": "code",
   "execution_count": 66,
   "id": "3b1f1e2b",
   "metadata": {},
   "outputs": [
    {
     "name": "stdout",
     "output_type": "stream",
     "text": [
      "Epoch 1/100\n",
      "20/20 [==============================] - 164s 2s/step - loss: 1.0902 - accuracy: 0.3604 - val_loss: 0.9800 - val_accuracy: 0.4436\n",
      "Epoch 2/100\n",
      "20/20 [==============================] - 15s 729ms/step - loss: 0.8749 - accuracy: 0.5325 - val_loss: 0.7027 - val_accuracy: 0.6541\n",
      "Epoch 3/100\n",
      "20/20 [==============================] - 15s 732ms/step - loss: 0.7387 - accuracy: 0.6039 - val_loss: 0.5890 - val_accuracy: 0.6767\n",
      "Epoch 4/100\n",
      "20/20 [==============================] - 15s 727ms/step - loss: 0.7025 - accuracy: 0.5942 - val_loss: 0.5604 - val_accuracy: 0.6767\n",
      "Epoch 5/100\n",
      "20/20 [==============================] - 14s 704ms/step - loss: 0.6586 - accuracy: 0.6169 - val_loss: 0.5612 - val_accuracy: 0.6466\n",
      "Epoch 6/100\n",
      "20/20 [==============================] - 15s 736ms/step - loss: 0.6586 - accuracy: 0.6331 - val_loss: 0.7883 - val_accuracy: 0.5940\n",
      "Epoch 7/100\n",
      "20/20 [==============================] - 15s 764ms/step - loss: 0.6642 - accuracy: 0.6299 - val_loss: 0.5535 - val_accuracy: 0.6842\n",
      "Epoch 8/100\n",
      "20/20 [==============================] - 15s 749ms/step - loss: 0.6360 - accuracy: 0.6104 - val_loss: 0.5366 - val_accuracy: 0.6917\n",
      "Epoch 9/100\n",
      "20/20 [==============================] - 14s 718ms/step - loss: 0.6452 - accuracy: 0.6461 - val_loss: 0.5522 - val_accuracy: 0.6692\n",
      "Epoch 10/100\n",
      "20/20 [==============================] - 13s 659ms/step - loss: 0.6611 - accuracy: 0.5260 - val_loss: 0.5578 - val_accuracy: 0.6541\n",
      "Epoch 11/100\n",
      "20/20 [==============================] - 13s 622ms/step - loss: 0.5906 - accuracy: 0.6364 - val_loss: 0.5452 - val_accuracy: 0.6391\n",
      "Epoch 12/100\n",
      "20/20 [==============================] - 13s 632ms/step - loss: 0.6479 - accuracy: 0.6136 - val_loss: 0.5301 - val_accuracy: 0.6617\n",
      "Epoch 13/100\n",
      "20/20 [==============================] - 15s 726ms/step - loss: 0.5911 - accuracy: 0.6104 - val_loss: 0.5240 - val_accuracy: 0.6466\n",
      "Epoch 14/100\n",
      "20/20 [==============================] - 13s 631ms/step - loss: 0.5934 - accuracy: 0.6136 - val_loss: 0.6583 - val_accuracy: 0.6090\n",
      "Epoch 15/100\n",
      "20/20 [==============================] - 14s 704ms/step - loss: 0.5858 - accuracy: 0.6396 - val_loss: 1.5994 - val_accuracy: 0.4662\n",
      "Epoch 16/100\n",
      "20/20 [==============================] - 13s 652ms/step - loss: 0.6044 - accuracy: 0.6266 - val_loss: 0.5977 - val_accuracy: 0.6316\n",
      "Epoch 17/100\n",
      "20/20 [==============================] - 13s 669ms/step - loss: 0.6096 - accuracy: 0.5844 - val_loss: 0.6212 - val_accuracy: 0.6391\n",
      "Epoch 18/100\n",
      "20/20 [==============================] - 14s 701ms/step - loss: 0.5845 - accuracy: 0.6299 - val_loss: 0.8276 - val_accuracy: 0.5113\n",
      "Epoch 19/100\n",
      "20/20 [==============================] - 14s 682ms/step - loss: 0.5733 - accuracy: 0.6331 - val_loss: 0.5107 - val_accuracy: 0.6617\n",
      "Epoch 20/100\n",
      "20/20 [==============================] - 13s 639ms/step - loss: 0.6149 - accuracy: 0.5877 - val_loss: 0.5319 - val_accuracy: 0.6466\n",
      "Epoch 21/100\n",
      "20/20 [==============================] - 12s 609ms/step - loss: 0.5632 - accuracy: 0.6364 - val_loss: 0.5160 - val_accuracy: 0.6617\n",
      "Epoch 22/100\n",
      "20/20 [==============================] - 13s 652ms/step - loss: 0.5969 - accuracy: 0.6266 - val_loss: 0.5284 - val_accuracy: 0.6466\n",
      "Epoch 23/100\n",
      "20/20 [==============================] - 16s 802ms/step - loss: 0.5949 - accuracy: 0.6429 - val_loss: 0.5441 - val_accuracy: 0.6241\n",
      "Epoch 24/100\n",
      "20/20 [==============================] - 15s 757ms/step - loss: 0.6310 - accuracy: 0.6331 - val_loss: 0.5863 - val_accuracy: 0.6541\n",
      "Epoch 25/100\n",
      "20/20 [==============================] - 13s 662ms/step - loss: 0.5461 - accuracy: 0.6526 - val_loss: 0.5205 - val_accuracy: 0.6541\n",
      "Epoch 26/100\n",
      "20/20 [==============================] - 17s 857ms/step - loss: 0.5954 - accuracy: 0.6526 - val_loss: 0.5255 - val_accuracy: 0.6391\n",
      "6/6 [==============================] - 2s 241ms/step - loss: 0.5627 - accuracy: 0.6561\n"
     ]
    },
    {
     "data": {
      "text/plain": [
       "[0.5627209544181824, 0.6560846567153931]"
      ]
     },
     "execution_count": 66,
     "metadata": {},
     "output_type": "execute_result"
    }
   ],
   "source": [
    "model_LSTM12 = Sequential()\n",
    "\n",
    "model_LSTM12.add(LSTM(128, return_sequences=True, activation='tanh', input_shape=(63,1)))\n",
    "model_LSTM12.add(LSTM(64, return_sequences=True, activation='tanh'))\n",
    "model_LSTM12.add(LSTM(32, return_sequences=True, activation='tanh'))\n",
    "model_LSTM12.add(LSTM(26, return_sequences=True, activation='tanh'))\n",
    "model_LSTM12.add(LSTM(20, return_sequences=False, activation='tanh'))\n",
    "model_LSTM12.add(Dense(10, activation='tanh'))\n",
    "model_LSTM12.add(Dense(3, activation='softmax'))\n",
    "\n",
    "#model.compile(loss='mse', optimizer=Adam(learning_rate=0.5), metrics=['mae'])\n",
    "model_LSTM12.compile(loss='sparse_categorical_crossentropy', optimizer='rmsprop', metrics=['accuracy'])\n",
    "\n",
    "es = EarlyStopping(patience=7, restore_best_weights=True)\n",
    "\n",
    "history = model_LSTM12.fit(\n",
    "    X_train, y_train, \n",
    "    #validation_data=(X_test, y_test),\n",
    "    validation_split = 0.3,\n",
    "    callbacks=[es],\n",
    "    epochs=100, batch_size=16, verbose=1)\n",
    "\n",
    "model_LSTM12.evaluate(X_test, y_test, verbose = 1)"
   ]
  },
  {
   "attachments": {},
   "cell_type": "markdown",
   "id": "d42a9160",
   "metadata": {},
   "source": [
    "------------------------"
   ]
  },
  {
   "cell_type": "code",
   "execution_count": null,
   "id": "9e713ae9",
   "metadata": {},
   "outputs": [],
   "source": []
  },
  {
   "cell_type": "code",
   "execution_count": 57,
   "metadata": {},
   "outputs": [
    {
     "name": "stdout",
     "output_type": "stream",
     "text": [
      "Epoch 1/100\n",
      "20/20 [==============================] - 55s 857ms/step - loss: 1.0997 - accuracy: 0.3506 - val_loss: 1.0985 - val_accuracy: 0.3383\n",
      "Epoch 2/100\n",
      "20/20 [==============================] - 11s 541ms/step - loss: 1.0987 - accuracy: 0.3344 - val_loss: 1.0986 - val_accuracy: 0.3158\n",
      "Epoch 3/100\n",
      "20/20 [==============================] - 11s 552ms/step - loss: 1.0988 - accuracy: 0.2955 - val_loss: 1.0987 - val_accuracy: 0.3158\n",
      "Epoch 4/100\n",
      "20/20 [==============================] - 10s 511ms/step - loss: 1.0988 - accuracy: 0.3409 - val_loss: 1.0987 - val_accuracy: 0.3158\n",
      "Epoch 5/100\n",
      "20/20 [==============================] - 9s 428ms/step - loss: 1.0987 - accuracy: 0.3409 - val_loss: 1.0988 - val_accuracy: 0.3158\n",
      "Epoch 6/100\n",
      "20/20 [==============================] - 10s 520ms/step - loss: 1.0987 - accuracy: 0.3377 - val_loss: 1.0988 - val_accuracy: 0.3158\n",
      "Epoch 7/100\n",
      "20/20 [==============================] - 9s 469ms/step - loss: 1.0987 - accuracy: 0.3409 - val_loss: 1.0988 - val_accuracy: 0.3158\n",
      "Epoch 8/100\n",
      "20/20 [==============================] - 9s 450ms/step - loss: 1.0987 - accuracy: 0.3409 - val_loss: 1.0989 - val_accuracy: 0.3158\n",
      "6/6 [==============================] - 1s 118ms/step - loss: 1.0986 - accuracy: 0.3333\n"
     ]
    },
    {
     "data": {
      "text/plain": [
       "[1.0986090898513794, 0.3333333432674408]"
      ]
     },
     "execution_count": 57,
     "metadata": {},
     "output_type": "execute_result"
    }
   ],
   "source": [
    "model_LSTM13 = Sequential()\n",
    "\n",
    "model_LSTM13.add(LSTM(128, return_sequences=True, activation='relu', input_shape=(63,1)))\n",
    "model_LSTM13.add(LSTM(64, return_sequences=True, activation='relu'))\n",
    "model_LSTM13.add(LSTM(32, return_sequences=True, activation='relu'))\n",
    "model_LSTM13.add(LSTM(26, return_sequences=False, activation='relu'))\n",
    "model_LSTM13.add(Dense(32, activation='relu'))\n",
    "model_LSTM13.add(Dense(20, activation='relu'))\n",
    "model_LSTM13.add(Dense(8, activation='relu'))\n",
    "model_LSTM13.add(Dense(3, activation='softmax'))\n",
    "\n",
    "#model.compile(loss='mse', optimizer=Adam(learning_rate=0.5), metrics=['mae'])\n",
    "model_LSTM13.compile(loss='sparse_categorical_crossentropy', optimizer='rmsprop', metrics=['accuracy'])\n",
    "\n",
    "es = EarlyStopping(patience=7, restore_best_weights=True)\n",
    "\n",
    "history = model_LSTM13.fit(\n",
    "    X_train, y_train, \n",
    "    #validation_data=(X_test, y_test),\n",
    "    validation_split = 0.3,\n",
    "    callbacks=[es],\n",
    "    epochs=100, batch_size=16, verbose=1)\n",
    "\n",
    "model_LSTM13.evaluate(X_test, y_test, verbose = 1)"
   ]
  },
  {
   "cell_type": "code",
   "execution_count": null,
   "id": "b092f5a3",
   "metadata": {},
   "outputs": [],
   "source": []
  },
  {
   "cell_type": "code",
   "execution_count": 68,
   "id": "2020d60e",
   "metadata": {},
   "outputs": [
    {
     "name": "stdout",
     "output_type": "stream",
     "text": [
      "Epoch 1/100\n",
      "20/20 [==============================] - 77s 1s/step - loss: 1.0993 - accuracy: 0.2955 - val_loss: 1.0987 - val_accuracy: 0.3158\n",
      "Epoch 2/100\n",
      "20/20 [==============================] - 12s 599ms/step - loss: 1.0989 - accuracy: 0.3149 - val_loss: 1.0987 - val_accuracy: 0.3383\n",
      "Epoch 3/100\n",
      "20/20 [==============================] - 14s 700ms/step - loss: 1.0990 - accuracy: 0.3312 - val_loss: 1.0985 - val_accuracy: 0.3383\n",
      "Epoch 4/100\n",
      "20/20 [==============================] - 11s 562ms/step - loss: 1.0990 - accuracy: 0.3084 - val_loss: 1.0984 - val_accuracy: 0.3383\n",
      "Epoch 5/100\n",
      "20/20 [==============================] - 13s 636ms/step - loss: 1.0987 - accuracy: 0.3312 - val_loss: 1.0984 - val_accuracy: 0.3383\n",
      "Epoch 6/100\n",
      "20/20 [==============================] - 12s 617ms/step - loss: 1.0988 - accuracy: 0.3312 - val_loss: 1.0980 - val_accuracy: 0.3383\n",
      "Epoch 7/100\n",
      "20/20 [==============================] - 12s 587ms/step - loss: 1.0986 - accuracy: 0.3117 - val_loss: 1.0973 - val_accuracy: 0.3383\n",
      "Epoch 8/100\n",
      "20/20 [==============================] - 13s 626ms/step - loss: 1.0970 - accuracy: 0.3312 - val_loss: 1.0990 - val_accuracy: 0.3158\n",
      "Epoch 9/100\n",
      "20/20 [==============================] - 12s 597ms/step - loss: 1.0989 - accuracy: 0.3409 - val_loss: 1.0990 - val_accuracy: 0.3158\n",
      "Epoch 10/100\n",
      "20/20 [==============================] - 12s 614ms/step - loss: 1.0988 - accuracy: 0.3409 - val_loss: 1.0990 - val_accuracy: 0.3158\n",
      "Epoch 11/100\n",
      "20/20 [==============================] - 13s 662ms/step - loss: 1.0987 - accuracy: 0.3279 - val_loss: 1.0989 - val_accuracy: 0.3158\n",
      "Epoch 12/100\n",
      "20/20 [==============================] - 12s 606ms/step - loss: 1.0988 - accuracy: 0.3409 - val_loss: 1.0989 - val_accuracy: 0.3158\n",
      "Epoch 13/100\n",
      "20/20 [==============================] - 12s 626ms/step - loss: 1.0987 - accuracy: 0.3409 - val_loss: 1.0989 - val_accuracy: 0.3158\n",
      "Epoch 14/100\n",
      "20/20 [==============================] - 12s 621ms/step - loss: 1.0971 - accuracy: 0.3279 - val_loss: 1.0994 - val_accuracy: 0.3158\n",
      "6/6 [==============================] - 1s 226ms/step - loss: 1.0975 - accuracy: 0.3333\n"
     ]
    },
    {
     "data": {
      "text/plain": [
       "[1.0975199937820435, 0.3333333432674408]"
      ]
     },
     "execution_count": 68,
     "metadata": {},
     "output_type": "execute_result"
    }
   ],
   "source": [
    "model_LSTM14 = Sequential()\n",
    "\n",
    "model_LSTM14.add(LSTM(128, return_sequences=True, activation='relu', input_shape=(63,1)))\n",
    "model_LSTM14.add(LSTM(64, return_sequences=True, activation='relu'))\n",
    "model_LSTM14.add(LSTM(32, return_sequences=True, activation='relu'))\n",
    "model_LSTM14.add(LSTM(32, return_sequences=False, activation='relu'))\n",
    "model_LSTM14.add(Dense(32, activation='relu'))\n",
    "model_LSTM14.add(Dense(16, activation='relu'))\n",
    "model_LSTM14.add(Dense(3, activation='softmax'))\n",
    "\n",
    "#model.compile(loss='mse', optimizer=Adam(learning_rate=0.5), metrics=['mae'])\n",
    "model_LSTM14.compile(loss='sparse_categorical_crossentropy', optimizer='rmsprop', metrics=['accuracy'])\n",
    "\n",
    "es = EarlyStopping(patience=7, restore_best_weights=True)\n",
    "\n",
    "history = model_LSTM14.fit(\n",
    "    X_train, y_train, \n",
    "    #validation_data=(X_test, y_test),\n",
    "    validation_split = 0.3,\n",
    "    callbacks=[es],\n",
    "    epochs=100, batch_size=16, verbose=1)\n",
    "\n",
    "model_LSTM14.evaluate(X_test, y_test, verbose = 1)"
   ]
  },
  {
   "attachments": {},
   "cell_type": "markdown",
   "id": "9cfa4f71",
   "metadata": {},
   "source": [
    "-----------------"
   ]
  },
  {
   "cell_type": "code",
   "execution_count": 69,
   "id": "b6580863",
   "metadata": {},
   "outputs": [],
   "source": [
    "# Modeles retenus : model_LSTM8 et model_LSTM9"
   ]
  },
  {
   "cell_type": "code",
   "execution_count": 71,
   "metadata": {},
   "outputs": [],
   "source": [
    "from google.cloud import bigquery\n",
    "from google.oauth2 import service_account\n",
    "import sys; sys.path.append('..')\n",
    "from params import PROJECT_ID, TABLE_ID\n",
    "\n",
    "def fetch_data_from_BQ(table_id): # = 'test_dataset.test9'\n",
    "\n",
    "    credentials = service_account.Credentials.from_service_account_file(\"../bq_keys.json\")\n",
    "    #credentials = service_account.Credentials.from_service_account_file('~//Users//admin/code//tloizel//wagon-give-me-a-sign//bq_keys.json')\n",
    "\n",
    "    client = bigquery.Client(project=PROJECT_ID, credentials=credentials)\n",
    "    table = client.get_table(table_id)\n",
    "\n",
    "\n",
    "    # Construct the SQL query to retrieve the table data\n",
    "    query = f'SELECT * FROM `{table}`'\n",
    "\n",
    "    # Submit the query and fetch the results\n",
    "    df = client.query(query).to_dataframe()\n",
    "    return df"
   ]
  },
  {
   "attachments": {},
   "cell_type": "markdown",
   "id": "8d375362",
   "metadata": {},
   "source": [
    "--------------------"
   ]
  },
  {
   "attachments": {},
   "cell_type": "markdown",
   "id": "fa1f9521",
   "metadata": {},
   "source": [
    "# DATASET 7 => PROBLEME"
   ]
  },
  {
   "cell_type": "code",
   "execution_count": 72,
   "id": "5b31a161",
   "metadata": {},
   "outputs": [
    {
     "data": {
      "text/html": [
       "<div>\n",
       "<style scoped>\n",
       "    .dataframe tbody tr th:only-of-type {\n",
       "        vertical-align: middle;\n",
       "    }\n",
       "\n",
       "    .dataframe tbody tr th {\n",
       "        vertical-align: top;\n",
       "    }\n",
       "\n",
       "    .dataframe thead th {\n",
       "        text-align: right;\n",
       "    }\n",
       "</style>\n",
       "<table border=\"1\" class=\"dataframe\">\n",
       "  <thead>\n",
       "    <tr style=\"text-align: right;\">\n",
       "      <th></th>\n",
       "      <th>x_0</th>\n",
       "      <th>y_0</th>\n",
       "      <th>z_0</th>\n",
       "      <th>x_1</th>\n",
       "      <th>y_1</th>\n",
       "      <th>z_1</th>\n",
       "      <th>x_2</th>\n",
       "      <th>y_2</th>\n",
       "      <th>z_2</th>\n",
       "      <th>x_3</th>\n",
       "      <th>...</th>\n",
       "      <th>x_18</th>\n",
       "      <th>y_18</th>\n",
       "      <th>z_18</th>\n",
       "      <th>x_19</th>\n",
       "      <th>y_19</th>\n",
       "      <th>z_19</th>\n",
       "      <th>x_20</th>\n",
       "      <th>y_20</th>\n",
       "      <th>z_20</th>\n",
       "      <th>target</th>\n",
       "    </tr>\n",
       "  </thead>\n",
       "  <tbody>\n",
       "    <tr>\n",
       "      <th>0</th>\n",
       "      <td>0.0</td>\n",
       "      <td>0.0</td>\n",
       "      <td>0.0</td>\n",
       "      <td>-0.049028</td>\n",
       "      <td>-0.035093</td>\n",
       "      <td>-0.017194</td>\n",
       "      <td>-0.079343</td>\n",
       "      <td>-0.131463</td>\n",
       "      <td>-0.021312</td>\n",
       "      <td>-0.092285</td>\n",
       "      <td>...</td>\n",
       "      <td>0.051761</td>\n",
       "      <td>-0.303027</td>\n",
       "      <td>-0.030095</td>\n",
       "      <td>0.056748</td>\n",
       "      <td>-0.351968</td>\n",
       "      <td>-0.033856</td>\n",
       "      <td>0.058140</td>\n",
       "      <td>-0.396660</td>\n",
       "      <td>-0.036296</td>\n",
       "      <td>a</td>\n",
       "    </tr>\n",
       "    <tr>\n",
       "      <th>1</th>\n",
       "      <td>0.0</td>\n",
       "      <td>0.0</td>\n",
       "      <td>0.0</td>\n",
       "      <td>-0.049619</td>\n",
       "      <td>-0.039207</td>\n",
       "      <td>-0.016461</td>\n",
       "      <td>-0.079816</td>\n",
       "      <td>-0.132695</td>\n",
       "      <td>-0.020940</td>\n",
       "      <td>-0.092047</td>\n",
       "      <td>...</td>\n",
       "      <td>0.052290</td>\n",
       "      <td>-0.301836</td>\n",
       "      <td>-0.029950</td>\n",
       "      <td>0.056986</td>\n",
       "      <td>-0.350153</td>\n",
       "      <td>-0.033708</td>\n",
       "      <td>0.057934</td>\n",
       "      <td>-0.393440</td>\n",
       "      <td>-0.036319</td>\n",
       "      <td>a</td>\n",
       "    </tr>\n",
       "    <tr>\n",
       "      <th>2</th>\n",
       "      <td>0.0</td>\n",
       "      <td>0.0</td>\n",
       "      <td>0.0</td>\n",
       "      <td>-0.050531</td>\n",
       "      <td>-0.036170</td>\n",
       "      <td>-0.018123</td>\n",
       "      <td>-0.080477</td>\n",
       "      <td>-0.132437</td>\n",
       "      <td>-0.022754</td>\n",
       "      <td>-0.093391</td>\n",
       "      <td>...</td>\n",
       "      <td>0.051522</td>\n",
       "      <td>-0.301766</td>\n",
       "      <td>-0.028751</td>\n",
       "      <td>0.056262</td>\n",
       "      <td>-0.350737</td>\n",
       "      <td>-0.032950</td>\n",
       "      <td>0.057547</td>\n",
       "      <td>-0.396092</td>\n",
       "      <td>-0.035761</td>\n",
       "      <td>a</td>\n",
       "    </tr>\n",
       "    <tr>\n",
       "      <th>3</th>\n",
       "      <td>0.0</td>\n",
       "      <td>0.0</td>\n",
       "      <td>0.0</td>\n",
       "      <td>0.071293</td>\n",
       "      <td>-0.033885</td>\n",
       "      <td>-0.014923</td>\n",
       "      <td>0.111072</td>\n",
       "      <td>-0.111365</td>\n",
       "      <td>-0.009179</td>\n",
       "      <td>0.137204</td>\n",
       "      <td>...</td>\n",
       "      <td>-0.041646</td>\n",
       "      <td>-0.294241</td>\n",
       "      <td>0.002959</td>\n",
       "      <td>-0.043938</td>\n",
       "      <td>-0.339732</td>\n",
       "      <td>-0.008451</td>\n",
       "      <td>-0.039347</td>\n",
       "      <td>-0.385925</td>\n",
       "      <td>-0.016816</td>\n",
       "      <td>a</td>\n",
       "    </tr>\n",
       "    <tr>\n",
       "      <th>4</th>\n",
       "      <td>0.0</td>\n",
       "      <td>0.0</td>\n",
       "      <td>0.0</td>\n",
       "      <td>0.058670</td>\n",
       "      <td>-0.044052</td>\n",
       "      <td>-0.010591</td>\n",
       "      <td>0.086752</td>\n",
       "      <td>-0.130587</td>\n",
       "      <td>-0.007411</td>\n",
       "      <td>0.103335</td>\n",
       "      <td>...</td>\n",
       "      <td>-0.055935</td>\n",
       "      <td>-0.269693</td>\n",
       "      <td>-0.027668</td>\n",
       "      <td>-0.060291</td>\n",
       "      <td>-0.316134</td>\n",
       "      <td>-0.038729</td>\n",
       "      <td>-0.058463</td>\n",
       "      <td>-0.364018</td>\n",
       "      <td>-0.046211</td>\n",
       "      <td>a</td>\n",
       "    </tr>\n",
       "  </tbody>\n",
       "</table>\n",
       "<p>5 rows × 64 columns</p>\n",
       "</div>"
      ],
      "text/plain": [
       "   x_0  y_0  z_0       x_1       y_1       z_1       x_2       y_2       z_2  \\\n",
       "0  0.0  0.0  0.0 -0.049028 -0.035093 -0.017194 -0.079343 -0.131463 -0.021312   \n",
       "1  0.0  0.0  0.0 -0.049619 -0.039207 -0.016461 -0.079816 -0.132695 -0.020940   \n",
       "2  0.0  0.0  0.0 -0.050531 -0.036170 -0.018123 -0.080477 -0.132437 -0.022754   \n",
       "3  0.0  0.0  0.0  0.071293 -0.033885 -0.014923  0.111072 -0.111365 -0.009179   \n",
       "4  0.0  0.0  0.0  0.058670 -0.044052 -0.010591  0.086752 -0.130587 -0.007411   \n",
       "\n",
       "        x_3  ...      x_18      y_18      z_18      x_19      y_19      z_19  \\\n",
       "0 -0.092285  ...  0.051761 -0.303027 -0.030095  0.056748 -0.351968 -0.033856   \n",
       "1 -0.092047  ...  0.052290 -0.301836 -0.029950  0.056986 -0.350153 -0.033708   \n",
       "2 -0.093391  ...  0.051522 -0.301766 -0.028751  0.056262 -0.350737 -0.032950   \n",
       "3  0.137204  ... -0.041646 -0.294241  0.002959 -0.043938 -0.339732 -0.008451   \n",
       "4  0.103335  ... -0.055935 -0.269693 -0.027668 -0.060291 -0.316134 -0.038729   \n",
       "\n",
       "       x_20      y_20      z_20  target  \n",
       "0  0.058140 -0.396660 -0.036296       a  \n",
       "1  0.057934 -0.393440 -0.036319       a  \n",
       "2  0.057547 -0.396092 -0.035761       a  \n",
       "3 -0.039347 -0.385925 -0.016816       a  \n",
       "4 -0.058463 -0.364018 -0.046211       a  \n",
       "\n",
       "[5 rows x 64 columns]"
      ]
     },
     "execution_count": 72,
     "metadata": {},
     "output_type": "execute_result"
    }
   ],
   "source": [
    "df_7 = fetch_data_from_BQ('test_dataset.test7')\n",
    "df_7.head()"
   ]
  },
  {
   "cell_type": "code",
   "execution_count": 74,
   "metadata": {},
   "outputs": [
    {
     "data": {
      "text/html": [
       "<div>\n",
       "<style scoped>\n",
       "    .dataframe tbody tr th:only-of-type {\n",
       "        vertical-align: middle;\n",
       "    }\n",
       "\n",
       "    .dataframe tbody tr th {\n",
       "        vertical-align: top;\n",
       "    }\n",
       "\n",
       "    .dataframe thead th {\n",
       "        text-align: right;\n",
       "    }\n",
       "</style>\n",
       "<table border=\"1\" class=\"dataframe\">\n",
       "  <thead>\n",
       "    <tr style=\"text-align: right;\">\n",
       "      <th></th>\n",
       "      <th>x_0</th>\n",
       "      <th>y_0</th>\n",
       "      <th>z_0</th>\n",
       "      <th>x_1</th>\n",
       "      <th>y_1</th>\n",
       "      <th>z_1</th>\n",
       "      <th>x_2</th>\n",
       "      <th>y_2</th>\n",
       "      <th>z_2</th>\n",
       "      <th>x_3</th>\n",
       "      <th>...</th>\n",
       "      <th>z_17</th>\n",
       "      <th>x_18</th>\n",
       "      <th>y_18</th>\n",
       "      <th>z_18</th>\n",
       "      <th>x_19</th>\n",
       "      <th>y_19</th>\n",
       "      <th>z_19</th>\n",
       "      <th>x_20</th>\n",
       "      <th>y_20</th>\n",
       "      <th>z_20</th>\n",
       "    </tr>\n",
       "  </thead>\n",
       "  <tbody>\n",
       "    <tr>\n",
       "      <th>0</th>\n",
       "      <td>0.0</td>\n",
       "      <td>0.0</td>\n",
       "      <td>0.0</td>\n",
       "      <td>-0.049028</td>\n",
       "      <td>-0.035093</td>\n",
       "      <td>-0.017194</td>\n",
       "      <td>-0.079343</td>\n",
       "      <td>-0.131463</td>\n",
       "      <td>-0.021312</td>\n",
       "      <td>-0.092285</td>\n",
       "      <td>...</td>\n",
       "      <td>-0.019461</td>\n",
       "      <td>0.051761</td>\n",
       "      <td>-0.303027</td>\n",
       "      <td>-0.030095</td>\n",
       "      <td>0.056748</td>\n",
       "      <td>-0.351968</td>\n",
       "      <td>-0.033856</td>\n",
       "      <td>0.058140</td>\n",
       "      <td>-0.396660</td>\n",
       "      <td>-0.036296</td>\n",
       "    </tr>\n",
       "    <tr>\n",
       "      <th>1</th>\n",
       "      <td>0.0</td>\n",
       "      <td>0.0</td>\n",
       "      <td>0.0</td>\n",
       "      <td>-0.049619</td>\n",
       "      <td>-0.039207</td>\n",
       "      <td>-0.016461</td>\n",
       "      <td>-0.079816</td>\n",
       "      <td>-0.132695</td>\n",
       "      <td>-0.020940</td>\n",
       "      <td>-0.092047</td>\n",
       "      <td>...</td>\n",
       "      <td>-0.019911</td>\n",
       "      <td>0.052290</td>\n",
       "      <td>-0.301836</td>\n",
       "      <td>-0.029950</td>\n",
       "      <td>0.056986</td>\n",
       "      <td>-0.350153</td>\n",
       "      <td>-0.033708</td>\n",
       "      <td>0.057934</td>\n",
       "      <td>-0.393440</td>\n",
       "      <td>-0.036319</td>\n",
       "    </tr>\n",
       "    <tr>\n",
       "      <th>2</th>\n",
       "      <td>0.0</td>\n",
       "      <td>0.0</td>\n",
       "      <td>0.0</td>\n",
       "      <td>-0.050531</td>\n",
       "      <td>-0.036170</td>\n",
       "      <td>-0.018123</td>\n",
       "      <td>-0.080477</td>\n",
       "      <td>-0.132437</td>\n",
       "      <td>-0.022754</td>\n",
       "      <td>-0.093391</td>\n",
       "      <td>...</td>\n",
       "      <td>-0.018001</td>\n",
       "      <td>0.051522</td>\n",
       "      <td>-0.301766</td>\n",
       "      <td>-0.028751</td>\n",
       "      <td>0.056262</td>\n",
       "      <td>-0.350737</td>\n",
       "      <td>-0.032950</td>\n",
       "      <td>0.057547</td>\n",
       "      <td>-0.396092</td>\n",
       "      <td>-0.035761</td>\n",
       "    </tr>\n",
       "    <tr>\n",
       "      <th>3</th>\n",
       "      <td>0.0</td>\n",
       "      <td>0.0</td>\n",
       "      <td>0.0</td>\n",
       "      <td>0.071293</td>\n",
       "      <td>-0.033885</td>\n",
       "      <td>-0.014923</td>\n",
       "      <td>0.111072</td>\n",
       "      <td>-0.111365</td>\n",
       "      <td>-0.009179</td>\n",
       "      <td>0.137204</td>\n",
       "      <td>...</td>\n",
       "      <td>0.013775</td>\n",
       "      <td>-0.041646</td>\n",
       "      <td>-0.294241</td>\n",
       "      <td>0.002959</td>\n",
       "      <td>-0.043938</td>\n",
       "      <td>-0.339732</td>\n",
       "      <td>-0.008451</td>\n",
       "      <td>-0.039347</td>\n",
       "      <td>-0.385925</td>\n",
       "      <td>-0.016816</td>\n",
       "    </tr>\n",
       "    <tr>\n",
       "      <th>4</th>\n",
       "      <td>0.0</td>\n",
       "      <td>0.0</td>\n",
       "      <td>0.0</td>\n",
       "      <td>0.058670</td>\n",
       "      <td>-0.044052</td>\n",
       "      <td>-0.010591</td>\n",
       "      <td>0.086752</td>\n",
       "      <td>-0.130587</td>\n",
       "      <td>-0.007411</td>\n",
       "      <td>0.103335</td>\n",
       "      <td>...</td>\n",
       "      <td>-0.012191</td>\n",
       "      <td>-0.055935</td>\n",
       "      <td>-0.269693</td>\n",
       "      <td>-0.027668</td>\n",
       "      <td>-0.060291</td>\n",
       "      <td>-0.316134</td>\n",
       "      <td>-0.038729</td>\n",
       "      <td>-0.058463</td>\n",
       "      <td>-0.364018</td>\n",
       "      <td>-0.046211</td>\n",
       "    </tr>\n",
       "  </tbody>\n",
       "</table>\n",
       "<p>5 rows × 63 columns</p>\n",
       "</div>"
      ],
      "text/plain": [
       "   x_0  y_0  z_0       x_1       y_1       z_1       x_2       y_2       z_2  \\\n",
       "0  0.0  0.0  0.0 -0.049028 -0.035093 -0.017194 -0.079343 -0.131463 -0.021312   \n",
       "1  0.0  0.0  0.0 -0.049619 -0.039207 -0.016461 -0.079816 -0.132695 -0.020940   \n",
       "2  0.0  0.0  0.0 -0.050531 -0.036170 -0.018123 -0.080477 -0.132437 -0.022754   \n",
       "3  0.0  0.0  0.0  0.071293 -0.033885 -0.014923  0.111072 -0.111365 -0.009179   \n",
       "4  0.0  0.0  0.0  0.058670 -0.044052 -0.010591  0.086752 -0.130587 -0.007411   \n",
       "\n",
       "        x_3  ...      z_17      x_18      y_18      z_18      x_19      y_19  \\\n",
       "0 -0.092285  ... -0.019461  0.051761 -0.303027 -0.030095  0.056748 -0.351968   \n",
       "1 -0.092047  ... -0.019911  0.052290 -0.301836 -0.029950  0.056986 -0.350153   \n",
       "2 -0.093391  ... -0.018001  0.051522 -0.301766 -0.028751  0.056262 -0.350737   \n",
       "3  0.137204  ...  0.013775 -0.041646 -0.294241  0.002959 -0.043938 -0.339732   \n",
       "4  0.103335  ... -0.012191 -0.055935 -0.269693 -0.027668 -0.060291 -0.316134   \n",
       "\n",
       "       z_19      x_20      y_20      z_20  \n",
       "0 -0.033856  0.058140 -0.396660 -0.036296  \n",
       "1 -0.033708  0.057934 -0.393440 -0.036319  \n",
       "2 -0.032950  0.057547 -0.396092 -0.035761  \n",
       "3 -0.008451 -0.039347 -0.385925 -0.016816  \n",
       "4 -0.038729 -0.058463 -0.364018 -0.046211  \n",
       "\n",
       "[5 rows x 63 columns]"
      ]
     },
     "execution_count": 74,
     "metadata": {},
     "output_type": "execute_result"
    }
   ],
   "source": [
    "X_7 = df_7.drop(columns=['target'])\n",
    "X_7.head()"
   ]
  },
  {
   "cell_type": "code",
   "execution_count": 75,
   "metadata": {},
   "outputs": [
    {
     "data": {
      "text/plain": [
       "0    a\n",
       "1    a\n",
       "2    a\n",
       "3    a\n",
       "4    a\n",
       "Name: target, dtype: object"
      ]
     },
     "execution_count": 75,
     "metadata": {},
     "output_type": "execute_result"
    }
   ],
   "source": [
    "y_7 = df_7['target']\n",
    "y_7.head()"
   ]
  },
  {
   "cell_type": "code",
   "execution_count": 76,
   "id": "8d98a2c1",
   "metadata": {},
   "outputs": [
    {
     "data": {
      "text/plain": [
       "array(['a', 'c', 'b'], dtype=object)"
      ]
     },
     "execution_count": 76,
     "metadata": {},
     "output_type": "execute_result"
    }
   ],
   "source": [
    "y_7.unique()"
   ]
  },
  {
   "cell_type": "code",
   "execution_count": 77,
   "id": "f42c8019",
   "metadata": {},
   "outputs": [
    {
     "data": {
      "text/plain": [
       "array([0, 0, 0, 0, 0, 0, 0, 0, 0, 0, 0, 0, 0, 0, 0, 0, 0, 2, 2, 2, 2, 2,\n",
       "       2, 2, 2, 2, 2, 1, 1, 1, 1, 1, 1, 1, 1, 1, 1])"
      ]
     },
     "execution_count": 77,
     "metadata": {},
     "output_type": "execute_result"
    }
   ],
   "source": [
    "y_7_encoded = encoder.fit_transform(y_7)\n",
    "y_7_encoded"
   ]
  },
  {
   "cell_type": "code",
   "execution_count": 78,
   "metadata": {},
   "outputs": [
    {
     "name": "stdout",
     "output_type": "stream",
     "text": [
      "2/2 [==============================] - 1s 140ms/step - loss: 21.0432 - accuracy: 0.2703\n"
     ]
    },
    {
     "data": {
      "text/plain": [
       "[21.04318618774414, 0.2702702581882477]"
      ]
     },
     "execution_count": 78,
     "metadata": {},
     "output_type": "execute_result"
    }
   ],
   "source": [
    "model_LSTM8.evaluate(X_7, y_7_encoded, verbose = 1)"
   ]
  },
  {
   "cell_type": "code",
   "execution_count": 79,
   "metadata": {},
   "outputs": [
    {
     "name": "stdout",
     "output_type": "stream",
     "text": [
      "2/2 [==============================] - 0s 78ms/step - loss: 27804.2656 - accuracy: 0.4054\n"
     ]
    },
    {
     "data": {
      "text/plain": [
       "[27804.265625, 0.4054054021835327]"
      ]
     },
     "execution_count": 79,
     "metadata": {},
     "output_type": "execute_result"
    }
   ],
   "source": [
    "model_LSTM9.evaluate(X_7, y_7_encoded, verbose = 1)"
   ]
  },
  {
   "attachments": {},
   "cell_type": "markdown",
   "id": "9127f8db",
   "metadata": {},
   "source": [
    "# Problème sur le dataset test7"
   ]
  },
  {
   "attachments": {},
   "cell_type": "markdown",
   "id": "250bf694",
   "metadata": {},
   "source": [
    "----------------------------"
   ]
  },
  {
   "attachments": {},
   "cell_type": "markdown",
   "id": "2c184d85",
   "metadata": {},
   "source": [
    "---------------------------"
   ]
  },
  {
   "cell_type": "code",
   "execution_count": 85,
   "id": "249a5a07",
   "metadata": {},
   "outputs": [
    {
     "data": {
      "text/html": [
       "<div>\n",
       "<style scoped>\n",
       "    .dataframe tbody tr th:only-of-type {\n",
       "        vertical-align: middle;\n",
       "    }\n",
       "\n",
       "    .dataframe tbody tr th {\n",
       "        vertical-align: top;\n",
       "    }\n",
       "\n",
       "    .dataframe thead th {\n",
       "        text-align: right;\n",
       "    }\n",
       "</style>\n",
       "<table border=\"1\" class=\"dataframe\">\n",
       "  <thead>\n",
       "    <tr style=\"text-align: right;\">\n",
       "      <th></th>\n",
       "      <th>x_0</th>\n",
       "      <th>y_0</th>\n",
       "      <th>z_0</th>\n",
       "      <th>x_1</th>\n",
       "      <th>y_1</th>\n",
       "      <th>z_1</th>\n",
       "      <th>x_2</th>\n",
       "      <th>y_2</th>\n",
       "      <th>z_2</th>\n",
       "      <th>x_3</th>\n",
       "      <th>...</th>\n",
       "      <th>x_18</th>\n",
       "      <th>y_18</th>\n",
       "      <th>z_18</th>\n",
       "      <th>x_19</th>\n",
       "      <th>y_19</th>\n",
       "      <th>z_19</th>\n",
       "      <th>x_20</th>\n",
       "      <th>y_20</th>\n",
       "      <th>z_20</th>\n",
       "      <th>target</th>\n",
       "    </tr>\n",
       "  </thead>\n",
       "  <tbody>\n",
       "    <tr>\n",
       "      <th>0</th>\n",
       "      <td>0.0</td>\n",
       "      <td>0.0</td>\n",
       "      <td>0.0</td>\n",
       "      <td>0.059486</td>\n",
       "      <td>-0.036222</td>\n",
       "      <td>-0.012454</td>\n",
       "      <td>0.107840</td>\n",
       "      <td>-0.118809</td>\n",
       "      <td>-0.014761</td>\n",
       "      <td>0.131840</td>\n",
       "      <td>...</td>\n",
       "      <td>-0.002299</td>\n",
       "      <td>-0.250366</td>\n",
       "      <td>-0.036637</td>\n",
       "      <td>0.001682</td>\n",
       "      <td>-0.180719</td>\n",
       "      <td>-0.025070</td>\n",
       "      <td>-0.006088</td>\n",
       "      <td>-0.149848</td>\n",
       "      <td>-0.010498</td>\n",
       "      <td>a</td>\n",
       "    </tr>\n",
       "    <tr>\n",
       "      <th>1</th>\n",
       "      <td>0.0</td>\n",
       "      <td>0.0</td>\n",
       "      <td>0.0</td>\n",
       "      <td>0.056375</td>\n",
       "      <td>-0.030895</td>\n",
       "      <td>-0.013651</td>\n",
       "      <td>0.105151</td>\n",
       "      <td>-0.109864</td>\n",
       "      <td>-0.015729</td>\n",
       "      <td>0.126878</td>\n",
       "      <td>...</td>\n",
       "      <td>-0.006392</td>\n",
       "      <td>-0.242685</td>\n",
       "      <td>-0.035309</td>\n",
       "      <td>-0.003927</td>\n",
       "      <td>-0.173864</td>\n",
       "      <td>-0.024213</td>\n",
       "      <td>-0.011121</td>\n",
       "      <td>-0.143279</td>\n",
       "      <td>-0.009484</td>\n",
       "      <td>a</td>\n",
       "    </tr>\n",
       "    <tr>\n",
       "      <th>2</th>\n",
       "      <td>0.0</td>\n",
       "      <td>0.0</td>\n",
       "      <td>0.0</td>\n",
       "      <td>0.058103</td>\n",
       "      <td>-0.029947</td>\n",
       "      <td>-0.013609</td>\n",
       "      <td>0.106624</td>\n",
       "      <td>-0.107988</td>\n",
       "      <td>-0.015668</td>\n",
       "      <td>0.129016</td>\n",
       "      <td>...</td>\n",
       "      <td>-0.005597</td>\n",
       "      <td>-0.242941</td>\n",
       "      <td>-0.035809</td>\n",
       "      <td>-0.003314</td>\n",
       "      <td>-0.173349</td>\n",
       "      <td>-0.024636</td>\n",
       "      <td>-0.010236</td>\n",
       "      <td>-0.142653</td>\n",
       "      <td>-0.009800</td>\n",
       "      <td>a</td>\n",
       "    </tr>\n",
       "    <tr>\n",
       "      <th>3</th>\n",
       "      <td>0.0</td>\n",
       "      <td>0.0</td>\n",
       "      <td>0.0</td>\n",
       "      <td>0.057904</td>\n",
       "      <td>-0.029756</td>\n",
       "      <td>-0.013850</td>\n",
       "      <td>0.107016</td>\n",
       "      <td>-0.106652</td>\n",
       "      <td>-0.016139</td>\n",
       "      <td>0.130632</td>\n",
       "      <td>...</td>\n",
       "      <td>-0.003888</td>\n",
       "      <td>-0.241909</td>\n",
       "      <td>-0.034302</td>\n",
       "      <td>-0.001037</td>\n",
       "      <td>-0.172777</td>\n",
       "      <td>-0.023272</td>\n",
       "      <td>-0.008096</td>\n",
       "      <td>-0.142350</td>\n",
       "      <td>-0.009026</td>\n",
       "      <td>a</td>\n",
       "    </tr>\n",
       "    <tr>\n",
       "      <th>4</th>\n",
       "      <td>0.0</td>\n",
       "      <td>0.0</td>\n",
       "      <td>0.0</td>\n",
       "      <td>0.057924</td>\n",
       "      <td>-0.031574</td>\n",
       "      <td>-0.013964</td>\n",
       "      <td>0.107226</td>\n",
       "      <td>-0.110486</td>\n",
       "      <td>-0.016251</td>\n",
       "      <td>0.130673</td>\n",
       "      <td>...</td>\n",
       "      <td>-0.003647</td>\n",
       "      <td>-0.245120</td>\n",
       "      <td>-0.035645</td>\n",
       "      <td>-0.000809</td>\n",
       "      <td>-0.175798</td>\n",
       "      <td>-0.024876</td>\n",
       "      <td>-0.008024</td>\n",
       "      <td>-0.144761</td>\n",
       "      <td>-0.010647</td>\n",
       "      <td>a</td>\n",
       "    </tr>\n",
       "  </tbody>\n",
       "</table>\n",
       "<p>5 rows × 64 columns</p>\n",
       "</div>"
      ],
      "text/plain": [
       "   x_0  y_0  z_0       x_1       y_1       z_1       x_2       y_2       z_2  \\\n",
       "0  0.0  0.0  0.0  0.059486 -0.036222 -0.012454  0.107840 -0.118809 -0.014761   \n",
       "1  0.0  0.0  0.0  0.056375 -0.030895 -0.013651  0.105151 -0.109864 -0.015729   \n",
       "2  0.0  0.0  0.0  0.058103 -0.029947 -0.013609  0.106624 -0.107988 -0.015668   \n",
       "3  0.0  0.0  0.0  0.057904 -0.029756 -0.013850  0.107016 -0.106652 -0.016139   \n",
       "4  0.0  0.0  0.0  0.057924 -0.031574 -0.013964  0.107226 -0.110486 -0.016251   \n",
       "\n",
       "        x_3  ...      x_18      y_18      z_18      x_19      y_19      z_19  \\\n",
       "0  0.131840  ... -0.002299 -0.250366 -0.036637  0.001682 -0.180719 -0.025070   \n",
       "1  0.126878  ... -0.006392 -0.242685 -0.035309 -0.003927 -0.173864 -0.024213   \n",
       "2  0.129016  ... -0.005597 -0.242941 -0.035809 -0.003314 -0.173349 -0.024636   \n",
       "3  0.130632  ... -0.003888 -0.241909 -0.034302 -0.001037 -0.172777 -0.023272   \n",
       "4  0.130673  ... -0.003647 -0.245120 -0.035645 -0.000809 -0.175798 -0.024876   \n",
       "\n",
       "       x_20      y_20      z_20  target  \n",
       "0 -0.006088 -0.149848 -0.010498       a  \n",
       "1 -0.011121 -0.143279 -0.009484       a  \n",
       "2 -0.010236 -0.142653 -0.009800       a  \n",
       "3 -0.008096 -0.142350 -0.009026       a  \n",
       "4 -0.008024 -0.144761 -0.010647       a  \n",
       "\n",
       "[5 rows x 64 columns]"
      ]
     },
     "execution_count": 85,
     "metadata": {},
     "output_type": "execute_result"
    }
   ],
   "source": [
    "df_9 = fetch_data_from_BQ('test_dataset.test9')\n",
    "df_9.head()"
   ]
  },
  {
   "cell_type": "code",
   "execution_count": 80,
   "id": "c16b3632",
   "metadata": {},
   "outputs": [
    {
     "data": {
      "text/plain": [
       "0    a\n",
       "1    a\n",
       "2    a\n",
       "3    a\n",
       "4    a\n",
       "Name: target, dtype: object"
      ]
     },
     "execution_count": 80,
     "metadata": {},
     "output_type": "execute_result"
    }
   ],
   "source": [
    "X_9 = df_9.drop(columns=['target'])\n",
    "y_9 = df_9['target']\n",
    "y_9.head()"
   ]
  },
  {
   "cell_type": "code",
   "execution_count": 81,
   "id": "832c6215",
   "metadata": {},
   "outputs": [
    {
     "data": {
      "text/plain": [
       "array(['a', 'b'], dtype=object)"
      ]
     },
     "execution_count": 81,
     "metadata": {},
     "output_type": "execute_result"
    }
   ],
   "source": [
    "y_9.unique()"
   ]
  },
  {
   "cell_type": "code",
   "execution_count": 82,
   "id": "906244fc",
   "metadata": {},
   "outputs": [
    {
     "data": {
      "text/plain": [
       "array([0, 0, 0, 0, 0, 0, 0, 0, 0, 0, 1, 1, 1, 1, 1, 1, 1, 1, 1, 1])"
      ]
     },
     "execution_count": 82,
     "metadata": {},
     "output_type": "execute_result"
    }
   ],
   "source": [
    "y_9_encoded = encoder.fit_transform(y_9)\n",
    "y_9_encoded"
   ]
  },
  {
   "cell_type": "code",
   "execution_count": 83,
   "id": "9e3ee066",
   "metadata": {},
   "outputs": [
    {
     "name": "stdout",
     "output_type": "stream",
     "text": [
      "1/1 [==============================] - 0s 287ms/step - loss: 0.0014 - accuracy: 1.0000\n"
     ]
    },
    {
     "data": {
      "text/plain": [
       "[0.0014318600296974182, 1.0]"
      ]
     },
     "execution_count": 83,
     "metadata": {},
     "output_type": "execute_result"
    }
   ],
   "source": [
    "model_LSTM8.evaluate(X_9, y_9_encoded, verbose = 1)"
   ]
  },
  {
   "cell_type": "code",
   "execution_count": 84,
   "id": "729e2b30",
   "metadata": {},
   "outputs": [
    {
     "name": "stdout",
     "output_type": "stream",
     "text": [
      "1/1 [==============================] - 0s 156ms/step - loss: 3.5763e-08 - accuracy: 1.0000\n"
     ]
    },
    {
     "data": {
      "text/plain": [
       "[3.576278473360617e-08, 1.0]"
      ]
     },
     "execution_count": 84,
     "metadata": {},
     "output_type": "execute_result"
    }
   ],
   "source": [
    "model_LSTM9.evaluate(X_9, y_9_encoded, verbose = 1)"
   ]
  },
  {
   "attachments": {},
   "cell_type": "markdown",
   "id": "fd577ad0",
   "metadata": {},
   "source": [
    "## DATASET 9 ok"
   ]
  },
  {
   "attachments": {},
   "cell_type": "markdown",
   "id": "978190e6",
   "metadata": {},
   "source": [
    "# model_LSTM8 et model_LSTM9 ok"
   ]
  }
 ],
 "metadata": {
  "kernelspec": {
   "display_name": "Python 3 (ipykernel)",
   "language": "python",
   "name": "python3"
  },
  "language_info": {
   "codemirror_mode": {
    "name": "ipython",
    "version": 3
   },
   "file_extension": ".py",
   "mimetype": "text/x-python",
   "name": "python",
   "nbconvert_exporter": "python",
   "pygments_lexer": "ipython3",
   "version": "3.10.6"
  },
  "toc": {
   "base_numbering": 1,
   "nav_menu": {},
   "number_sections": true,
   "sideBar": true,
   "skip_h1_title": false,
   "title_cell": "Table of Contents",
   "title_sidebar": "Contents",
   "toc_cell": false,
   "toc_position": {},
   "toc_section_display": true,
   "toc_window_display": false
  }
 },
 "nbformat": 4,
 "nbformat_minor": 5
}
