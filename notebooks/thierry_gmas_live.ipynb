{
 "cells": [
  {
   "cell_type": "code",
   "execution_count": 2,
   "id": "ff1fa694",
   "metadata": {},
   "outputs": [],
   "source": [
    "import pandas as pd\n",
    "#from google.cloud import bigquery\n",
    "#from google.oauth2 import service_account\n",
    "#from params.py import PROJECT_ID, TABLE_ID\n",
    "import sys; sys.path.append('..')\n",
    "#sys.path.append('../..')\n",
    "#from params import PROJECT_ID, TABLE_ID\n",
    "#from data_extraction import get_coordinates_from_collection\n",
    "#from utils import delete_local_enchantillon\n"
   ]
  },
  {
   "cell_type": "code",
   "execution_count": 36,
   "id": "ba55a21b",
   "metadata": {},
   "outputs": [],
   "source": [
    "import pickle\n",
    "\n",
    "def upload_model(model, name_of_model):\n",
    "    with open(f'model.{name_of_model}', 'wb') as file:\n",
    "        pickle.dump(model, file)\n",
    "\n",
    "\n",
    "def load_model(name_of_the_model=False):\n",
    "    if name_of_the_model == False:\n",
    "        with open('model.randomfo', 'rb') as file:\n",
    "            loaded_model = pickle.load(file)\n",
    "        return loaded_model\n",
    "    else:\n",
    "        with open(name_of_the_model, 'rb') as file:\n",
    "            loaded_model = pickle.load(file)\n",
    "        return loaded_model"
   ]
  },
  {
   "cell_type": "code",
   "execution_count": 37,
   "id": "2c193e9e",
   "metadata": {},
   "outputs": [],
   "source": [
    "model_eval = load_model('model.model_LSTM9')"
   ]
  },
  {
   "cell_type": "code",
   "execution_count": 43,
   "id": "653d255f",
   "metadata": {},
   "outputs": [],
   "source": [
    "import os\n",
    "import cv2\n",
    "import string\n",
    "import uuid\n",
    "import time\n",
    "import numpy as np\n",
    "import mediapipe as mp\n",
    "import pandas as pd"
   ]
  },
  {
   "cell_type": "code",
   "execution_count": 44,
   "id": "73337d5d",
   "metadata": {},
   "outputs": [],
   "source": [
    "def get_coordinates_live(frame):\n",
    "    \"\"\"\n",
    "    Récupère toutes les coords de la main d'une image et stocke dans un dictionnaire\n",
    "    \"\"\"\n",
    "    mp_hands = mp.solutions.hands\n",
    "    hands = mp_hands.Hands(static_image_mode=True, min_detection_confidence=0.3)\n",
    "\n",
    "    #img = cv2.imread(image)\n",
    "\n",
    "    #img_rgb = cv2.cvtColor(img, cv2.COLOR_BGR2RGB)\n",
    "    img_rgb = cv2.cvtColor(frame, cv2.COLOR_BGR2RGB)\n",
    "\n",
    "    results = hands.process(img_rgb)\n",
    "\n",
    "    coords={}\n",
    "    if results.multi_hand_landmarks:\n",
    "        for hand_landmarks in results.multi_hand_landmarks:\n",
    "            wrist_x = hand_landmarks.landmark[mp_hands.HandLandmark.WRIST].x\n",
    "            wrist_y = hand_landmarks.landmark[mp_hands.HandLandmark.WRIST].y\n",
    "            wrist_z = hand_landmarks.landmark[mp_hands.HandLandmark.WRIST].z\n",
    "\n",
    "            for i in range(len(hand_landmarks.landmark)):\n",
    "                x = hand_landmarks.landmark[i].x\n",
    "                y = hand_landmarks.landmark[i].y\n",
    "                z = hand_landmarks.landmark[i].z\n",
    "\n",
    "                coords[f\"x_{i}\"]= x - wrist_x\n",
    "                coords[f\"y_{i}\"]= y - wrist_y\n",
    "                coords[f\"z_{i}\"]= z - wrist_z\n",
    "\n",
    "    return coords"
   ]
  },
  {
   "cell_type": "code",
   "execution_count": 61,
   "metadata": {},
   "outputs": [],
   "source": [
    "def gmas_live(list_signs):\n",
    "    \n",
    "    cap = cv2.VideoCapture(0)\n",
    "\n",
    "    ok = 'o'\n",
    "    while True:\n",
    "        ret, frame = cap.read()\n",
    "        cv2.putText(frame, f'Ready? Press \"{ok}\" ! :)', (100, 50), cv2.FONT_HERSHEY_SIMPLEX, 1.3, (0, 255, 0), 3,\n",
    "                    cv2.LINE_AA)\n",
    "        cv2.imshow('frame', frame)\n",
    "        if cv2.waitKey(25) == ord(ok):\n",
    "            break\n",
    "    \n",
    "    \n",
    "    please_stop = 'q'\n",
    "    coord_frame = []\n",
    "    dataset_size = 10\n",
    "    counter = 0\n",
    "    while counter < dataset_size:\n",
    "        coord_frame = []\n",
    "        ret, frame = cap.read()\n",
    "        \n",
    "        cv2.imshow('frame', frame)\n",
    "        coords = get_coordinates_live(frame)\n",
    "        coord_frame.append(coords)\n",
    "        df = pd.DataFrame(coord_frame)\n",
    "        \n",
    "        res = model_eval.predict(df)\n",
    "        guess = list_signs[np.argmax(res)]\n",
    "        \n",
    "        cv2.putText(frame, f'My guess \"{guess}\" ! :)', (100, 50), cv2.FONT_HERSHEY_SIMPLEX, 1.3, (0, 255, 0), 3,\n",
    "                    cv2.LINE_AA)\n",
    "        \n",
    "        if cv2.waitKey(2000) == ord(please_stop):\n",
    "            break\n",
    "        \n",
    "        print(f' image : {counter}, la lettre est {guess}', )\n",
    "        counter += 1\n",
    "\n",
    "    cv2.destroyAllWindows()\n",
    "    cap.release()\n",
    "    cv2.destroyAllWindows()\n",
    "    \n",
    "\n",
    "pass\n",
    "\n"
   ]
  },
  {
   "cell_type": "code",
   "execution_count": 62,
   "id": "3f0c67e6",
   "metadata": {},
   "outputs": [],
   "source": [
    "list_signs = [\"A\", \"B\", \"C\"]\n"
   ]
  },
  {
   "cell_type": "code",
   "execution_count": 63,
   "id": "f02f3c20",
   "metadata": {},
   "outputs": [
    {
     "name": "stdout",
     "output_type": "stream",
     "text": [
      "1/1 [==============================] - 0s 56ms/step\n",
      " image : 0, la lettre est A\n",
      "1/1 [==============================] - 0s 63ms/step\n",
      " image : 1, la lettre est A\n",
      "1/1 [==============================] - 0s 63ms/step\n",
      " image : 2, la lettre est C\n",
      "1/1 [==============================] - 0s 65ms/step\n",
      " image : 3, la lettre est B\n",
      "1/1 [==============================] - 0s 55ms/step\n",
      " image : 4, la lettre est C\n",
      "1/1 [==============================] - 0s 51ms/step\n",
      " image : 5, la lettre est C\n",
      "1/1 [==============================] - 0s 56ms/step\n",
      " image : 6, la lettre est C\n",
      "1/1 [==============================] - 0s 54ms/step\n",
      " image : 7, la lettre est A\n",
      "1/1 [==============================] - 0s 52ms/step\n",
      " image : 8, la lettre est A\n",
      "1/1 [==============================] - 0s 53ms/step\n",
      " image : 9, la lettre est B\n"
     ]
    },
    {
     "ename": "",
     "evalue": "",
     "output_type": "error",
     "traceback": [
      "\u001b[1;31mThe Kernel crashed while executing code in the the current cell or a previous cell. Please review the code in the cell(s) to identify a possible cause of the failure. Click <a href='https://aka.ms/vscodeJupyterKernelCrash'>here</a> for more info. View Jupyter <a href='command:jupyter.viewOutput'>log</a> for further details."
     ]
    }
   ],
   "source": [
    "gmas_live(list_signs)\n",
    "cap = cv2.VideoCapture(0)\n",
    "cap.release()\n",
    "cv2.destroyAllWindows()"
   ]
  },
  {
   "cell_type": "code",
   "execution_count": 5,
   "id": "fb3400fe",
   "metadata": {},
   "outputs": [],
   "source": [
    "#cv2.imshow('frame', frame)\n",
    "#cap.release()\n",
    "cv2.destroyAllWindows()"
   ]
  },
  {
   "cell_type": "code",
   "execution_count": null,
   "id": "957577af",
   "metadata": {},
   "outputs": [],
   "source": []
  },
  {
   "cell_type": "code",
   "execution_count": null,
   "id": "d02063dc",
   "metadata": {},
   "outputs": [],
   "source": []
  }
 ],
 "metadata": {
  "kernelspec": {
   "display_name": "Python 3 (ipykernel)",
   "language": "python",
   "name": "python3"
  },
  "language_info": {
   "codemirror_mode": {
    "name": "ipython",
    "version": 3
   },
   "file_extension": ".py",
   "mimetype": "text/x-python",
   "name": "python",
   "nbconvert_exporter": "python",
   "pygments_lexer": "ipython3",
   "version": "3.10.6"
  },
  "toc": {
   "base_numbering": 1,
   "nav_menu": {},
   "number_sections": true,
   "sideBar": true,
   "skip_h1_title": false,
   "title_cell": "Table of Contents",
   "title_sidebar": "Contents",
   "toc_cell": false,
   "toc_position": {},
   "toc_section_display": true,
   "toc_window_display": false
  }
 },
 "nbformat": 4,
 "nbformat_minor": 5
}
